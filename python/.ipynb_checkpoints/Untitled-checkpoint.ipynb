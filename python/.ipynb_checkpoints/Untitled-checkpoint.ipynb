{
 "cells": [
  {
   "cell_type": "code",
   "execution_count": 5,
   "id": "6ce4c3d9-7a9f-4d5a-9a38-bee3081b6b1f",
   "metadata": {},
   "outputs": [
    {
     "name": "stdout",
     "output_type": "stream",
     "text": [
      "crnt data and time:  2024-12-27 09:16:45.157278\n",
      "curnt year:  2024\n",
      "curnt month:  12\n",
      "week number of the year:  52\n",
      "day no of week:  4\n",
      "day no of the year:  362\n",
      "day no. of month:  27\n",
      "day name of week:  Friday\n"
     ]
    }
   ],
   "source": [
    "import datetime\n",
    "crnt_datetime = datetime.datetime.now()\n",
    "print(\"crnt data and time: \",crnt_datetime)\n",
    "print(\"curnt year: \",crnt_datetime.year)\n",
    "print(\"curnt month: \",crnt_datetime.month)\n",
    "print(\"week number of the year: \",crnt_datetime.isocalendar()[1])\n",
    "print(\"day no of week: \",crnt_datetime.weekday())\n",
    "print(\"day no of the year: \",crnt_datetime.timetuple().tm_yday)\n",
    "print(\"day no. of month: \",crnt_datetime.day)\n",
    "print(\"day name of week: \",crnt_datetime.strftime(\"%A\"))"
   ]
  },
  {
   "cell_type": "code",
   "execution_count": 7,
   "id": "b4652ce7-0bd3-45f4-9fb8-24e756b0f5ab",
   "metadata": {},
   "outputs": [
    {
     "name": "stdout",
     "output_type": "stream",
     "text": [
      "Original Stack: [34, 3, 31, 98, 92, 23]\n",
      "Sorted Stack: [3, 23, 31, 34, 92, 98]\n"
     ]
    }
   ],
   "source": [
    "def sort_stack(stack):\n",
    "    # Base case: If the stack is empty, return\n",
    "    if not stack:\n",
    "        return\n",
    "    top = stack.pop()\n",
    "    sort_stack(stack)\n",
    "    insInSatck(stack, top)\n",
    "\n",
    "\n",
    "def insInSatck(stack, element):\n",
    "    if not stack or element < stack[-1]:\n",
    "        stack.append(element)\n",
    "        return\n",
    "    top = stack.pop()\n",
    "    insInSatck(stack, element)\n",
    "    stack.append(top)\n",
    "\n",
    "stack = [34, 3, 31, 98, 92, 23]\n",
    "print(\"Original Stack:\", stack)\n",
    "\n",
    "sort_stack(stack)\n",
    "\n",
    "print(\"Sorted Stack:\", stack)\n"
   ]
  },
  {
   "cell_type": "code",
   "execution_count": 8,
   "id": "12e9a801-857d-4b5c-a12c-71f21c4399bb",
   "metadata": {},
   "outputs": [
    {
     "name": "stdin",
     "output_type": "stream",
     "text": [
      "Enter number of persons:  2\n"
     ]
    },
    {
     "name": "stdout",
     "output_type": "stream",
     "text": [
      "\n",
      "Enter details for person 1:\n"
     ]
    },
    {
     "name": "stdin",
     "output_type": "stream",
     "text": [
      "Enter first name:  shem\n",
      "Enter last name:  vish\n",
      "Enter address:  silchar\n",
      "Enter city:  silcahr\n",
      "Enter state:  assam\n",
      "Enter zip code:  788011\n",
      "Enter phone number:  223223232\n",
      "Enter day of birth:  20\n",
      "Enter month of birth:  06\n",
      "Enter year of birth:  2003\n"
     ]
    },
    {
     "name": "stdout",
     "output_type": "stream",
     "text": [
      "\n",
      "Enter details for person 2:\n"
     ]
    },
    {
     "name": "stdin",
     "output_type": "stream",
     "text": [
      "Enter first name:  paavab\n",
      "Enter last name:  vish\n",
      "Enter address:  snehmilan\n",
      "Enter city:  surat\n",
      "Enter state:  Gujarat\n",
      "Enter zip code:  394230\n",
      "Enter phone number:  704112323\n",
      "Enter day of birth:  3\n",
      "Enter month of birth:  4\n",
      "Enter year of birth:  2001\n"
     ]
    },
    {
     "name": "stdout",
     "output_type": "stream",
     "text": [
      "\n",
      "Displaying information of all persons:\n",
      "\n",
      "Person 1:\n",
      "Name: shem vish\n",
      "Address: silchar, silcahr, assam, 788011\n",
      "Phone No: 223223232\n",
      "DOB: 20/6/2003\n",
      "\n",
      "Person 2:\n",
      "Name: paavab vish\n",
      "Address: snehmilan, surat, Gujarat, 394230\n",
      "Phone No: 704112323\n",
      "DOB: 3/4/2001\n"
     ]
    }
   ],
   "source": [
    "class Person:\n",
    "    class DOB:\n",
    "        def __init__(self, day, month, year):\n",
    "            self.day = day\n",
    "            self.month = month\n",
    "            self.year = year\n",
    "\n",
    "    # Private constructor\n",
    "    def __init__(self, first_name, last_name, address, city, state, zip_code, phone_no, dob):\n",
    "        self.__first_name = first_name\n",
    "        self.__last_name = last_name\n",
    "        self.__address = address\n",
    "        self.__city = city\n",
    "        self.__state = state\n",
    "        self.__zip_code = zip_code\n",
    "        self.__phone_no = phone_no\n",
    "        self.__dob = dob\n",
    "\n",
    "    # Getter functions\n",
    "    def get_first_name(self):\n",
    "        return self.__first_name\n",
    "    \n",
    "    def get_last_name(self):\n",
    "        return self.__last_name\n",
    "    \n",
    "    def get_address(self):\n",
    "        return self.__address\n",
    "    \n",
    "    def get_city(self):\n",
    "        return self.__city\n",
    "    \n",
    "    def get_state(self):\n",
    "        return self.__state\n",
    "    \n",
    "    def get_zip_code(self):\n",
    "        return self.__zip_code\n",
    "    \n",
    "    def get_phone_no(self):\n",
    "        return self.__phone_no\n",
    "    \n",
    "    def get_dob(self):\n",
    "        return self.__dob\n",
    "\n",
    "    # Setter functions\n",
    "    def set_first_name(self, first_name):\n",
    "        self.__first_name = first_name\n",
    "\n",
    "    def set_last_name(self, last_name):\n",
    "        self.__last_name = last_name\n",
    "\n",
    "    def set_address(self, address):\n",
    "        self.__address = address\n",
    "\n",
    "    def set_city(self, city):\n",
    "        self.__city = city\n",
    "\n",
    "    def set_state(self, state):\n",
    "        self.__state = state\n",
    "\n",
    "    def set_zip_code(self, zip_code):\n",
    "        self.__zip_code = zip_code\n",
    "\n",
    "    def set_phone_no(self, phone_no):\n",
    "        self.__phone_no = phone_no\n",
    "\n",
    "    def set_dob(self, dob):\n",
    "        self.__dob = dob\n",
    "\n",
    "    # Static function to create objects of type Person\n",
    "    @staticmethod\n",
    "    def create_person():\n",
    "        first_name = input(\"Enter first name: \")\n",
    "        last_name = input(\"Enter last name: \")\n",
    "        address = input(\"Enter address: \")\n",
    "        city = input(\"Enter city: \")\n",
    "        state = input(\"Enter state: \")\n",
    "        zip_code = input(\"Enter zip code: \")\n",
    "        phone_no = input(\"Enter phone number: \")\n",
    "        day = int(input(\"Enter day of birth: \"))\n",
    "        month = int(input(\"Enter month of birth: \"))\n",
    "        year = int(input(\"Enter year of birth: \"))\n",
    "        dob = Person.DOB(day, month, year)\n",
    "        \n",
    "        # Create and return a new Person object\n",
    "        return Person(first_name, last_name, address, city, state, zip_code, phone_no, dob)\n",
    "\n",
    "    # Constant function to display person details\n",
    "    def display_person(self):\n",
    "        print(f\"Name: {self.get_first_name()} {self.get_last_name()}\")\n",
    "        print(f\"Address: {self.get_address()}, {self.get_city()}, {self.get_state()}, {self.get_zip_code()}\")\n",
    "        print(f\"Phone No: {self.get_phone_no()}\")\n",
    "        dob = self.get_dob()\n",
    "        print(f\"DOB: {dob.day}/{dob.month}/{dob.year}\")\n",
    "\n",
    "# Main function\n",
    "def main():\n",
    "    # Ask user how many people to create\n",
    "    n = int(input(\"Enter number of persons: \"))\n",
    "    \n",
    "    persons = []\n",
    "    \n",
    "    # Create objects using static function and store them in the array\n",
    "    for i in range(n):\n",
    "        print(f\"\\nEnter details for person {i + 1}:\")\n",
    "        person = Person.create_person()\n",
    "        persons.append(person)\n",
    "    \n",
    "    # Display the information of all persons using constant function\n",
    "    print(\"\\nDisplaying information of all persons:\")\n",
    "    for i, person in enumerate(persons):\n",
    "        print(f\"\\nPerson {i + 1}:\")\n",
    "        person.display_person()\n",
    "\n",
    "if __name__ == \"__main__\":\n",
    "    main()\n"
   ]
  },
  {
   "cell_type": "code",
   "execution_count": 2,
   "id": "9eee3b04-8e30-4385-9dce-8b9fd5bab69a",
   "metadata": {},
   "outputs": [
    {
     "name": "stdout",
     "output_type": "stream",
     "text": [
      "\n",
      "Linked List Operations Menu:\n",
      "1. Insert a node\n",
      "2. Delete a node\n",
      "3. Display linked list\n",
      "4. Exit\n"
     ]
    },
    {
     "name": "stdin",
     "output_type": "stream",
     "text": [
      "enter your choice (1-4):  1\n",
      "enter the value to insert:  2\n"
     ]
    },
    {
     "name": "stdout",
     "output_type": "stream",
     "text": [
      "\n",
      "Linked List Operations Menu:\n",
      "1. Insert a node\n",
      "2. Delete a node\n",
      "3. Display linked list\n",
      "4. Exit\n"
     ]
    },
    {
     "name": "stdin",
     "output_type": "stream",
     "text": [
      "enter your choice (1-4):  1\n",
      "enter the value to insert:  3\n"
     ]
    },
    {
     "name": "stdout",
     "output_type": "stream",
     "text": [
      "\n",
      "Linked List Operations Menu:\n",
      "1. Insert a node\n",
      "2. Delete a node\n",
      "3. Display linked list\n",
      "4. Exit\n"
     ]
    },
    {
     "name": "stdin",
     "output_type": "stream",
     "text": [
      "enter your choice (1-4):  1\n",
      "enter the value to insert:  5\n"
     ]
    },
    {
     "name": "stdout",
     "output_type": "stream",
     "text": [
      "\n",
      "Linked List Operations Menu:\n",
      "1. Insert a node\n",
      "2. Delete a node\n",
      "3. Display linked list\n",
      "4. Exit\n"
     ]
    },
    {
     "name": "stdin",
     "output_type": "stream",
     "text": [
      "enter your choice (1-4):  2\n",
      "enter the value to delete:  3\n"
     ]
    },
    {
     "name": "stdout",
     "output_type": "stream",
     "text": [
      "\n",
      "Linked List Operations Menu:\n",
      "1. Insert a node\n",
      "2. Delete a node\n",
      "3. Display linked list\n",
      "4. Exit\n"
     ]
    },
    {
     "name": "stdin",
     "output_type": "stream",
     "text": [
      "enter your choice (1-4):  3\n"
     ]
    },
    {
     "name": "stdout",
     "output_type": "stream",
     "text": [
      "2 5 \n",
      "Linked List Operations Menu:\n",
      "1. Insert a node\n",
      "2. Delete a node\n",
      "3. Display linked list\n",
      "4. Exit\n"
     ]
    },
    {
     "name": "stdin",
     "output_type": "stream",
     "text": [
      "enter your choice (1-4):  4\n"
     ]
    },
    {
     "name": "stdout",
     "output_type": "stream",
     "text": [
      "exiting \n"
     ]
    }
   ],
   "source": [
    "## LINKED LIST\n",
    "class node:\n",
    "    def __init__(self,data):\n",
    "      self.data = data\n",
    "      self.next = None\n",
    "class Linkedlist:\n",
    "    def __init__(self):\n",
    "        self.head = None\n",
    "    def display(self):\n",
    "        curnt = self.head\n",
    "        if not curnt:\n",
    "            print(\"linked list is empty \")\n",
    "        else:\n",
    "            while curnt:\n",
    "                print(curnt.data,end=\" \")\n",
    "                curnt = curnt.next\n",
    "    def insert(self,data): \n",
    "        newnode = node(data)\n",
    "        if not self.head:\n",
    "            self.head = newnode\n",
    "        else:\n",
    "            curnt = self.head\n",
    "            while curnt.next:\n",
    "                curnt = curnt.next\n",
    "            curnt.next = newnode\n",
    "\n",
    "    def delete(self,key):\n",
    "        curnt = self.head\n",
    "        prev = None\n",
    "        while curnt and curnt.data != key:\n",
    "            prev = curnt\n",
    "            curnt = curnt.next\n",
    "        if not curnt:\n",
    "            print(\"key no found \")\n",
    "            return\n",
    "        if prev is None:  #deleteing head node\n",
    "            self.head = curnt.next    \n",
    "        else:\n",
    "            prev.next = curnt.next\n",
    "def menu():\n",
    "    print(\"\\nLinked List Operations Menu:\")\n",
    "    print(\"1. Insert a node\")\n",
    "    print(\"2. Delete a node\")\n",
    "    print(\"3. Display linked list\")\n",
    "    print(\"4. Exit\")\n",
    "\n",
    "linkedlist = Linkedlist()\n",
    "while True:\n",
    "    menu()\n",
    "    choice   = int(input(\"enter your choice (1-4): \"))\n",
    "    if choice == 1:\n",
    "        data = int(input(\"enter the value to insert: \"))\n",
    "        linkedlist.insert(data)\n",
    "    elif choice == 2:\n",
    "        key = int(input(\"enter the value to delete: \"))\n",
    "        linkedlist.delete(key)\n",
    "    elif choice == 3:\n",
    "        linkedlist.display()\n",
    "    elif choice == 4:\n",
    "        print(\"exiting \")\n",
    "        break\n",
    "    else:\n",
    "        print(\"invalid chpice.please try again\")\n",
    "    "
   ]
  },
  {
   "cell_type": "code",
   "execution_count": 7,
   "id": "1ed4578f-4a5e-4642-91c4-c7c96edd679a",
   "metadata": {},
   "outputs": [
    {
     "name": "stdout",
     "output_type": "stream",
     "text": [
      "\n",
      "choose operation\n",
      "1.enq \n",
      "2. dq \n",
      "3 .displau \n",
      "4 .exit \n"
     ]
    },
    {
     "name": "stdin",
     "output_type": "stream",
     "text": [
      "enter choice :  1\n",
      "enter data:  4\n"
     ]
    },
    {
     "name": "stdout",
     "output_type": "stream",
     "text": [
      "\n",
      "choose operation\n",
      "1.enq \n",
      "2. dq \n",
      "3 .displau \n",
      "4 .exit \n"
     ]
    },
    {
     "name": "stdin",
     "output_type": "stream",
     "text": [
      "enter choice :  1\n",
      "enter data:  5\n"
     ]
    },
    {
     "name": "stdout",
     "output_type": "stream",
     "text": [
      "\n",
      "choose operation\n",
      "1.enq \n",
      "2. dq \n",
      "3 .displau \n",
      "4 .exit \n"
     ]
    },
    {
     "name": "stdin",
     "output_type": "stream",
     "text": [
      "enter choice :  1\n",
      "enter data:  7\n"
     ]
    },
    {
     "name": "stdout",
     "output_type": "stream",
     "text": [
      "\n",
      "choose operation\n",
      "1.enq \n",
      "2. dq \n",
      "3 .displau \n",
      "4 .exit \n"
     ]
    },
    {
     "name": "stdin",
     "output_type": "stream",
     "text": [
      "enter choice :  1\n",
      "enter data:  8\n"
     ]
    },
    {
     "name": "stdout",
     "output_type": "stream",
     "text": [
      "\n",
      "choose operation\n",
      "1.enq \n",
      "2. dq \n",
      "3 .displau \n",
      "4 .exit \n"
     ]
    },
    {
     "name": "stdin",
     "output_type": "stream",
     "text": [
      "enter choice :  1\n",
      "enter data:  9\n"
     ]
    },
    {
     "name": "stdout",
     "output_type": "stream",
     "text": [
      "\n",
      "choose operation\n",
      "1.enq \n",
      "2. dq \n",
      "3 .displau \n",
      "4 .exit \n"
     ]
    },
    {
     "name": "stdin",
     "output_type": "stream",
     "text": [
      "enter choice :  3\n"
     ]
    },
    {
     "name": "stdout",
     "output_type": "stream",
     "text": [
      "qu content:  [4, 5, 7, 8, 9]\n",
      "\n",
      "choose operation\n",
      "1.enq \n",
      "2. dq \n",
      "3 .displau \n",
      "4 .exit \n"
     ]
    },
    {
     "name": "stdin",
     "output_type": "stream",
     "text": [
      "enter choice :  2\n"
     ]
    },
    {
     "name": "stdout",
     "output_type": "stream",
     "text": [
      "4\n",
      "\n",
      "choose operation\n",
      "1.enq \n",
      "2. dq \n",
      "3 .displau \n",
      "4 .exit \n"
     ]
    },
    {
     "name": "stdin",
     "output_type": "stream",
     "text": [
      "enter choice :  3\n"
     ]
    },
    {
     "name": "stdout",
     "output_type": "stream",
     "text": [
      "qu content:  [5, 7, 8, 9]\n",
      "\n",
      "choose operation\n",
      "1.enq \n",
      "2. dq \n",
      "3 .displau \n",
      "4 .exit \n"
     ]
    },
    {
     "name": "stdin",
     "output_type": "stream",
     "text": [
      "enter choice :  2\n"
     ]
    },
    {
     "name": "stdout",
     "output_type": "stream",
     "text": [
      "5\n",
      "\n",
      "choose operation\n",
      "1.enq \n",
      "2. dq \n",
      "3 .displau \n",
      "4 .exit \n"
     ]
    },
    {
     "name": "stdin",
     "output_type": "stream",
     "text": [
      "enter choice :  3\n"
     ]
    },
    {
     "name": "stdout",
     "output_type": "stream",
     "text": [
      "qu content:  [7, 8, 9]\n",
      "\n",
      "choose operation\n",
      "1.enq \n",
      "2. dq \n",
      "3 .displau \n",
      "4 .exit \n"
     ]
    },
    {
     "name": "stdin",
     "output_type": "stream",
     "text": [
      "enter choice :  4\n"
     ]
    },
    {
     "name": "stdout",
     "output_type": "stream",
     "text": [
      "exiting \n"
     ]
    }
   ],
   "source": [
    "class Qu:\n",
    "    def __init__(self):\n",
    "        self.qu = []\n",
    "    def enq(self,data):\n",
    "        self.qu.append(data)\n",
    "    def dq(self):\n",
    "        if len(self.qu) == 0:\n",
    "            print(\"qu is empty \")\n",
    "            return\n",
    "        item = self.qu.pop(0)\n",
    "        print(item)\n",
    "    def display(self):\n",
    "        if len(self.qu) == 0:\n",
    "            print(\"qu is empty:\")\n",
    "        else:\n",
    "            print(\"qu content: \",self.qu)\n",
    "def menu():\n",
    "    print(\"\\nchoose operation\")\n",
    "    print(\"1.enq \")\n",
    "    print(\"2. dq \")\n",
    "    print(\"3 .displau \")\n",
    "    print(\"4 .exit \")\n",
    "qu1 = Qu()\n",
    "while True:\n",
    "    menu()\n",
    "    choice = int(input(\"enter choice : \"))\n",
    "    if choice == 1:\n",
    "        data = int(input(\"enter data: \"))\n",
    "        qu1.enq(data)\n",
    "    elif choice == 2:\n",
    "        qu1.dq()\n",
    "    elif choice == 3:\n",
    "        qu1.display()\n",
    "    elif choice == 4:\n",
    "        print(\"exiting \")\n",
    "        break\n",
    "    else:\n",
    "        print(\"invalid choice:\")\n",
    "        \n",
    "            "
   ]
  },
  {
   "cell_type": "code",
   "execution_count": 10,
   "id": "c890dbef-b317-49c7-b4d3-6bd75faf96b6",
   "metadata": {},
   "outputs": [
    {
     "name": "stdout",
     "output_type": "stream",
     "text": [
      "\n",
      "Stack Operations\n",
      "1. Push an element\n",
      "2. Pop an element\n",
      "3. Display the stack\n",
      "4. Exit\n"
     ]
    },
    {
     "name": "stdin",
     "output_type": "stream",
     "text": [
      "enter choice:  1\n",
      "enter data:  1\n"
     ]
    },
    {
     "name": "stdout",
     "output_type": "stream",
     "text": [
      "\n",
      "Stack Operations\n",
      "1. Push an element\n",
      "2. Pop an element\n",
      "3. Display the stack\n",
      "4. Exit\n"
     ]
    },
    {
     "name": "stdin",
     "output_type": "stream",
     "text": [
      "enter choice:  1\n",
      "enter data:  2\n"
     ]
    },
    {
     "name": "stdout",
     "output_type": "stream",
     "text": [
      "\n",
      "Stack Operations\n",
      "1. Push an element\n",
      "2. Pop an element\n",
      "3. Display the stack\n",
      "4. Exit\n"
     ]
    },
    {
     "name": "stdin",
     "output_type": "stream",
     "text": [
      "enter choice:  3\n"
     ]
    },
    {
     "name": "stdout",
     "output_type": "stream",
     "text": [
      "[2, 1]\n",
      "\n",
      "Stack Operations\n",
      "1. Push an element\n",
      "2. Pop an element\n",
      "3. Display the stack\n",
      "4. Exit\n"
     ]
    },
    {
     "name": "stdin",
     "output_type": "stream",
     "text": [
      "enter choice:  4\n"
     ]
    },
    {
     "name": "stdout",
     "output_type": "stream",
     "text": [
      "exit\n"
     ]
    }
   ],
   "source": [
    "## satck \n",
    "class Stack:\n",
    "    def __init__(self):\n",
    "        self.stack = []\n",
    "    def push(self,data):\n",
    "        self.stack.append(data)\n",
    "    def pop(self):\n",
    "        if len(self.stack) == 0:\n",
    "            print(\"empty\")\n",
    "        else:\n",
    "            print(self.stack.pop())\n",
    "    def display(self):\n",
    "        if len(self.stack) == 0:\n",
    "            print(\"emptu\")\n",
    "        else:\n",
    "            print(self.stack[::-1])\n",
    "def menu():\n",
    "    print(\"\\nStack Operations\")\n",
    "    print(\"1. Push an element\")\n",
    "    print(\"2. Pop an element\")\n",
    "    print(\"3. Display the stack\")\n",
    "    print(\"4. Exit\")\n",
    "\n",
    "s1 = Stack()\n",
    "while True:\n",
    "    menu()\n",
    "    choice = int(input(\"enter choice: \"))\n",
    "    if choice == 1:\n",
    "                 data = int(input(\"enter data: \"))\n",
    "                 s1.push(data)\n",
    "    elif choice == 2:\n",
    "                 s1.pop()\n",
    "    elif choice == 3:\n",
    "                 s1.display()\n",
    "    elif choice == 4:\n",
    "                  print(\"exit\")\n",
    "                  break\n",
    "    else:\n",
    "        print(\"enter valid choie \")\n",
    "    \n",
    "        \n",
    "                       \n",
    "    \n",
    "            \n",
    "            \n",
    "        "
   ]
  },
  {
   "cell_type": "code",
   "execution_count": 14,
   "id": "fd401de5-de42-4187-97f2-57e348c51d28",
   "metadata": {},
   "outputs": [
    {
     "name": "stdout",
     "output_type": "stream",
     "text": [
      "\n",
      "Linked List Operations Menu:\n",
      "1. Insert a node\n",
      "2. Delete a node\n",
      "3. Display linked list\n",
      "4. Exit\n"
     ]
    },
    {
     "name": "stdin",
     "output_type": "stream",
     "text": [
      "enter your choice (1-4):  1\n",
      "enter the value to insert:  2\n"
     ]
    },
    {
     "name": "stdout",
     "output_type": "stream",
     "text": [
      "\n",
      "Linked List Operations Menu:\n",
      "1. Insert a node\n",
      "2. Delete a node\n",
      "3. Display linked list\n",
      "4. Exit\n"
     ]
    },
    {
     "name": "stdin",
     "output_type": "stream",
     "text": [
      "enter your choice (1-4):  1\n",
      "enter the value to insert:  5\n"
     ]
    },
    {
     "name": "stdout",
     "output_type": "stream",
     "text": [
      "\n",
      "Linked List Operations Menu:\n",
      "1. Insert a node\n",
      "2. Delete a node\n",
      "3. Display linked list\n",
      "4. Exit\n"
     ]
    },
    {
     "name": "stdin",
     "output_type": "stream",
     "text": [
      "enter your choice (1-4):  1\n",
      "enter the value to insert:  9\n"
     ]
    },
    {
     "name": "stdout",
     "output_type": "stream",
     "text": [
      "\n",
      "Linked List Operations Menu:\n",
      "1. Insert a node\n",
      "2. Delete a node\n",
      "3. Display linked list\n",
      "4. Exit\n"
     ]
    },
    {
     "name": "stdin",
     "output_type": "stream",
     "text": [
      "enter your choice (1-4):  3\n"
     ]
    },
    {
     "name": "stdout",
     "output_type": "stream",
     "text": [
      "2 5 9 \n",
      "Linked List Operations Menu:\n",
      "1. Insert a node\n",
      "2. Delete a node\n",
      "3. Display linked list\n",
      "4. Exit\n"
     ]
    },
    {
     "name": "stdin",
     "output_type": "stream",
     "text": [
      "enter your choice (1-4):  2\n",
      "enter the value to delete:  9\n"
     ]
    },
    {
     "name": "stdout",
     "output_type": "stream",
     "text": [
      "\n",
      "Linked List Operations Menu:\n",
      "1. Insert a node\n",
      "2. Delete a node\n",
      "3. Display linked list\n",
      "4. Exit\n"
     ]
    },
    {
     "name": "stdin",
     "output_type": "stream",
     "text": [
      "enter your choice (1-4):  3\n"
     ]
    },
    {
     "name": "stdout",
     "output_type": "stream",
     "text": [
      "2 5 \n",
      "Linked List Operations Menu:\n",
      "1. Insert a node\n",
      "2. Delete a node\n",
      "3. Display linked list\n",
      "4. Exit\n"
     ]
    },
    {
     "name": "stdin",
     "output_type": "stream",
     "text": [
      "enter your choice (1-4):  4\n"
     ]
    },
    {
     "name": "stdout",
     "output_type": "stream",
     "text": [
      "exiting \n"
     ]
    }
   ],
   "source": [
    "class node:\n",
    "    def __init__(self,data):\n",
    "        self.data = data\n",
    "        self.next = None\n",
    "\n",
    "class Linkedlist:\n",
    "    def __init__(self):\n",
    "        self.head = None\n",
    "    def insert(self,data):\n",
    "        newnode = node(data)\n",
    "        if not self.head:\n",
    "            self.head = newnode\n",
    "        else:\n",
    "            curnt = self.head\n",
    "            while curnt.next:\n",
    "                curnt = curnt.next\n",
    "            curnt.next = newnode\n",
    "    def delete(self,key):\n",
    "         curnt = self.head\n",
    "         pev = None\n",
    "         while curnt and curnt.data != key :\n",
    "             prev = curnt\n",
    "             curnt = curnt.next\n",
    "         if not curnt:\n",
    "             print(\"key not found\")\n",
    "             return\n",
    "             \n",
    "         if prev is None:\n",
    "             self.head = curnt.next\n",
    "         else:\n",
    "             prev.next = curnt.next\n",
    "             \n",
    "             \n",
    "    def display(self):\n",
    "         curnt = self.head\n",
    "         if not curnt:\n",
    "             print(\"list is epty\")\n",
    "         else:\n",
    "             while curnt:\n",
    "                 print(curnt.data,end=\" \")\n",
    "                 curnt = curnt.next\n",
    "\n",
    "def menu():\n",
    "    print(\"\\nLinked List Operations Menu:\")\n",
    "    print(\"1. Insert a node\")\n",
    "    print(\"2. Delete a node\")\n",
    "    print(\"3. Display linked list\")\n",
    "    print(\"4. Exit\")\n",
    "linkedlist = Linkedlist()\n",
    "while True:\n",
    "    menu()\n",
    "    choice   = int(input(\"enter your choice (1-4): \"))\n",
    "    if choice == 1:\n",
    "        data = int(input(\"enter the value to insert: \"))\n",
    "        linkedlist.insert(data)\n",
    "    elif choice == 2:\n",
    "        key = int(input(\"enter the value to delete: \"))\n",
    "        linkedlist.delete(key)\n",
    "    elif choice == 3:\n",
    "        linkedlist.display()\n",
    "    elif choice == 4:\n",
    "        print(\"exiting \")\n",
    "        break\n",
    "    else:\n",
    "        print(\"invalid chpice.please try again\")\n",
    "    "
   ]
  },
  {
   "cell_type": "code",
   "execution_count": null,
   "id": "d00c22e7-7af1-4079-b2a9-26a7aec99a41",
   "metadata": {},
   "outputs": [],
   "source": [
    "def hex_to_bin(hex_num):\n",
    "    hexdict = {\n",
    "        '0':'0000','1':'0001','2':'0010','3':'0011',\n",
    "        '4':'0100','5':'0101','6':'0110','7':'0111',\n",
    "        '8':'1000','9':'1001','A':'1010','B':'1011',\n",
    "        'C':'1100','D':'1101','E':'1110','F':'1111'}\n",
    "    bina=\"\"\n",
    "    for char in hex_num.upper():\n",
    "        bina +=hexdict[char]\n",
    "    return bina\n",
    "def bin_to_deci(bina):\n",
    "    deci = 0\n",
    "    for i,bit in enumerate(reversed(bina)):\n",
    "        deci += int(bit) *(2 ** i)\n",
    "    retrun deci\n",
    "def deci_bin(deci):\n",
    "    if deci == 0:\n",
    "        return \"0\"\n",
    "    binary = \"\"\n",
    "    while deci > 0:\n",
    "        bin = str(deci%2)+bin\n",
    "        deci = deci //2\n",
    "    return bin  \n",
    "def binsub(hex1,hex2):\n",
    "    bin1=hex_to_bin(hex1)\n",
    "    bin2=hex_to_bin(hex2)\n",
    "\n",
    "    dec1 = bin_to_deci(bin1)\n",
    "    dec2 = bin_to_deci(bin2)\n",
    "\n",
    "    res = dec1-dec2\n",
    "    if res < 0:\n",
    "        print(\"subtarction is nega : error\")\n",
    "    else:\n",
    "        return deci_to_bin(res)\n",
    "\n",
    "hex1 = input(\"enetr 1st hex num\")\n",
    "hex2 = input(\"enter 2nd hex num\")\n",
    "res = binsub(hex1,hex2)\n",
    "print(res)\n",
    "        \n",
    "        \n",
    "    "
   ]
  }
 ],
 "metadata": {
  "kernelspec": {
   "display_name": "Python 3 (ipykernel)",
   "language": "python",
   "name": "python3"
  },
  "language_info": {
   "codemirror_mode": {
    "name": "ipython",
    "version": 3
   },
   "file_extension": ".py",
   "mimetype": "text/x-python",
   "name": "python",
   "nbconvert_exporter": "python",
   "pygments_lexer": "ipython3",
   "version": "3.13.0"
  }
 },
 "nbformat": 4,
 "nbformat_minor": 5
}
