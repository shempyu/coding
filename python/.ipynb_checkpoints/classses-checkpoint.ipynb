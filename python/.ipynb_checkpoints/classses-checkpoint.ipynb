{
 "cells": [
  {
   "cell_type": "code",
   "execution_count": 1,
   "id": "6ce4c3d9-7a9f-4d5a-9a38-bee3081b6b1f",
   "metadata": {},
   "outputs": [
    {
     "name": "stdout",
     "output_type": "stream",
     "text": [
      "mamal\n",
      "i'm a mamal\n",
      "i'm a dog\n"
     ]
    }
   ],
   "source": [
    "class Dog:\n",
    "    attr1 = \"mamal\"\n",
    "    attr2 = \"dog\"\n",
    "    def fun(self):\n",
    "        print(\"i'm a\",self.attr1)\n",
    "        print(\"i'm a\",self.attr2)\n",
    "Rodger = Dog()\n",
    "print(Rodger.attr1)\n",
    "Rodger.fun()\n",
    "    "
   ]
  },
  {
   "cell_type": "code",
   "execution_count": null,
   "id": "e3494d3f-6e94-4166-a617-0d0003854486",
   "metadata": {},
   "outputs": [],
   "source": [
    "class Person:\n",
    "    def__init__(self,name,age):\n",
    "      self.name = name\n",
    "      self.age=age\n",
    "p1 = Person(\" John\",36)\n",
    "print(p1.name)\n",
    "print(p1.age)"
   ]
  }
 ],
 "metadata": {
  "kernelspec": {
   "display_name": "Python 3 (ipykernel)",
   "language": "python",
   "name": "python3"
  },
  "language_info": {
   "codemirror_mode": {
    "name": "ipython",
    "version": 3
   },
   "file_extension": ".py",
   "mimetype": "text/x-python",
   "name": "python",
   "nbconvert_exporter": "python",
   "pygments_lexer": "ipython3",
   "version": "3.13.0"
  }
 },
 "nbformat": 4,
 "nbformat_minor": 5
}
