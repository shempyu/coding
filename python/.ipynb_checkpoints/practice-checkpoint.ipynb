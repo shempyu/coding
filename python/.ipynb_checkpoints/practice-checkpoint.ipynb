{
 "cells": [
  {
   "cell_type": "code",
   "execution_count": 1,
   "id": "ffc877d0-2030-40c7-b101-b692b631e8fe",
   "metadata": {},
   "outputs": [
    {
     "name": "stdin",
     "output_type": "stream",
     "text": [
      "pre word:  shem\n"
     ]
    },
    {
     "name": "stdout",
     "output_type": "stream",
     "text": [
      "new word:   mehs\n"
     ]
    }
   ],
   "source": [
    "#practice\n",
    "def rev(str):\n",
    "    reversed = \"\"\n",
    "    for i in str:\n",
    "        reversed = i + reversed\n",
    "    return reversed \n",
    "    \n",
    "sentence = input(\"pre word: \")\n",
    "words = sentence.split()\n",
    "results =\"\"\n",
    "for word in words:\n",
    "    results = results +' '+ rev(word)\n",
    "print(\"new word: \", results)\n"
   ]
  },
  {
   "cell_type": "code",
   "execution_count": 3,
   "id": "5955abea-8c03-489d-99fa-c446f779ff63",
   "metadata": {},
   "outputs": [
    {
     "name": "stdin",
     "output_type": "stream",
     "text": [
      "Enter a word:  shempyu\n"
     ]
    },
    {
     "name": "stdout",
     "output_type": "stream",
     "text": [
      "Reversed word: uypmehs\n"
     ]
    }
   ],
   "source": [
    "#reverse a word or sentence\n",
    "word = input(\"Enter a word: \")\n",
    "reversed_word = word[::-1]\n",
    "print(\"Reversed word:\", reversed_word)"
   ]
  },
  {
   "cell_type": "code",
   "execution_count": 5,
   "id": "217f9919-6636-43ba-b4d6-f2e575d85661",
   "metadata": {},
   "outputs": [
    {
     "name": "stdin",
     "output_type": "stream",
     "text": [
      "enter a sen:  he is getting better\n"
     ]
    },
    {
     "name": "stdout",
     "output_type": "stream",
     "text": [
      " eh si gnitteg retteb\n"
     ]
    }
   ],
   "source": [
    "#reversring each word of sentence \n",
    "def rev(str1):\n",
    "    reverse = \"\"\n",
    "    for char in str1:\n",
    "        reverse = char + reverse\n",
    "    return reverse\n",
    "sen = input(\"enter a sen: \")\n",
    "words = sen.split()\n",
    "result = \"\"\n",
    "for word in words:\n",
    "    result = result + ' ' +rev(word)\n",
    "print(result)    \n"
   ]
  },
  {
   "cell_type": "code",
   "execution_count": 6,
   "id": "40bd6264-9ee3-41cc-8c53-ffee6b03aa68",
   "metadata": {},
   "outputs": [
    {
     "name": "stdin",
     "output_type": "stream",
     "text": [
      "enter the number of elements:  5\n"
     ]
    },
    {
     "name": "stdout",
     "output_type": "stream",
     "text": [
      "enter the elements of list: \n"
     ]
    },
    {
     "name": "stdin",
     "output_type": "stream",
     "text": [
      " 1\n",
      " 2\n",
      " 3\n",
      " 4\n",
      " 5\n"
     ]
    },
    {
     "name": "stdout",
     "output_type": "stream",
     "text": [
      "[1, 2, 3, 4, 5]\n",
      "[1, 3, 6, 10, 15]\n"
     ]
    }
   ],
   "source": [
    "##cumulative sum\n",
    "def csum(num):\n",
    "    x = 0\n",
    "    for i in range(num):\n",
    "        x +=i+1\n",
    "    return x    \n",
    "        \n",
    "n = int(input(\"enter the number of elements: \"))\n",
    "l1 = []\n",
    "l2 = []\n",
    "print(\"enter the elements of list: \")\n",
    "for i in range(n):\n",
    "    num = int(input())\n",
    "    l1.append(num)\n",
    "    l2.append(csum(num))\n",
    "print(l1)\n",
    "print(l2)\n",
    "    \n",
    "        "
   ]
  },
  {
   "cell_type": "code",
   "execution_count": 29,
   "id": "95778bdd-71ba-4869-85d6-3f15bf6adcab",
   "metadata": {},
   "outputs": [
    {
     "name": "stdin",
     "output_type": "stream",
     "text": [
      "enter the size of list:  6\n"
     ]
    },
    {
     "name": "stdout",
     "output_type": "stream",
     "text": [
      "enter the elements: \n"
     ]
    },
    {
     "name": "stdin",
     "output_type": "stream",
     "text": [
      " 1\n",
      " 2\n",
      " 1\n",
      " 5\n",
      " 2\n",
      " 7\n"
     ]
    },
    {
     "name": "stdout",
     "output_type": "stream",
     "text": [
      "[1, 2]\n"
     ]
    }
   ],
   "source": [
    "n = int(input(\"enter the size of list: \"))\n",
    "l1 = []\n",
    "l2 = []\n",
    "print(\"enter the elements: \")\n",
    "for i in range(n):\n",
    "    num = int(input())\n",
    "    l1.append(num)\n",
    "for i in l1:\n",
    "    count = 0\n",
    "    for j in l1:\n",
    "        if j== i :\n",
    "            count += 1\n",
    "    if count > 1 and i not in l2:\n",
    "        l2.append(i)\n",
    "print(l2)            \n",
    "    \n",
    "    "
   ]
  },
  {
   "cell_type": "code",
   "execution_count": 12,
   "id": "0883bc1c-bb81-47c5-bede-696c6c2b65ae",
   "metadata": {},
   "outputs": [
    {
     "name": "stdin",
     "output_type": "stream",
     "text": [
      "enter the size of list:  5\n"
     ]
    },
    {
     "name": "stdout",
     "output_type": "stream",
     "text": [
      "enter the elements: \n"
     ]
    },
    {
     "name": "stdin",
     "output_type": "stream",
     "text": [
      " 1\n",
      " 2\n",
      " 3\n",
      " \n"
     ]
    },
    {
     "ename": "ValueError",
     "evalue": "invalid literal for int() with base 10: ''",
     "output_type": "error",
     "traceback": [
      "\u001b[1;31m---------------------------------------------------------------------------\u001b[0m",
      "\u001b[1;31mValueError\u001b[0m                                Traceback (most recent call last)",
      "Cell \u001b[1;32mIn[12], line 6\u001b[0m\n\u001b[0;32m      4\u001b[0m \u001b[38;5;28mprint\u001b[39m(\u001b[38;5;124m\"\u001b[39m\u001b[38;5;124menter the elements: \u001b[39m\u001b[38;5;124m\"\u001b[39m)\n\u001b[0;32m      5\u001b[0m \u001b[38;5;28;01mfor\u001b[39;00m i \u001b[38;5;129;01min\u001b[39;00m \u001b[38;5;28mrange\u001b[39m(n):\n\u001b[1;32m----> 6\u001b[0m     num \u001b[38;5;241m=\u001b[39m \u001b[38;5;28;43mint\u001b[39;49m\u001b[43m(\u001b[49m\u001b[38;5;28;43minput\u001b[39;49m\u001b[43m(\u001b[49m\u001b[43m)\u001b[49m\u001b[43m)\u001b[49m\n\u001b[0;32m      7\u001b[0m     l1\u001b[38;5;241m.\u001b[39mappend(num)\n\u001b[0;32m      9\u001b[0m \u001b[38;5;28;01mfor\u001b[39;00m i \u001b[38;5;129;01min\u001b[39;00m \u001b[38;5;28mrange\u001b[39m(n\u001b[38;5;241m/\u001b[39m\u001b[38;5;241m/\u001b[39m\u001b[38;5;241m2\u001b[39m):\n",
      "\u001b[1;31mValueError\u001b[0m: invalid literal for int() with base 10: ''"
     ]
    }
   ],
   "source": [
    "#reverse a list\n",
    "n = int(input(\"enter the size of list: \"))\n",
    "l1 = []\n",
    "print(\"enter the elements: \")\n",
    "for i in range(n):\n",
    "    num = int(input())\n",
    "    l1.append(num)\n",
    "\n",
    "for i in range(n//2):\n",
    "    l1[i], l1[n-1-i] = l1[n-1-i], l1[i]\n",
    "print(l1)    "
   ]
  },
  {
   "cell_type": "code",
   "execution_count": 13,
   "id": "c8a1957a-3bff-4c99-a334-c64a15dba8a2",
   "metadata": {},
   "outputs": [
    {
     "name": "stdin",
     "output_type": "stream",
     "text": [
      "enter the size of list:  5\n"
     ]
    },
    {
     "name": "stdout",
     "output_type": "stream",
     "text": [
      "enter the elements: \n"
     ]
    },
    {
     "name": "stdin",
     "output_type": "stream",
     "text": [
      " 1\n",
      " 2\n",
      " 3\n",
      " 4\n",
      " 5\n"
     ]
    },
    {
     "name": "stdout",
     "output_type": "stream",
     "text": [
      "[5, 4, 3, 2, 1]\n"
     ]
    }
   ],
   "source": [
    "#reverse a list\n",
    "n = int(input(\"enter the size of list: \"))\n",
    "l1 = []\n",
    "print(\"enter the elements: \")\n",
    "for i in range(n):\n",
    "    num = int(input())\n",
    "    l1.append(num)\n",
    "\n",
    "l1 = l1[::-1]\n",
    "print(l1)    "
   ]
  },
  {
   "cell_type": "code",
   "execution_count": 20,
   "id": "c1ceddff-d5e3-41e1-b0de-04db574e886a",
   "metadata": {},
   "outputs": [
    {
     "name": "stdin",
     "output_type": "stream",
     "text": [
      "enter the size of list:  9\n"
     ]
    },
    {
     "name": "stdout",
     "output_type": "stream",
     "text": [
      "enter the elements: \n"
     ]
    },
    {
     "name": "stdin",
     "output_type": "stream",
     "text": [
      " 1\n",
      " 2\n",
      " 3\n",
      " 4\n",
      " 5\n",
      " 6\n",
      " 7\n",
      " 8\n",
      " 9\n",
      "enter the size of chunks: (1<=size<=3 2\n"
     ]
    },
    {
     "name": "stdout",
     "output_type": "stream",
     "text": [
      "[1, 2]\n",
      "[3, 4]\n",
      "[5, 6]\n",
      "[7, 8]\n",
      "[9]\n"
     ]
    }
   ],
   "source": [
    "#braek alist into chunk of size n\n",
    "n = int(input(\"enter the size of list: \"))\n",
    "l1 = []\n",
    "print(\"enter the elements: \")\n",
    "for i in range(n):\n",
    "    num = int(input())\n",
    "    l1.append(num)\n",
    "chunk = int(input(\"enter the size of chunks: (1<=size<=3\"))\n",
    "\n",
    "for i in range(0,n,chunk):\n",
    "    l2 =[]\n",
    "    for j in range(i,min(i+chunk,n)):\n",
    "        l2.append(l1[j])\n",
    "    print(l2)    "
   ]
  },
  {
   "cell_type": "code",
   "execution_count": 23,
   "id": "48e1c66b-252d-4180-b3d1-d40fe1842911",
   "metadata": {},
   "outputs": [
    {
     "name": "stdin",
     "output_type": "stream",
     "text": [
      "enter the size of list:  9\n"
     ]
    },
    {
     "name": "stdout",
     "output_type": "stream",
     "text": [
      "enter the elements: \n"
     ]
    },
    {
     "name": "stdin",
     "output_type": "stream",
     "text": [
      " 1\n",
      " 2\n",
      " 3\n",
      " 4\n",
      " 5\n",
      " 6\n",
      " 7\n",
      " 8\n",
      " 9\n",
      "enter the size of chunks: (1<=size<=3 2\n"
     ]
    },
    {
     "name": "stdout",
     "output_type": "stream",
     "text": [
      "[1, 2]\n",
      "[3, 4]\n",
      "[5, 6]\n",
      "[7, 8]\n",
      "[9]\n"
     ]
    }
   ],
   "source": [
    "#braek alist into chunk of size n\n",
    "n = int(input(\"enter the size of list: \"))\n",
    "l1 = []\n",
    "print(\"enter the elements: \")\n",
    "for i in range(n):\n",
    "    num = int(input())\n",
    "    l1.append(num)\n",
    "chunk = int(input(\"enter the size of chunks: (1<=size<=3): \"))\n",
    "\n",
    "for i in range(0,n,chunk):\n",
    "    chunks = l1[i:i+chunk]\n",
    "    print(chunks)    "
   ]
  },
  {
   "cell_type": "code",
   "execution_count": 27,
   "id": "fdc91f80-f36c-4098-90de-494c9888e940",
   "metadata": {},
   "outputs": [
    {
     "name": "stdin",
     "output_type": "stream",
     "text": [
      "enter the coefi of x^2:  1\n",
      "enter the coefi of x:  -6\n",
      "enter the value of constant:  8\n"
     ]
    },
    {
     "name": "stdout",
     "output_type": "stream",
     "text": [
      "root1:  4.0\n",
      "root2:  2.0\n"
     ]
    }
   ],
   "source": [
    "import math\n",
    "a = int(input(\"enter the coefi of x^2: \"))\n",
    "b = int(input(\"enter the coefi of x: \"))   \n",
    "c = int(input(\"enter the value of constant: \"))   \n",
    "d = (b*b) - (4*a*c)\n",
    "d1 = math.sqrt(d)\n",
    "x1 = (-b+d1)/(2*a)\n",
    "x2 = (-b-d1)/(2*a)\n",
    "if d < 0:\n",
    "    print(\"root are not avalible\")\n",
    "else :\n",
    "    print(\"root1: \",x1)\n",
    "    print(\"root2: \",x2)\n",
    "    "
   ]
  },
  {
   "cell_type": "code",
   "execution_count": 32,
   "id": "94f6f86e-1793-4035-857b-dbe1ce1dc8ed",
   "metadata": {},
   "outputs": [
    {
     "name": "stdin",
     "output_type": "stream",
     "text": [
      "enter the size of list:  6\n"
     ]
    },
    {
     "name": "stdout",
     "output_type": "stream",
     "text": [
      "enter the kements: \n"
     ]
    },
    {
     "name": "stdin",
     "output_type": "stream",
     "text": [
      " 45\n",
      " 96\n",
      " 45\n",
      " 96\n",
      " 2\n",
      " 7\n"
     ]
    },
    {
     "name": "stdout",
     "output_type": "stream",
     "text": [
      "[45, 96]\n"
     ]
    }
   ],
   "source": [
    "def dupli(lst):\n",
    "    l2 = []\n",
    "    for i in lst:\n",
    "        count = 0\n",
    "        for j in lst:\n",
    "            if i == j and i not in l2:\n",
    "                count += 1\n",
    "        if count > 1 and i not in l2:\n",
    "            l2.append(i)\n",
    "    return l2\n",
    "l1 = []\n",
    "n = int(input(\"enter the size of list: \"))\n",
    "print(\"enter the kements: \")\n",
    "for i in range(n):\n",
    "    num = int(input())\n",
    "    l1.append(num)\n",
    "print(dupli(l1))\n"
   ]
  },
  {
   "cell_type": "code",
   "execution_count": 38,
   "id": "7a7dabb1-776a-4907-ab31-5eebd175de64",
   "metadata": {},
   "outputs": [
    {
     "name": "stdin",
     "output_type": "stream",
     "text": [
      "enter the size of dict:  1\n",
      "enter the size of list of scores:  3\n",
      "enter element:  16\n",
      "enter element:  16\n",
      "enter element:  13\n"
     ]
    },
    {
     "name": "stdout",
     "output_type": "stream",
     "text": [
      "{'student1': 15.0}\n"
     ]
    }
   ],
   "source": [
    "def avgs(lst):\n",
    "    total = 0\n",
    "    for i in lst:\n",
    "        total += i\n",
    "    return total/len(lst)    \n",
    "n = int(input(\"enter the size of dict: \"))\n",
    "dict = {}\n",
    "for i in range(n):\n",
    "    l1 = []\n",
    "    m = int(input(\"enter the size of list of scores: \"))\n",
    "    for j in range(m):\n",
    "        num = int(input(\"enter element: \"))\n",
    "        l1.append(num)\n",
    "    dict[f\"student{i+1}\"] = l1\n",
    "for s in dict:\n",
    "    dict[s] = avgs(dict[s])\n",
    "print(dict)    \n",
    "    "
   ]
  },
  {
   "cell_type": "code",
   "execution_count": 40,
   "id": "62c2fc77-fa5b-4c0c-b60b-c56e627f12ff",
   "metadata": {},
   "outputs": [
    {
     "name": "stdin",
     "output_type": "stream",
     "text": [
      "enter a string to reverse shempyu\n"
     ]
    },
    {
     "name": "stdout",
     "output_type": "stream",
     "text": [
      "uypmehs\n"
     ]
    }
   ],
   "source": [
    "def rev(str1):\n",
    "    if len(str1) == 0:\n",
    "        return str1\n",
    "    else:\n",
    "        return str1[-1] + rev(str1[:-1])\n",
    "str1 = input(\"enter a string to reverse\")\n",
    "print(rev(str1))       "
   ]
  },
  {
   "cell_type": "code",
   "execution_count": 46,
   "id": "01ee6c63-63f8-4dc7-ac43-5aea2385782c",
   "metadata": {},
   "outputs": [
    {
     "name": "stdout",
     "output_type": "stream",
     "text": [
      "{'listen': ['enlist'], 'enlist': ['listen'], 'rat': ['tar'], 'tar': ['rat'], 'god': ['dog'], 'dog': ['god'], 'evil': ['vile', 'veil'], 'vile': ['evil', 'veil'], 'veil': ['evil', 'vile']}\n"
     ]
    }
   ],
   "source": [
    "def group(lst):\n",
    "    dict = {}\n",
    "    for word in lst:\n",
    "        sorted_word = ''.join(sorted(word))\n",
    "        if sorted_word not in dict:\n",
    "            dict[sorted_word] = [word]\n",
    "        else:\n",
    "            dict[sorted_word].append(word)\n",
    "    result_dict = {}\n",
    "    for key,anagram in dict.items():\n",
    "        for word in anagram:\n",
    "            l1 = []\n",
    "            for otherword in anagram:\n",
    "                if otherword != word:\n",
    "                    l1.append(otherword)\n",
    "            result_dict[word] = l1\n",
    "    return result_dict         \n",
    "word_list = [\"listen\", \"enlist\",\"\" \"rat\", \"tar\", \"god\", \"dog\", \"evil\", \"vile\", \"veil\"]\n",
    "print(group(word_list))    "
   ]
  },
  {
   "cell_type": "code",
   "execution_count": 49,
   "id": "5dcc3f82-a029-47d9-be30-d2a346e8b8fa",
   "metadata": {},
   "outputs": [
    {
     "name": "stdout",
     "output_type": "stream",
     "text": [
      "{'listen': ['enlist'], 'enlist': ['listen'], 'rat': ['tar'], 'tar': ['rat'], 'god': ['dog'], 'dog': ['god'], 'evil': ['vile', 'veil'], 'vile': ['evil', 'veil'], 'veil': ['evil', 'vile']}\n"
     ]
    }
   ],
   "source": [
    "def anag(lst):\n",
    "    dict ={}\n",
    "    \n",
    "    for word in lst:\n",
    "        sorted_word = ''.join(sorted(word))\n",
    "        if sorted_word not in dict:\n",
    "            dict[sorted_word] = [word]\n",
    "        else:\n",
    "            dict[sorted_word].append(word)\n",
    "    res_dict= {}\n",
    "    for key,ana in dict.items():\n",
    "        for word in ana:\n",
    "            l1 = []\n",
    "            for oword in ana:\n",
    "                if oword != word:\n",
    "                    l1.append(oword)\n",
    "            res_dict[word] = l1\n",
    "    return res_dict        \n",
    "        \n",
    "word_list = [\"listen\", \"enlist\",\"\" \"rat\", \"tar\", \"god\", \"dog\", \"evil\", \"vile\", \"veil\"]\n",
    "print(anag(word_list))    "
   ]
  },
  {
   "cell_type": "code",
   "execution_count": 51,
   "id": "78e2f754-80ba-45fa-b0c6-1623aae670c6",
   "metadata": {},
   "outputs": [
    {
     "name": "stdin",
     "output_type": "stream",
     "text": [
      "Enter choice for: E: Enqueue, D: Dequeue, S: Show, X: Exit  e\n",
      "Enter task name:  shem\n",
      "Enter the priority:  1\n",
      "Enter choice for: E: Enqueue, D: Dequeue, S: Show, X: Exit  e\n",
      "Enter task name:  vish\n",
      "Enter the priority:  2\n",
      "Enter choice for: E: Enqueue, D: Dequeue, S: Show, X: Exit  e\n",
      "Enter task name:  ks\n",
      "Enter the priority:  3\n",
      "Enter choice for: E: Enqueue, D: Dequeue, S: Show, X: Exit  s\n"
     ]
    },
    {
     "name": "stdout",
     "output_type": "stream",
     "text": [
      "Priority Queue:\n",
      "Task: shem, Priority: 1\n",
      "Task: vish, Priority: 2\n",
      "Task: ks, Priority: 3\n"
     ]
    },
    {
     "name": "stdin",
     "output_type": "stream",
     "text": [
      "Enter choice for: E: Enqueue, D: Dequeue, S: Show, X: Exit  d\n"
     ]
    },
    {
     "name": "stdout",
     "output_type": "stream",
     "text": [
      "shem\n"
     ]
    },
    {
     "name": "stdin",
     "output_type": "stream",
     "text": [
      "Enter choice for: E: Enqueue, D: Dequeue, S: Show, X: Exit  x\n"
     ]
    }
   ],
   "source": [
    "def enq(pq, ele, prio):\n",
    "    pq.append((prio, ele))  # Append the task with its priority\n",
    "    pq.sort(key=lambda x: x[0])  # Sort the queue by priority after each enqueue operation\n",
    "\n",
    "def deq(pq):\n",
    "    if not pq:\n",
    "        return \"Priority queue is empty\"\n",
    "    highest = pq.pop(0)  # Remove and return the task with the highest priority (lowest priority number)\n",
    "    return highest[1]  # Return the task name\n",
    "\n",
    "def show(pq):\n",
    "    if pq:\n",
    "        print(\"Priority Queue:\")\n",
    "        for item in pq:\n",
    "            print(f\"Task: {item[1]}, Priority: {item[0]}\")\n",
    "    else:\n",
    "        print(\"Priority queue is empty.\")\n",
    "\n",
    "pq = []    \n",
    "while True:\n",
    "    ch = input(\"Enter choice for: E: Enqueue, D: Dequeue, S: Show, X: Exit \").lower()\n",
    "    if ch == 'e':\n",
    "        task = input(\"Enter task name: \")\n",
    "        p = int(input(\"Enter the priority: \"))\n",
    "        enq(pq, task, p)  # Enqueue and automatically sort the queue\n",
    "    elif ch == 'd':\n",
    "        print(deq(pq))  # Dequeue and print the task name\n",
    "    elif ch == 's':\n",
    "        show(pq)  # Show the current queue\n",
    "    elif ch == 'x':\n",
    "        break  # Exit the loop and the program\n",
    "    else:\n",
    "        print(\"Enter valid input\")\n"
   ]
  },
  {
   "cell_type": "code",
   "execution_count": null,
   "id": "1b51964e-2d02-40b6-b742-d12bcbfefb20",
   "metadata": {},
   "outputs": [
    {
     "name": "stdin",
     "output_type": "stream",
     "text": [
      "Enter choice for: E: Enqueue, D: Dequeue, S: Show, X: Exit  d\n"
     ]
    },
    {
     "name": "stdout",
     "output_type": "stream",
     "text": [
      "prio is empty\n"
     ]
    },
    {
     "name": "stdin",
     "output_type": "stream",
     "text": [
      "Enter choice for: E: Enqueue, D: Dequeue, S: Show, X: Exit  s\n"
     ]
    },
    {
     "name": "stdout",
     "output_type": "stream",
     "text": [
      "q is empyu\n"
     ]
    },
    {
     "name": "stdin",
     "output_type": "stream",
     "text": [
      "Enter choice for: E: Enqueue, D: Dequeue, S: Show, X: Exit  e\n",
      "Enter task name:  shem\n",
      "Enter the priority:  5\n",
      "Enter choice for: E: Enqueue, D: Dequeue, S: Show, X: Exit  e\n",
      "Enter task name:  vish\n",
      "Enter the priority:  1\n",
      "Enter choice for: E: Enqueue, D: Dequeue, S: Show, X: Exit  s\n"
     ]
    },
    {
     "name": "stdout",
     "output_type": "stream",
     "text": [
      "item:  5 prio:  shem\n",
      "item:  1 prio:  vish\n"
     ]
    },
    {
     "name": "stdin",
     "output_type": "stream",
     "text": [
      "Enter choice for: E: Enqueue, D: Dequeue, S: Show, X: Exit  d\n"
     ]
    },
    {
     "name": "stdout",
     "output_type": "stream",
     "text": [
      "5\n"
     ]
    }
   ],
   "source": [
    "def enq(pq,prio,ele):\n",
    "    pq.append((prio,ele))\n",
    "    pq.sort(key = lambda x:x[0])\n",
    "def dq(pq):\n",
    "    if not pq:\n",
    "        return \"prio is empty\"\n",
    "    highest = pq.pop(0)\n",
    "    return highest[1]\n",
    "def show(pq):\n",
    "    if pq:\n",
    "        for item in pq:\n",
    "            print(\"item: \",item[1],\"prio: \",item[0])\n",
    "    else:\n",
    "        print(\"q is empyu\")\n",
    "pq = []    \n",
    "while True:\n",
    "    ch = input(\"Enter choice for: E: Enqueue, D: Dequeue, S: Show, X: Exit \").lower()\n",
    "    if ch == 'e':\n",
    "        task = input(\"Enter task name: \")\n",
    "        p = int(input(\"Enter the priority: \"))\n",
    "        enq(pq, p,task)  # Enqueue and automatically sort the queue\n",
    "    elif ch == 'd':\n",
    "        print(dq(pq))  # Dequeue and print the task name\n",
    "    elif ch == 's':\n",
    "        show(pq)  # Show the current queue\n",
    "    elif ch == 'x':\n",
    "        break  # Exit the loop and the program\n",
    "    else:\n",
    "        print(\"Enter valid input\")            "
   ]
  },
  {
   "cell_type": "code",
   "execution_count": null,
   "id": "6f729f11-c60b-4fe5-8d76-64e5ccda01be",
   "metadata": {},
   "outputs": [],
   "source": [
    "#orange\n",
    "str1 = input(\"enter a string: \")\n",
    "i = 0\n",
    "row = 1\n",
    "while i < len(str1):\n",
    "    l1 = []\n",
    "    for j in range(row):\n",
    "        if i < len(str1):\n",
    "            l1.append(str1[i])\n",
    "            i +=1\n",
    "        else:\n",
    "            l1.append(\"*\")\n",
    "    rev = l1[::-1]\n",
    "    print(\" \".join(rev))\n",
    "    row += 1\n",
    "\n",
    "        "
   ]
  },
  {
   "cell_type": "code",
   "execution_count": null,
   "id": "f9ac5d29-ce8a-4b0a-9802-72d1d3ed8a1c",
   "metadata": {},
   "outputs": [],
   "source": []
  }
 ],
 "metadata": {
  "kernelspec": {
   "display_name": "Python 3 (ipykernel)",
   "language": "python",
   "name": "python3"
  },
  "language_info": {
   "codemirror_mode": {
    "name": "ipython",
    "version": 3
   },
   "file_extension": ".py",
   "mimetype": "text/x-python",
   "name": "python",
   "nbconvert_exporter": "python",
   "pygments_lexer": "ipython3",
   "version": "3.13.0"
  }
 },
 "nbformat": 4,
 "nbformat_minor": 5
}
