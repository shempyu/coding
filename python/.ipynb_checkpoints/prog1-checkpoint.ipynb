{
 "cells": [
  {
   "cell_type": "code",
   "execution_count": 8,
   "id": "3842325a-80b1-46cf-a0b0-d90cd4433109",
   "metadata": {},
   "outputs": [
    {
     "name": "stdout",
     "output_type": "stream",
     "text": [
      "enter the size of the array 6\n",
      "enter the elements of arr 2\n",
      "enter the elements of arr 3\n",
      "enter the elements of arr 2\n",
      "enter the elements of arr 4\n",
      "enter the elements of arr 3\n",
      "enter the elements of arr 7\n"
     ]
    },
    {
     "name": "stdout",
     "output_type": "stream",
     "text": [
      "element: 2 , count : 2\n",
      "element: 3 , count : 2\n",
      "element: 4 , count : 1\n",
      "element: 7 , count : 1\n"
     ]
    }
   ],
   "source": [
    "#printing frequency of each element\n",
    "size = int(input(\"enter the size of the array\"))\n",
    "arr = []\n",
    "ele = []\n",
    "count = []\n",
    "for k in range(0,size):\n",
    "    x = int(input(\"enter the elements of arr\"))\n",
    "    arr.append(x)\n",
    "for i in arr:\n",
    "    cnt = 0\n",
    "    for j in arr:\n",
    "        if i == j:\n",
    "            cnt = cnt + 1;\n",
    "    if i not in ele:\n",
    "        ele.append(i)\n",
    "        count.append(cnt)\n",
    "for i in range(len(ele)):\n",
    "    print(f\"element: {ele[i]} , count : {count[i]}\")\n",
    "    "
   ]
  },
  {
   "cell_type": "code",
   "execution_count": 6,
   "id": "478dd72a-0aee-4ae8-906c-60252129aac7",
   "metadata": {},
   "outputs": [
    {
     "name": "stdout",
     "output_type": "stream",
     "text": [
      "Enter the size of the list:  6\n"
     ]
    },
    {
     "name": "stdout",
     "output_type": "stream",
     "text": [
      "Enter the elements of the list:\n"
     ]
    },
    {
     "name": "stdout",
     "output_type": "stream",
     "text": [
      "Enter an element:  2\n",
      "Enter an element:  3\n",
      "Enter an element:  2\n",
      "Enter an element:  4\n",
      "Enter an element:  3\n",
      "Enter an element:  7\n"
     ]
    },
    {
     "name": "stdout",
     "output_type": "stream",
     "text": [
      "Element: 2, Count: 2\n",
      "Element: 3, Count: 2\n",
      "Element: 4, Count: 1\n",
      "Element: 7, Count: 1\n"
     ]
    }
   ],
   "source": [
    "#same as above using builtin function\n",
    "n = int(input(\"Enter the size of the list: \"))\n",
    "print(\"Enter the elements of the list:\")\n",
    "\n",
    "y = []\n",
    "for i in range(n):\n",
    "    x = int(input(\"Enter an element: \"))\n",
    "    y.append(x)\n",
    "\n",
    "arr = []\n",
    "coun = []\n",
    "\n",
    "for i in y:\n",
    "    if i not in arr:\n",
    "        arr.append(i)\n",
    "        coun.append(y.count(i))\n",
    "\n",
    "for i in range(len(arr)):\n",
    "    print(f\"Element: {arr[i]}, Count: {coun[i]}\")\n"
   ]
  },
  {
   "cell_type": "code",
   "execution_count": 2,
   "id": "d1e970c5-aba8-4d96-9bb4-9aaf88c473a6",
   "metadata": {},
   "outputs": [
    {
     "name": "stdout",
     "output_type": "stream",
     "text": [
      "enter the first num 4\n",
      "enter the second num 8\n"
     ]
    },
    {
     "name": "stdout",
     "output_type": "stream",
     "text": [
      "4\n"
     ]
    }
   ],
   "source": [
    "n1 = int(input(\"enter the first num\"))\n",
    "n2 = int(input(\"enter the second num\"))\n",
    "# gcd of 0 and nonzero is n\n",
    "# gcd of 0 and 0 is undefined\n",
    "   \n",
    "gcd = 1   \n",
    "for i in range(1, max(n1, n2) + 1):\n",
    "    if n1 % i == 0 and n2 % i ==0:\n",
    "        gcd = i\n",
    "print(gcd)            \n"
   ]
  },
  {
   "cell_type": "code",
   "execution_count": 1,
   "id": "d8b5a445-ebc5-411d-8ccf-b17e002ea901",
   "metadata": {},
   "outputs": [
    {
     "name": "stdout",
     "output_type": "stream",
     "text": [
      "enter the first num 4\n",
      "enter the second num 5\n"
     ]
    },
    {
     "name": "stdout",
     "output_type": "stream",
     "text": [
      "5\n"
     ]
    }
   ],
   "source": []
  },
  {
   "cell_type": "code",
   "execution_count": 2,
   "id": "bba16c56-ef1a-4adb-af11-ec11dd302b29",
   "metadata": {},
   "outputs": [
    {
     "name": "stdin",
     "output_type": "stream",
     "text": [
      "Enter a word:  he has fantastic personality\n"
     ]
    },
    {
     "name": "stdout",
     "output_type": "stream",
     "text": [
      "Reversed word: ytilanosrep citsatnaf sah eh\n"
     ]
    }
   ],
   "source": [
    "#reverse a word or sentence\n",
    "word = input(\"Enter a word: \")\n",
    "reversed_word = \"\"\n",
    "for char in word:\n",
    "    reversed_word = char + reversed_word  # Add each character to the beginning\n",
    "print(\"Reversed word:\", reversed_word)"
   ]
  },
  {
   "cell_type": "code",
   "execution_count": 4,
   "id": "3ad820cb-318f-4ffb-8fab-8201e52f3a8a",
   "metadata": {},
   "outputs": [
    {
     "name": "stdout",
     "output_type": "stream",
     "text": [
      "Enter a sentence:  shempyu is good coder\n"
     ]
    },
    {
     "name": "stdout",
     "output_type": "stream",
     "text": [
      "Reversed each word: uypmehs si doog redoc\n"
     ]
    }
   ],
   "source": [
    "def reverse_each_word(sentence):\n",
    "    # Split the sentence into words\n",
    "    words = sentence.split()\n",
    "    # Reverse each word and join them back with spaces\n",
    "    reversed_words = [word[::-1] for word in words]\n",
    "    # Join reversed words into a single string\n",
    "    result = ' '.join(reversed_words)\n",
    "    return result\n",
    "\n",
    "# Get input from the user\n",
    "sentence = input(\"Enter a sentence: \")\n",
    "# Print the result\n",
    "print(\"Reversed each word:\", reverse_each_word(sentence))\n"
   ]
  },
  {
   "cell_type": "code",
   "execution_count": 10,
   "id": "8e84cdb5-8eab-4a6e-9a6e-e5c53b85897e",
   "metadata": {},
   "outputs": [
    {
     "name": "stdout",
     "output_type": "stream",
     "text": [
      "pre word:  shem is good coder\n"
     ]
    },
    {
     "name": "stdout",
     "output_type": "stream",
     "text": [
      "new word:   mehs si doog redoc\n"
     ]
    }
   ],
   "source": [
    "def rev(str):\n",
    "    reversed = \"\"\n",
    "    for i in str:\n",
    "        reversed = i + reversed\n",
    "    return reversed \n",
    "    \n",
    "# Get input from the user\n",
    "sentence = input(\"pre word: \")\n",
    "\n",
    "# Split the sentence into words\n",
    "words = sentence.split()\n",
    "\n",
    "# Reverse each word and join them back with spaces\n",
    "results =\"\"\n",
    "for word in words:\n",
    "    results = results +' '+ rev(word)\n",
    "    \n",
    "# Join reversed words into a single string\n",
    "#result = ' '.join(reversed_words)\n",
    "\n",
    "# Print the result\n",
    "print(\"new word: \", results)\n"
   ]
  },
  {
   "cell_type": "code",
   "execution_count": 12,
   "id": "8fbb8e6a-2248-4be8-9896-6457c9abffd3",
   "metadata": {},
   "outputs": [
    {
     "name": "stdout",
     "output_type": "stream",
     "text": [
      "enter a string s#4$2fg\n"
     ]
    },
    {
     "name": "stdout",
     "output_type": "stream",
     "text": [
      "char:  s\n",
      "special:  #\n",
      "digit :  4\n",
      "special:  $\n",
      "digit :  2\n",
      "char:  f\n",
      "char:  g\n"
     ]
    }
   ],
   "source": [
    "str = input(\"enter a string\")\n",
    "for i in str:\n",
    "    if i.isdigit():\n",
    "        print(\"digit : \",i)\n",
    "    elif i.isalpha():\n",
    "        print(\"char: \",i)\n",
    "    else:\n",
    "        print(\"special: \",i)\n",
    "\n"
   ]
  },
  {
   "cell_type": "code",
   "execution_count": 1,
   "id": "a1cd4a70-0e17-4687-a2d5-62ed69cca61d",
   "metadata": {},
   "outputs": [
    {
     "name": "stdin",
     "output_type": "stream",
     "text": [
      "enter a string1:  abcghi\n",
      "enter a string2:  def\n"
     ]
    },
    {
     "name": "stdout",
     "output_type": "stream",
     "text": [
      "afbecdghi\n"
     ]
    }
   ],
   "source": [
    "str1 = input(\"enter a string1: \")\n",
    "str2 = input(\"enter a string2: \")\n",
    "str3=\"\"\n",
    "length = max(len(str1),len(str2))\n",
    "for i in range(length):\n",
    "    if i <len(str1):\n",
    "        str3 += str1[i]\n",
    "    if i < len(str2):\n",
    "        str3 += str2[len(str2)-1-i]\n",
    "print(str3)        "
   ]
  },
  {
   "cell_type": "code",
   "execution_count": 16,
   "id": "3a026bcf-5c2c-4cc0-ae53-df2072fd51a3",
   "metadata": {},
   "outputs": [
    {
     "name": "stdout",
     "output_type": "stream",
     "text": [
      "enter the size of list 6\n",
      "enter the element of list 1\n",
      "enter the element of list 2\n",
      "enter the element of list 3\n",
      "enter the element of list 4\n",
      "enter the element of list 5\n",
      "enter the element of list 6\n"
     ]
    },
    {
     "name": "stdout",
     "output_type": "stream",
     "text": [
      "1\n",
      "3\n",
      "6\n",
      "10\n",
      "15\n",
      "21\n"
     ]
    }
   ],
   "source": [
    "#cumulative sum of list\n",
    "l1 = []\n",
    "sumlist =[]\n",
    "n = int(input(\"enter the size of list\"))\n",
    "for i in range(n):\n",
    "    num = int(input(\"enter the element of list\"))\n",
    "    l1.append(num);\n",
    "    sum = 0\n",
    "    for j in l1:\n",
    "        sum = sum + j\n",
    "    sumlist.append(sum)\n",
    "for i in sumlist:\n",
    "    print(i)\n",
    "    "
   ]
  },
  {
   "cell_type": "code",
   "execution_count": 21,
   "id": "5b70c606-3638-41c7-ba39-4c82c3ec81a5",
   "metadata": {},
   "outputs": [
    {
     "name": "stdout",
     "output_type": "stream",
     "text": [
      "enter the size of list 9\n",
      "enter the element of list:  4\n",
      "enter the element of list:  5\n",
      "enter the element of list:  4\n",
      "enter the element of list:  7\n",
      "enter the element of list:  5\n",
      "enter the element of list:  5\n",
      "enter the element of list:  7\n",
      "enter the element of list:  3\n",
      "enter the element of list:  9\n"
     ]
    },
    {
     "name": "stdout",
     "output_type": "stream",
     "text": [
      "4\n",
      "5\n",
      "7\n"
     ]
    }
   ],
   "source": [
    "# print duplicates from list of integers\n",
    "l1 = []\n",
    "l2 = []\n",
    "n = int(input(\"enter the size of list\"))\n",
    "for i in range(n):\n",
    "    num = int(input(\"enter the element of list: \"))\n",
    "    l1.append(num)\n",
    "for i in l1:\n",
    "    if l1.count(i)>1 and i not in l2:\n",
    "        l2.append(i)\n",
    "for i in l2:\n",
    "    print(i)\n",
    "        \n",
    "    "
   ]
  },
  {
   "cell_type": "code",
   "execution_count": 26,
   "id": "c9855d21-1a97-4e3d-8d6f-1218437449bb",
   "metadata": {},
   "outputs": [
    {
     "name": "stdout",
     "output_type": "stream",
     "text": [
      "enter the size of list 6\n",
      "enter the element of list:  1\n",
      "enter the element of list:  2\n",
      "enter the element of list:  4\n",
      "enter the element of list:  5\n",
      "enter the element of list:  7\n",
      "enter the element of list:  8\n"
     ]
    },
    {
     "name": "stdout",
     "output_type": "stream",
     "text": [
      "8\n",
      "7\n",
      "5\n",
      "4\n",
      "2\n",
      "1\n",
      "[8, 7, 5, 4, 2, 1]\n"
     ]
    }
   ],
   "source": [
    "# reversing a list\n",
    "l1 = []\n",
    "l2 = []\n",
    "n = int(input(\"enter the size of list\"))\n",
    "for i in range(n):\n",
    "    num = int(input(\"enter the element of list: \"))\n",
    "    l1.append(num)\n",
    "for j in range(n):\n",
    "    l2.append(l1[len(l1)-1-j])\n",
    "for j in l2:\n",
    "    print(j)\n",
    "print(l2)   "
   ]
  },
  {
   "cell_type": "code",
   "execution_count": 30,
   "id": "00bb4675-f1d2-482a-b48a-565d3c98b7b5",
   "metadata": {},
   "outputs": [
    {
     "name": "stdout",
     "output_type": "stream",
     "text": [
      "enter the size of array 5\n",
      "enter the element of list:  1\n",
      "enter the element of list:  2\n",
      "enter the element of list:  3\n",
      "enter the element of list:  4\n",
      "enter the element of list:  5\n"
     ]
    },
    {
     "name": "stdout",
     "output_type": "stream",
     "text": [
      "3\n",
      "4\n",
      "5\n",
      "1\n",
      "2\n"
     ]
    }
   ],
   "source": [
    "#split the array and add the second half to its starting\n",
    "l1 = []\n",
    "l2 = []\n",
    "n = int(input(\"enter the size of array\"))\n",
    "for i in range(n):\n",
    "    num = int(input(\"enter the element of list: \"))\n",
    "    l1.append(num)\n",
    "m = int(n/2)\n",
    "for i in range(m,n,1):\n",
    "    l2.append(l1[i])\n",
    "for i in range(0,m,1):\n",
    "    l2.append(l1[i])\n",
    "for i in l2:\n",
    "    print(i)"
   ]
  },
  {
   "cell_type": "code",
   "execution_count": 34,
   "id": "ebcb0682-2fa4-4790-8320-abe792a38c68",
   "metadata": {},
   "outputs": [
    {
     "name": "stdout",
     "output_type": "stream",
     "text": [
      "enter the size of array 7\n",
      "enter the element of list:  1\n",
      "enter the element of list:  9\n",
      "enter the element of list:  7\n",
      "enter the element of list:  5\n",
      "enter the element of list:  6\n",
      "enter the element of list:  2\n",
      "enter the element of list:  3\n",
      "enter the element to check existing:  4\n"
     ]
    },
    {
     "name": "stdout",
     "output_type": "stream",
     "text": [
      "it doesnot exist\n"
     ]
    }
   ],
   "source": [
    "#check given element exist in list or not\n",
    "l1 = []\n",
    "n = int(input(\"enter the size of array\"))\n",
    "for i in range(n):\n",
    "    num = int(input(\"enter the element of list: \"))\n",
    "    l1.append(num)\n",
    "x = int(input(\"enter the element to check existing: \"))\n",
    "\n",
    "if x in l1:\n",
    "    print(\"it exist\")\n",
    "else:\n",
    "    print(\"it doesnot exist\")"
   ]
  },
  {
   "cell_type": "code",
   "execution_count": 37,
   "id": "047813be-91ab-44c2-920e-e0a91873daa4",
   "metadata": {},
   "outputs": [
    {
     "name": "stdout",
     "output_type": "stream",
     "text": [
      "enter the size of array 4\n",
      "enter the element of list:  2\n",
      "enter the element of list:  3\n",
      "enter the element of list:  5\n",
      "enter the element of list:  7\n",
      "enter the element by which u want to divide 11\n"
     ]
    },
    {
     "name": "stdout",
     "output_type": "stream",
     "text": [
      "1\n"
     ]
    }
   ],
   "source": [
    "#### reminder of array multiplication divided by n\n",
    "l1 = []\n",
    "multplxn = 1\n",
    "n = int(input(\"enter the size of array\"))\n",
    "for i in range(n):\n",
    "    num = int(input(\"enter the element of list: \"))\n",
    "    multplxn = multplxn * num\n",
    "x = int(input(\"enter the element by which u want to divide\"))    \n",
    "print(multplxn %  x)   \n",
    "    "
   ]
  },
  {
   "cell_type": "code",
   "execution_count": 1,
   "id": "35158bdd-0806-4efc-919c-ba6e25ade9ea",
   "metadata": {},
   "outputs": [
    {
     "name": "stdin",
     "output_type": "stream",
     "text": [
      "Enter the size of chunks (less than or equal to 3):  2\n"
     ]
    },
    {
     "name": "stdout",
     "output_type": "stream",
     "text": [
      "[1, 2]\n",
      "[3, 4]\n",
      "[5, 6]\n",
      "[7, 8]\n",
      "[9, 10]\n"
     ]
    }
   ],
   "source": [
    "#break a list into chunks of size N\n",
    "lst = [1, 2, 3, 4, 5, 6, 7, 8, 9, 10]\n",
    "N = 3\n",
    "m = int(input(f\"Enter the size of chunks (less than or equal to {N}): \"))\n",
    "\n",
    "# Validate that m is less than N\n",
    "if m > N:\n",
    "    print(f\"Chunk size should be less than or equal to {N}. Please try again.\")\n",
    "else:\n",
    "    # Breaking the list into chunks\n",
    "    for i in range(0, len(lst), m):\n",
    "        chunk = lst[i:i+m]\n",
    "        print(chunk)"
   ]
  },
  {
   "cell_type": "code",
   "execution_count": 3,
   "id": "4d12e4b0-a27b-41a8-aebc-730f1be6e1a8",
   "metadata": {},
   "outputs": [
    {
     "name": "stdin",
     "output_type": "stream",
     "text": [
      "enter the coeficient of x^2:  1\n",
      "enter the coeficint of x:  -6\n",
      "enter the constant:  8\n"
     ]
    },
    {
     "name": "stdout",
     "output_type": "stream",
     "text": [
      "root1:  4.0\n",
      "root2:  2.0\n"
     ]
    }
   ],
   "source": [
    "#quadratic equation:\n",
    "import math\n",
    "a = int(input(\"enter the coeficient of x^2: \"))\n",
    "b = int(input(\"enter the coeficint of x: \"))\n",
    "c = int(input(\"enter the constant: \"))\n",
    "d = (b * b) -( 4 * a*c)\n",
    "d1 = math.sqrt(d)\n",
    "x1 = (-b + d1)/(2*a)\n",
    "x2 = (-b - d1)/(2*a)\n",
    "if d < 0:\n",
    "    print(\"no root exist\")\n",
    "else:\n",
    "    print(\"root1: \",x1)\n",
    "    print(\"root2: \",x2)"
   ]
  },
  {
   "cell_type": "code",
   "execution_count": 6,
   "id": "cc135bf1-1d71-4489-a1e9-3e36d8a532ac",
   "metadata": {},
   "outputs": [
    {
     "name": "stdin",
     "output_type": "stream",
     "text": [
      "Enter a number between 1 and 99 to convert to Roman numeral:  49\n"
     ]
    },
    {
     "name": "stdout",
     "output_type": "stream",
     "text": [
      "The Roman numeral for 49 is XLIX\n"
     ]
    }
   ],
   "source": [
    "#decimal to numeral\n",
    "def decimal_to_roman(num):\n",
    "    if num < 1 or num > 99:\n",
    "        return \"Input out of range. Enter a number between 1 and 99.\"\n",
    "\n",
    "    # Define Roman numeral symbols for tens and units place\n",
    "    tens = [\"\", \"X\", \"XX\", \"XXX\", \"XL\", \"L\", \"LX\", \"LXX\", \"LXXX\", \"XC\"]\n",
    "    units = [\"\", \"I\", \"II\", \"III\", \"IV\", \"V\", \"VI\", \"VII\", \"VIII\", \"IX\"]\n",
    "\n",
    "    # Extract tens and units place values\n",
    "    tens_place = num // 10\n",
    "    units_place = num % 10\n",
    "\n",
    "    # Convert to Roman numerals using the lists\n",
    "    return tens[tens_place] + units[units_place]\n",
    "\n",
    "# Get user input\n",
    "try:\n",
    "    num = int(input(\"Enter a number between 1 and 99 to convert to Roman numeral: \"))\n",
    "    print(f\"The Roman numeral for {num} is {decimal_to_roman(num)}\")\n",
    "except ValueError:\n",
    "    print(\"Invalid input. Please enter a valid integer between 1 and 99.\")\n"
   ]
  },
  {
   "cell_type": "code",
   "execution_count": null,
   "id": "2612fdf5-07ce-4423-8885-f95bf5c035de",
   "metadata": {},
   "outputs": [],
   "source": []
  }
 ],
 "metadata": {
  "kernelspec": {
   "display_name": "Python 3 (ipykernel)",
   "language": "python",
   "name": "python3"
  },
  "language_info": {
   "codemirror_mode": {
    "name": "ipython",
    "version": 3
   },
   "file_extension": ".py",
   "mimetype": "text/x-python",
   "name": "python",
   "nbconvert_exporter": "python",
   "pygments_lexer": "ipython3",
   "version": "3.13.0"
  }
 },
 "nbformat": 4,
 "nbformat_minor": 5
}
