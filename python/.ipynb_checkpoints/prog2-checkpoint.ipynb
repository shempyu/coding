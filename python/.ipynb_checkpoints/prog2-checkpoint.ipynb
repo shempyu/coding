{
 "cells": [
  {
   "cell_type": "code",
   "execution_count": 3,
   "id": "1d6d3e65-c875-4ec2-a990-d964ae42236a",
   "metadata": {},
   "outputs": [
    {
     "name": "stdin",
     "output_type": "stream",
     "text": [
      "enter total number of subjects:  3\n",
      "enter the sub name:  hindi\n",
      "enter the code of sub:  h2\n",
      "enter the sub name:  socia\n",
      "enter the code of sub:  s2\n",
      "enter the sub name:  eng\n",
      "enter the code of sub:  e2\n"
     ]
    },
    {
     "name": "stdout",
     "output_type": "stream",
     "text": [
      "subject :hindi, code: h2\n",
      "subject :socia, code: s2\n",
      "subject :eng, code: e2\n"
     ]
    }
   ],
   "source": [
    "# making dictionary of sub name and subcode ,name as key ,code as value\n",
    "sub = []\n",
    "ccode = []\n",
    "sub_dict = {}\n",
    "n = int(input(\"enter total number of subjects: \"))\n",
    "for i in range(n):\n",
    "    name = input(\"enter the sub name: \")\n",
    "    sub.append(name)\n",
    "    code = input(\"enter the code of sub: \")\n",
    "    ccode.append(code)\n",
    "    sub_dict[name] = code\n",
    "for sub,code in sub_dict.items():\n",
    "    print(f\"subject :{sub}, code: {code}\")\n",
    "    "
   ]
  },
  {
   "cell_type": "code",
   "execution_count": 3,
   "id": "99424d80-b40c-4927-bb1b-d4344b640223",
   "metadata": {},
   "outputs": [
    {
     "name": "stdin",
     "output_type": "stream",
     "text": [
      "enter the size of list 5\n",
      "enter the elements of list:  45\n",
      "enter the elements of list:  96\n",
      "enter the elements of list:  45\n",
      "enter the elements of list:  96\n",
      "enter the elements of list:  2\n"
     ]
    },
    {
     "name": "stdout",
     "output_type": "stream",
     "text": [
      "[45, 96]\n"
     ]
    }
   ],
   "source": [
    "# dupli function which returns duplicate elements from list\n",
    "def dupli(lst):\n",
    "    l2 = []\n",
    "    for i in lst:\n",
    "        count = 0\n",
    "        for j in lst:\n",
    "            if j == i:\n",
    "                count += 1\n",
    "        if count > 1 and i not in l2:\n",
    "            l2.append(i)\n",
    "    return l2        \n",
    "                \n",
    "            \n",
    "l1 = []\n",
    "n = int(input(\"enter the size of list\"))\n",
    "for i in range(n):\n",
    "    num = int(input(\"enter the elements of list: \"))\n",
    "    l1.append(num)\n",
    "print(dupli(l1))\n"
   ]
  },
  {
   "cell_type": "code",
   "execution_count": 8,
   "id": "229bb9d4-ab5c-4bf4-ab3b-36a05a8ca63d",
   "metadata": {},
   "outputs": [
    {
     "name": "stdin",
     "output_type": "stream",
     "text": [
      "enter the size of list 5\n",
      "enter the elements of list:  1\n",
      "enter the elements of list:  2\n",
      "enter the elements of list:  3\n",
      "enter the elements of list:  4\n",
      "enter the elements of list:  5\n"
     ]
    },
    {
     "name": "stdout",
     "output_type": "stream",
     "text": [
      "reverse of list: \n",
      "5\n",
      "4\n",
      "3\n",
      "2\n",
      "1\n",
      "sum of square of element of even indices: \n",
      "35\n"
     ]
    }
   ],
   "source": [
    "#list in reverse order and the sum of sqrs of each element of even indices using reverse() and sumofsq()\n",
    "def reverse(l1):\n",
    "    print(\"reverse of list: \")\n",
    "    for i in range(len(l1) - 1,-1,-1):\n",
    "        print(l1[i])\n",
    "def sumofsq(l1):\n",
    "    print(\"sum of square of element of even indices: \")\n",
    "    total = 0\n",
    "    for i in range(len(l1)):\n",
    "        if i % 2 == 0 :\n",
    "            total = total + (l1[i] *l1[i])\n",
    "    print(total)        \n",
    "l1 = []\n",
    "n = int(input(\"enter the size of list\"))\n",
    "for i in range(n):\n",
    "    num = int(input(\"enter the elements of list: \"))\n",
    "    l1.append(num)\n",
    "reverse(l1)\n",
    "sumofsq(l1)\n"
   ]
  },
  {
   "cell_type": "code",
   "execution_count": 15,
   "id": "d2182b8e-4a03-4a1a-b08f-f1a4b4d7c888",
   "metadata": {},
   "outputs": [
    {
     "name": "stdin",
     "output_type": "stream",
     "text": [
      "enter the size of dictionary:  1\n",
      "enter the size of scor list:  3\n",
      "enter the score:  16\n",
      "enter the score:  16\n",
      "enter the score:  13\n"
     ]
    },
    {
     "name": "stdout",
     "output_type": "stream",
     "text": [
      "{'student1': [16, 16, 13]}\n",
      "{'student1': 15.0}\n"
     ]
    }
   ],
   "source": [
    "# transform given dictionary by replacing the score lists with their averages\n",
    "def avg(lst):\n",
    "    if len(lst) == 0:  # Check to avoid division by zero\n",
    "        return 0\n",
    "    total = sum(lst)  \n",
    "    return total / len(lst)   \n",
    "d = {}\n",
    "n = int(input(\"enter the size of dictionary: \"))\n",
    "for i in range (n):\n",
    "    score_list = []\n",
    "    size = int(input(\"enter the size of scor list: \"))\n",
    "    for j in range (size):\n",
    "        score = int(input(\"enter the score: \"))\n",
    "        score_list.append(score)\n",
    "    d[f\"student{i+1}\"]  = score_list   \n",
    "    \n",
    "print(d)\n",
    "\n",
    "for student in d:\n",
    "    d[student] = avg(d[student]) # remembe r this\n",
    "print(d)    \n",
    "    \n",
    "    "
   ]
  },
  {
   "cell_type": "code",
   "execution_count": null,
   "id": "a8c28be4-51d7-483f-813a-859834299992",
   "metadata": {},
   "outputs": [],
   "source": []
  },
  {
   "cell_type": "code",
   "execution_count": null,
   "id": "566d79cd-488d-4e49-92d6-68489bc2aef4",
   "metadata": {},
   "outputs": [],
   "source": []
  }
 ],
 "metadata": {
  "kernelspec": {
   "display_name": "Python 3 (ipykernel)",
   "language": "python",
   "name": "python3"
  },
  "language_info": {
   "codemirror_mode": {
    "name": "ipython",
    "version": 3
   },
   "file_extension": ".py",
   "mimetype": "text/x-python",
   "name": "python",
   "nbconvert_exporter": "python",
   "pygments_lexer": "ipython3",
   "version": "3.13.0"
  }
 },
 "nbformat": 4,
 "nbformat_minor": 5
}
