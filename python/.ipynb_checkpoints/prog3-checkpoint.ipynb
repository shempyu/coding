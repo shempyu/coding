{
 "cells": [
  {
   "cell_type": "code",
   "execution_count": 1,
   "id": "6b508864-51b1-4f85-ae33-611ae313934a",
   "metadata": {},
   "outputs": [
    {
     "name": "stdout",
     "output_type": "stream",
     "text": [
      "enter a string to reverse shempyu\n"
     ]
    },
    {
     "name": "stdout",
     "output_type": "stream",
     "text": [
      "uypmehs\n"
     ]
    }
   ],
   "source": [
    "#reverse a string using recusrsion\n",
    "'''\n",
    "How Negative Indexing Works\n",
    "Positive Indexing: In a string (or list), positive indices start from 0 and count up to the length of the string minus one. For example, for the string \"hello\":\n",
    "\n",
    "'h' is at index 0\n",
    "'e' is at index 1\n",
    "'l' is at index 2\n",
    "'l' is at index 3\n",
    "'o' is at index 4\n",
    "Negative Indexing: In contrast, negative indices count from the end of the string (or list):\n",
    "\n",
    "s[-1] refers to the last character\n",
    "s[-2] refers to the second-to-last character\n",
    "s[-3] refers to the third-to-last character, and so on.\n",
    "'''\n",
    "def revstr(str):\n",
    "   if len(str) == 0:\n",
    "       return str\n",
    "   else:\n",
    "       return str[-1] + revstr(str[:-1])\n",
    "        \n",
    "str = input(\"enter a string to reverse\")\n",
    "print(revstr(str))"
   ]
  },
  {
   "cell_type": "code",
   "execution_count": 4,
   "id": "563f3638-1345-4d21-8904-ca551c797e48",
   "metadata": {},
   "outputs": [
    {
     "name": "stdout",
     "output_type": "stream",
     "text": [
      "enter the size of dict 3\n",
      "enter the name of sub:  social\n",
      "enetr the marks of sub:  34\n",
      "enter the name of sub:  eng\n",
      "enetr the marks of sub:  67\n",
      "enter the name of sub:  hindi\n",
      "enetr the marks of sub:  89\n"
     ]
    },
    {
     "name": "stdout",
     "output_type": "stream",
     "text": [
      "social  :  34\n"
     ]
    }
   ],
   "source": [
    "#minimum value from a dictioanry of subject and marks as key and value resptively\n",
    "sub_dict = {}\n",
    "n = int(input(\"enter the size of dict\"))\n",
    "for i in range (n):\n",
    "    sub = input(\"enter the name of sub: \")\n",
    "    marks = int(input(\"enetr the marks of sub: \"))\n",
    "    sub_dict[sub] = marks\n",
    "minm = next(iter(sub_dict.values()))\n",
    "subm = next(iter(sub_dict.keys()))\n",
    "for sub ,marks in sub_dict.items():\n",
    "    \n",
    "    if marks < minm :\n",
    "        minm = marks\n",
    "        subm = sub\n",
    "print(subm , \" : \",minm)        "
   ]
  },
  {
   "cell_type": "code",
   "execution_count": 1,
   "id": "ae47f627-5fd6-4203-9aa4-084eef5986a2",
   "metadata": {},
   "outputs": [
    {
     "name": "stdout",
     "output_type": "stream",
     "text": [
      "Enter the size of the dictionary:  3\n",
      "Enter the name of the subject:  eng\n",
      "Enter the marks of the subject:  23\n",
      "Enter the name of the subject:  comp\n",
      "Enter the marks of the subject:  56\n",
      "Enter the name of the subject:  hindi \n",
      "Enter the marks of the subject:  23\n"
     ]
    },
    {
     "name": "stdout",
     "output_type": "stream",
     "text": [
      "Subject(s) with minimum marks: eng, hindi  : 23\n"
     ]
    }
   ],
   "source": [
    "##better version of above\n",
    "\n",
    "sub_dict = {}\n",
    "n = int(input(\"Enter the size of the dictionary: \"))\n",
    "for i in range(n):\n",
    "    sub = input(\"Enter the name of the subject: \")\n",
    "    marks = int(input(\"Enter the marks of the subject: \"))\n",
    "    sub_dict[sub] = marks \n",
    "    \n",
    "min_marks = next(iter(sub_dict.values()))\n",
    "min_subjects = [next(iter(sub_dict.keys()))]\n",
    "\n",
    "if not sub_dict:\n",
    "    print(\"The dictionary is empty.\")\n",
    "else:\n",
    "\n",
    "    for subject, marks in sub_dict.items():\n",
    "        if marks < min_marks:\n",
    "            min_marks = marks\n",
    "            min_subjects = [subject]  # Start a new list with the current subject\n",
    "        elif marks == min_marks and subject not in min_subjects:\n",
    "            min_subjects.append(subject)  # Add to the list if marks are equal\n",
    "\n",
    "print(\"Subject(s) with minimum marks:\", \", \".join(min_subjects), \":\", min_marks)\n",
    "\n"
   ]
  },
  {
   "cell_type": "code",
   "execution_count": 11,
   "id": "07475eee-02f7-42ec-8823-c8facadb6f56",
   "metadata": {},
   "outputs": [
    {
     "name": "stdout",
     "output_type": "stream",
     "text": [
      "Enter the size of the dictionary:  4\n",
      "Enter the name of the subject:  dsa\n",
      "Enter the marks of the subject:  89\n",
      "Enter the name of the subject:  toc\n",
      "Enter the marks of the subject:  56\n",
      "Enter the name of the subject:  python\n",
      "Enter the marks of the subject:  59\n",
      "Enter the name of the subject:  algortihm\n",
      "Enter the marks of the subject:  90\n",
      "enter a value to check existing in disctionary as value or as key:  56\n"
     ]
    },
    {
     "name": "stdout",
     "output_type": "stream",
     "text": [
      "it exists as a value in the dictionary\n"
     ]
    }
   ],
   "source": [
    "# Check if a value exist in a dictionary as a value or a key given by the user\n",
    "sub_dict = {}\n",
    "\n",
    "# Get the size of the dictionary from the user\n",
    "n = int(input(\"Enter the size of the dictionary: \"))\n",
    "for i in range(n):\n",
    "    sub = input(\"Enter the name of the subject: \")\n",
    "    marks = int(input(\"Enter the marks of the subject: \"))\n",
    "    sub_dict[sub] = marks  # Add the subject and marks to the dictionary\n",
    "x = input(\"enter a value to check existing in disctionary as value or as key: \")\n",
    "if x in sub_dict:\n",
    "    print(\"it exists as key in the dictionary\")\n",
    "elif x.isdigit() and int(x) in sub_dict.values() :\n",
    "    print(\"it exists as a value in the dictionary\")\n",
    "else:\n",
    "    print(\"it doesn;t exist nither as value nor as key\") \n",
    "    \n",
    "    "
   ]
  },
  {
   "cell_type": "code",
   "execution_count": null,
   "id": "6143ed96-3495-49a9-8589-c7a01d0fbcc9",
   "metadata": {},
   "outputs": [
    {
     "name": "stdout",
     "output_type": "stream",
     "text": [
      "{'listen': ['enlist'], 'enlist': ['listen'], 'rat': ['tar'], 'tar': ['rat'], 'god': ['dog'], 'dog': ['god'], 'evil': ['vile', 'veil'], 'vile': ['evil', 'veil'], 'veil': ['evil', 'vile']}\n"
     ]
    }
   ],
   "source": [
    "#function that tatke a list of words as input and create a dictionary of these words as keys and their anagrams as values\\\n",
    "def group_anagrams(lst):\n",
    "    anagram_dict = {}\n",
    "    for word in lst:\n",
    "        sorted_word = ''.join(sorted(word))\n",
    "        if sorted_word not in anagram_dict:\n",
    "            anagram_dict[sorted_word] = [word]\n",
    "        else:\n",
    "            anagram_dict[sorted_word].append(word)\n",
    "    result_dict ={}\n",
    "    for key , anagrams in anagram_dict.items():\n",
    "        for word in anagrams:\n",
    "            anagram_list = []\n",
    "            for other_word in anagrams:\n",
    "                if other_word != word:\n",
    "                    anagram_list.append(other_word)\n",
    "            result_dict[word] = anagram_list \n",
    "    return result_dict        \n",
    "\n",
    "# Example usage\n",
    "word_list = [\"listen\", \"enlist\",\"\" \"rat\", \"tar\", \"god\", \"dog\", \"evil\", \"vile\", \"veil\"]\n",
    "print(group_anagrams(word_list))\n",
    "            "
   ]
  },
  {
   "cell_type": "code",
   "execution_count": 21,
   "id": "e063f935-2b60-4da6-b049-cd003f86a17d",
   "metadata": {},
   "outputs": [
    {
     "name": "stdout",
     "output_type": "stream",
     "text": [
      "Task 2\n",
      "Task 3\n",
      "Task 1\n"
     ]
    }
   ],
   "source": [
    "def enq(pq, ele, prio):\n",
    "    pq.append((prio, ele))  # Append the task with its priority\n",
    "    pq.sort(key=lambda x: x[0])  # Sort the queue by priority after each enqueue operation\n",
    "\n",
    "def deq(pq):\n",
    "    if not pq:\n",
    "        return \"Priority queue is empty\"\n",
    "    highest = pq.pop(0)  # Remove and return the task with the highest priority (lowest priority number)\n",
    "    return highest[1]  # Return the task name\n",
    "\n",
    "def show(pq):\n",
    "    if pq:\n",
    "        print(\"Priority Queue:\")\n",
    "        for item in pq:\n",
    "            print(f\"Task: {item[1]}, Priority: {item[0]}\")\n",
    "    else:\n",
    "        print(\"Priority queue is empty.\")\n",
    "\n",
    "pq = []    \n",
    "while True:\n",
    "    ch = input(\"Enter choice for: E: Enqueue, D: Dequeue, S: Show, X: Exit \").lower()\n",
    "    if ch == 'e':\n",
    "        task = input(\"Enter task name: \")\n",
    "        p = int(input(\"Enter the priority: \"))\n",
    "        enq(pq, task, p)  # Enqueue and automatically sort the queue\n",
    "    elif ch == 'd':\n",
    "        print(deq(pq))  # Dequeue and print the task name\n",
    "    elif ch == 's':\n",
    "        show(pq)  # Show the current queue\n",
    "    elif ch == 'x':\n",
    "        break  # Exit the loop and the program\n",
    "    else:\n",
    "        print(\"Enter valid input\")\n"
   ]
  },
  {
   "cell_type": "code",
   "execution_count": null,
   "id": "b410165c-1aaa-4afb-8a65-07cfc869655f",
   "metadata": {},
   "outputs": [],
   "source": []
  }
 ],
 "metadata": {
  "kernelspec": {
   "display_name": "Python 3 (ipykernel)",
   "language": "python",
   "name": "python3"
  },
  "language_info": {
   "codemirror_mode": {
    "name": "ipython",
    "version": 3
   },
   "file_extension": ".py",
   "mimetype": "text/x-python",
   "name": "python",
   "nbconvert_exporter": "python",
   "pygments_lexer": "ipython3",
   "version": "3.13.0"
  }
 },
 "nbformat": 4,
 "nbformat_minor": 5
}
