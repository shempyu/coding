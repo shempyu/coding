{
 "cells": [
  {
   "cell_type": "code",
   "execution_count": 1,
   "id": "2be17cca-9dcd-49e6-83ce-eedeabc909aa",
   "metadata": {},
   "outputs": [
    {
     "name": "stdin",
     "output_type": "stream",
     "text": [
      "Enter a string:  oranges\n"
     ]
    },
    {
     "name": "stdout",
     "output_type": "stream",
     "text": [
      "o\n",
      "a r\n",
      "e g n\n",
      "* * * s\n"
     ]
    }
   ],
   "source": [
    "#orange pattern\n",
    "str1 = input(\"Enter a string: \")\n",
    "i = 0\n",
    "row = 1\n",
    "\n",
    "while i < len(str1):\n",
    "    l1 = [] #to store the elements of current row\n",
    "    for j in range(row):\n",
    "        if i < len(str1):\n",
    "            l1.append(str1[i])\n",
    "            i += 1\n",
    "        else:\n",
    "            l1.append(\"*\")\n",
    "    rev = l1[::-1]    #reversed list    \n",
    "    print(\" \".join(rev)) # printed list with space\n",
    "    row += 1\n"
   ]
  },
  {
   "cell_type": "code",
   "execution_count": 2,
   "id": "f280356e-c221-45e9-aab4-67b920ada7f4",
   "metadata": {},
   "outputs": [
    {
     "name": "stdin",
     "output_type": "stream",
     "text": [
      "enter the string:  FIRE is red\n"
     ]
    },
    {
     "name": "stdout",
     "output_type": "stream",
     "text": [
      "Min:  is\n",
      "Max:  red\n"
     ]
    }
   ],
   "source": [
    "# print the words of string having min and max ascii value\n",
    "str1 = input(\"enter the string: \")\n",
    "s1 = []\n",
    "words = str1.split()\n",
    "for i in words:\n",
    "    sums = 0\n",
    "    for j in i:\n",
    "        sums += ord(j)\n",
    "    s1.append(sums)    \n",
    "minm = 0\n",
    "maxm = 0\n",
    "idx = 0\n",
    "for i in s1:\n",
    "    if s1[minm] > i:\n",
    "        minm = idx\n",
    "    elif s1[maxm] < i:\n",
    "        maxm = idx\n",
    "    idx += 1\n",
    "print(\"Min: \",words[minm])\n",
    "print(\"Max: \",words[maxm])\n",
    "    \n",
    "\n",
    "\n",
    "            \n",
    "            \n"
   ]
  },
  {
   "cell_type": "code",
   "execution_count": 3,
   "id": "6cd749bb-9dde-4064-badc-47f9136ce38c",
   "metadata": {},
   "outputs": [
    {
     "name": "stdin",
     "output_type": "stream",
     "text": [
      "enter a string1:  What is the matter?\n",
      "enter string2:  water\n"
     ]
    },
    {
     "name": "stdout",
     "output_type": "stream",
     "text": [
      "true\n"
     ]
    }
   ],
   "source": [
    "#if chars of str2 occurs in correct order in str1\n",
    "str1 = input(\"enter a string1: \")\n",
    "str2 = input(\"enter string2: \")\n",
    "str1 = str1.lower()\n",
    "str2 = str2.lower()\n",
    "idx = 0\n",
    "for i in str1:\n",
    "   if i == str2[idx]:\n",
    "       idx += 1\n",
    "   if idx == len(str2):\n",
    "       break\n",
    "if idx == len(str2):\n",
    "    print(\"true\")\n",
    "else:\n",
    "    print(\"false\")\n",
    "            \n"
   ]
  },
  {
   "cell_type": "code",
   "execution_count": 7,
   "id": "676fd985-688f-4691-adc7-60790ab0bc8c",
   "metadata": {},
   "outputs": [
    {
     "name": "stdin",
     "output_type": "stream",
     "text": [
      "enter the size of list1 5\n",
      "enter the size of list2 4\n"
     ]
    },
    {
     "name": "stdout",
     "output_type": "stream",
     "text": [
      "enter the elements of list1:\n"
     ]
    },
    {
     "name": "stdin",
     "output_type": "stream",
     "text": [
      " 1146\n",
      " 234\n",
      " 338\n",
      " 245\n",
      " 492\n"
     ]
    },
    {
     "name": "stdout",
     "output_type": "stream",
     "text": [
      "enter the elements of list2:\n"
     ]
    },
    {
     "name": "stdin",
     "output_type": "stream",
     "text": [
      " 2\n",
      " 3\n",
      " 5\n",
      " 4\n"
     ]
    },
    {
     "name": "stdout",
     "output_type": "stream",
     "text": [
      "[234, 245]\n"
     ]
    }
   ],
   "source": [
    "#extract only the numbers from a list which have some specific digits\n",
    "l1 = []\n",
    "l2 = []\n",
    "l3 =[]\n",
    "lenl1 = []\n",
    "n1 = int(input(\"enter the size of list1\"))\n",
    "n2 = int(input(\"enter the size of list2\"))\n",
    "print(\"enter the elements of list1:\")\n",
    "for i in range(n1):\n",
    "    num = int(input())\n",
    "    l1.append(num)\n",
    "    lenl1.append(len(str(num)))\n",
    "print(\"enter the elements of list2:\")    \n",
    "for j in range(n2):\n",
    "    num = int(input())\n",
    "    l2.append(num)\n",
    "    \n",
    "idx = 0   \n",
    "for i in l1:\n",
    "    for j in l2:\n",
    "        temp = i\n",
    "        while temp > 0:\n",
    "            if temp % 10 == j:\n",
    "                lenl1[idx] -= 1\n",
    "            temp = int(temp/10)\n",
    "    idx +=1\n",
    "idx = 0    \n",
    "for i in lenl1:\n",
    "    if i == 0:\n",
    "        l3.append(l1[idx])\n",
    "    idx +=1    \n",
    "print(l3)   "
   ]
  },
  {
   "cell_type": "code",
   "execution_count": null,
   "id": "e0c1991c-e57d-46f5-8900-990a0801cdd9",
   "metadata": {},
   "outputs": [],
   "source": []
  }
 ],
 "metadata": {
  "kernelspec": {
   "display_name": "Python 3 (ipykernel)",
   "language": "python",
   "name": "python3"
  },
  "language_info": {
   "codemirror_mode": {
    "name": "ipython",
    "version": 3
   },
   "file_extension": ".py",
   "mimetype": "text/x-python",
   "name": "python",
   "nbconvert_exporter": "python",
   "pygments_lexer": "ipython3",
   "version": "3.13.0"
  }
 },
 "nbformat": 4,
 "nbformat_minor": 5
}
