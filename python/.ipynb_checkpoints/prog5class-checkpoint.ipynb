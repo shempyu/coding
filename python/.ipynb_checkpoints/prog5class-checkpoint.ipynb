{
 "cells": [
  {
   "cell_type": "code",
   "execution_count": 2,
   "id": "76c33021-1110-413e-91f0-08774f9ca7da",
   "metadata": {},
   "outputs": [
    {
     "name": "stdin",
     "output_type": "stream",
     "text": [
      "enter your name:  shem\n",
      "enter your country:  india\n",
      "enter yur dob(YYYY-MM-DD): 2003-06-20\n"
     ]
    },
    {
     "name": "stdout",
     "output_type": "stream",
     "text": [
      "name: shem country: india dob: 2003-06-20 age: 21\n"
     ]
    }
   ],
   "source": [
    "## Write a Python program that defines a person class with attributes such as name, country, \n",
    "# and date of birth. Develop a method to ascertain the person's age.\n",
    "from datetime import datetime\n",
    "class person:\n",
    "    ## private constructor\n",
    "    def __init__(self,name,country,dob):\n",
    "        self.name = name\n",
    "        self.country = country\n",
    "        self.dob = datetime.strptime(dob,'%Y-%m-%d')\n",
    "    def agecal(self):\n",
    "        today = datetime.today()\n",
    "        age = today.year - self.dob.year\n",
    "        if(today.month,today.day) < (self.dob.month,self.dob.day):\n",
    "            age-=1\n",
    "        return age \n",
    "name = input(\"enter your name: \")\n",
    "country = input(\"enter your country: \")\n",
    "dob = input(\"enter yur dob(YYYY-MM-DD):\")\n",
    "p1 = person(name,country,dob)\n",
    "print(f\"name: {p1.name} country: {p1.country} dob: {p1.dob.strftime('%Y-%m-%d')} age: {p1.agecal()}\")\n",
    "        \n",
    "        "
   ]
  },
  {
   "cell_type": "code",
   "execution_count": 11,
   "id": "c994430e-f4b5-495a-887b-9ec450045f4e",
   "metadata": {},
   "outputs": [
    {
     "name": "stdin",
     "output_type": "stream",
     "text": [
      "enter radius:  4\n",
      "enter base:  4\n",
      "enter height : 2\n",
      "enter hipotenuse :  5\n",
      "enter side:  6\n"
     ]
    },
    {
     "name": "stdout",
     "output_type": "stream",
     "text": [
      "area 50.24\n",
      "paremiter 25.12\n",
      "area 4.0\n",
      "paremiter 11\n",
      "area 36\n",
      "perimeter 24\n"
     ]
    }
   ],
   "source": [
    "# Write a Python program to establish a shape class, incorporating methods for calculating \n",
    "# both its area and perimeter. Extend this class with subclasses tailored for diverse shapes, \n",
    "# such as circle, triangle, and square.\n",
    "import math\n",
    "class shape:\n",
    "    def area(self):\n",
    "        print(\"no implemnet -> will be overidden by subclasses\")\n",
    "    def perimeter(self):\n",
    "        print(\"no implemnet -> will be overidden by subclasses\")\n",
    "class circle(shape):\n",
    "    def __init__(self,radius):\n",
    "        self.radius = radius\n",
    "    def area(self):\n",
    "        print(f\"area {self.radius * self.radius * 3.14}\")\n",
    "    def perimeter(self):\n",
    "        print(f\"paremiter {2 * 3.14 * self.radius}\")\n",
    "class tringle(shape):\n",
    "    def __init__(self,base,height,hipotenuse):\n",
    "        self.base = base\n",
    "        self.height = height\n",
    "        self.hipotenuse = hipotenuse\n",
    "    def area(self):\n",
    "        print(f\"area {(1/2) * self.base * self.height}\")\n",
    "    def perimeter(self):\n",
    "        print(f\"paremiter {(self.base + self.height + self.hipotenuse)}\")\n",
    "        \n",
    "class square(shape):\n",
    "    def __init__(self,side):\n",
    "        self.side = side\n",
    "    def area(self):\n",
    "        print(f\"area {(self.side **2)}\")\n",
    "    def perimeter(self):\n",
    "        print(f\"perimeter {(4 * self.side)}\")\n",
    "        \n",
    "r = int(input(\"enter radius: \"))  \n",
    "\n",
    "base = int(input(\"enter base: \"))\n",
    "height = int(input(\"enter height :\"))\n",
    "hipotenuse = int(input(\"enter hipotenuse : \"))\n",
    "\n",
    "side = int(input(\"enter side: \"))\n",
    "\n",
    "\n",
    "c1 = circle(r)\n",
    "c1.area()\n",
    "c1.perimeter()\n",
    "\n",
    "t1 = tringle(base,height,hipotenuse)\n",
    "t1.area()\n",
    "t1.perimeter()\n",
    "\n",
    "s1 = square(side)\n",
    "s1.area()\n",
    "s1.perimeter()\n",
    "        \n",
    "            \n",
    "    "
   ]
  },
  {
   "cell_type": "code",
   "execution_count": 14,
   "id": "93681c94-5da7-4668-bdd9-193fe9105018",
   "metadata": {},
   "outputs": [
    {
     "name": "stdout",
     "output_type": "stream",
     "text": [
      "\n",
      "Linked List Operations Menu:\n",
      "1. Insert a node\n",
      "2. Delete a node\n",
      "3. Display linked list\n",
      "4. Exit\n"
     ]
    },
    {
     "name": "stdin",
     "output_type": "stream",
     "text": [
      "enter your choice (1-4):  1\n",
      "enter the value to insert:  1\n"
     ]
    },
    {
     "name": "stdout",
     "output_type": "stream",
     "text": [
      "\n",
      "Linked List Operations Menu:\n",
      "1. Insert a node\n",
      "2. Delete a node\n",
      "3. Display linked list\n",
      "4. Exit\n"
     ]
    },
    {
     "name": "stdin",
     "output_type": "stream",
     "text": [
      "enter your choice (1-4):  1\n",
      "enter the value to insert:  2\n"
     ]
    },
    {
     "name": "stdout",
     "output_type": "stream",
     "text": [
      "\n",
      "Linked List Operations Menu:\n",
      "1. Insert a node\n",
      "2. Delete a node\n",
      "3. Display linked list\n",
      "4. Exit\n"
     ]
    },
    {
     "name": "stdin",
     "output_type": "stream",
     "text": [
      "enter your choice (1-4):  1\n",
      "enter the value to insert:  3\n"
     ]
    },
    {
     "name": "stdout",
     "output_type": "stream",
     "text": [
      "\n",
      "Linked List Operations Menu:\n",
      "1. Insert a node\n",
      "2. Delete a node\n",
      "3. Display linked list\n",
      "4. Exit\n"
     ]
    },
    {
     "name": "stdin",
     "output_type": "stream",
     "text": [
      "enter your choice (1-4):  1\n",
      "enter the value to insert:  4\n"
     ]
    },
    {
     "name": "stdout",
     "output_type": "stream",
     "text": [
      "\n",
      "Linked List Operations Menu:\n",
      "1. Insert a node\n",
      "2. Delete a node\n",
      "3. Display linked list\n",
      "4. Exit\n"
     ]
    },
    {
     "name": "stdin",
     "output_type": "stream",
     "text": [
      "enter your choice (1-4):  3\n"
     ]
    },
    {
     "name": "stdout",
     "output_type": "stream",
     "text": [
      "1 2 3 4 \n",
      "Linked List Operations Menu:\n",
      "1. Insert a node\n",
      "2. Delete a node\n",
      "3. Display linked list\n",
      "4. Exit\n"
     ]
    },
    {
     "name": "stdin",
     "output_type": "stream",
     "text": [
      "enter your choice (1-4):  4\n"
     ]
    },
    {
     "name": "stdout",
     "output_type": "stream",
     "text": [
      "exiting \n"
     ]
    }
   ],
   "source": [
    "## LINKED LIST\n",
    "class node:\n",
    "    def __init__(self,data):\n",
    "      self.data = data\n",
    "      self.next = None\n",
    "class Linkedlist:\n",
    "    def __init__(self):\n",
    "        self.head = None\n",
    "    def display(self):\n",
    "        curnt = self.head\n",
    "        if not curnt:\n",
    "            print(\"linked list is empty \")\n",
    "        else:\n",
    "            while curnt:\n",
    "                print(curnt.data,end=\" \")\n",
    "                curnt = curnt.next\n",
    "    def insert(self,data): \n",
    "        newnode = node(data)\n",
    "        if not self.head:\n",
    "            self.head = newnode\n",
    "        else:\n",
    "            curnt = self.head\n",
    "            while curnt.next:\n",
    "                curnt = curnt.next\n",
    "            curnt.next = newnode\n",
    "\n",
    "    def delete(self,key):\n",
    "        curnt = self.head\n",
    "        prev = None\n",
    "        while curnt and curnt.data != key:\n",
    "            prev = curnt\n",
    "            curnt = curnt.next\n",
    "        if not curnt:\n",
    "            print(\"key no found \")\n",
    "            return\n",
    "        if prev is None:  #deleteing head node\n",
    "            self.head = curnt.next    \n",
    "        else:\n",
    "            prev.next = curnt.next\n",
    "def menu():\n",
    "    print(\"\\nLinked List Operations Menu:\")\n",
    "    print(\"1. Insert a node\")\n",
    "    print(\"2. Delete a node\")\n",
    "    print(\"3. Display linked list\")\n",
    "    print(\"4. Exit\")\n",
    "\n",
    "linkedlist = Linkedlist()\n",
    "while True:\n",
    "    menu()\n",
    "    choice   = int(input(\"enter your choice (1-4): \"))\n",
    "    if choice == 1:\n",
    "        data = int(input(\"enter the value to insert: \"))\n",
    "        linkedlist.insert(data)\n",
    "    elif choice == 2:\n",
    "        key = int(input(\"enter the value to delete: \"))\n",
    "        linkedlist.delete(key)\n",
    "    elif choice == 3:\n",
    "        linkedlist.display()\n",
    "    elif choice == 4:\n",
    "        print(\"exiting \")\n",
    "        break\n",
    "    else:\n",
    "        print(\"invalid chpice.please try again\")\n",
    "    "
   ]
  },
  {
   "cell_type": "code",
   "execution_count": 18,
   "id": "549d11eb-8fbc-4640-b5ee-de526b32ee4a",
   "metadata": {},
   "outputs": [
    {
     "ename": "IndentationError",
     "evalue": "unindent does not match any outer indentation level (<string>, line 12)",
     "output_type": "error",
     "traceback": [
      "\u001b[1;36m  File \u001b[1;32m<string>:12\u001b[1;36m\u001b[0m\n\u001b[1;33m    else\u001b[0m\n\u001b[1;37m        ^\u001b[0m\n\u001b[1;31mIndentationError\u001b[0m\u001b[1;31m:\u001b[0m unindent does not match any outer indentation level\n"
     ]
    }
   ],
   "source": [
    "#### stack implementation ####\n",
    "class Stack:\n",
    "    def __init__(self):\n",
    "        self.stack = []\n",
    "        \n",
    "    def push(self, item):\n",
    "        self.stack.append(item)\n",
    "\n",
    "    def pop(self):\n",
    "        if self.is_empty():\n",
    "            print(\"empty\")\n",
    "else:\n",
    "           print(self.stack.pop())\n",
    "    def is_empty(self):\n",
    "        return len(self.stack) == 0\n",
    "\n",
    "    def display(self):\n",
    "        if self.is_empty():\n",
    "            print(\"The stack is empty.\")\n",
    "        else\n",
    "            print(self.stack[::-1])\n",
    "            \n",
    "def menu():\n",
    "    print(\"\\nStack Operations\")\n",
    "    print(\"1. Push an element\")\n",
    "    print(\"2. Pop an element\")\n",
    "    print(\"3. Display the stack\")\n",
    "    print(\"4. Exit\")\n",
    "\n",
    "\n",
    "# Main program using match-case\n",
    "if __name__ == \"__main__\":\n",
    "    stack1 = Stack()\n",
    "\n",
    "    while True:\n",
    "        menu()\n",
    "        choice = input(\"Enter your choice (1-4): \")\n",
    "\n",
    "        match choice:\n",
    "            case \"1\":\n",
    "                item = input(\"Enter the element to push: \")\n",
    "                stack1.push(item)\n",
    "            case \"2\":\n",
    "                stack1.pop()\n",
    "            case \"3\":\n",
    "                stack1.display()\n",
    "            case \"4\":\n",
    "                print(\"Exiting\")\n",
    "                break\n",
    "            case _:\n",
    "                print(\"Invalid choice.\")\n"
   ]
  },
  {
   "cell_type": "code",
   "execution_count": 12,
   "id": "352ea124-74df-4ff6-a603-811f5aa2c59e",
   "metadata": {},
   "outputs": [
    {
     "name": "stdout",
     "output_type": "stream",
     "text": [
      "\n",
      "choose operation: \n",
      "1.enq : \n",
      "2. dq : \n",
      "3. display: \n",
      "4. exit: \n"
     ]
    },
    {
     "name": "stdin",
     "output_type": "stream",
     "text": [
      "enter choice:  1\n",
      "enter data:  5\n"
     ]
    },
    {
     "name": "stdout",
     "output_type": "stream",
     "text": [
      "\n",
      "choose operation: \n",
      "1.enq : \n",
      "2. dq : \n",
      "3. display: \n",
      "4. exit: \n"
     ]
    },
    {
     "name": "stdin",
     "output_type": "stream",
     "text": [
      "enter choice:  1\n",
      "enter data:  7\n"
     ]
    },
    {
     "name": "stdout",
     "output_type": "stream",
     "text": [
      "\n",
      "choose operation: \n",
      "1.enq : \n",
      "2. dq : \n",
      "3. display: \n",
      "4. exit: \n"
     ]
    },
    {
     "name": "stdin",
     "output_type": "stream",
     "text": [
      "enter choice:  1\n",
      "enter data:  9\n"
     ]
    },
    {
     "name": "stdout",
     "output_type": "stream",
     "text": [
      "\n",
      "choose operation: \n",
      "1.enq : \n",
      "2. dq : \n",
      "3. display: \n",
      "4. exit: \n"
     ]
    },
    {
     "name": "stdin",
     "output_type": "stream",
     "text": [
      "enter choice:  1\n",
      "enter data:  6\n"
     ]
    },
    {
     "name": "stdout",
     "output_type": "stream",
     "text": [
      "\n",
      "choose operation: \n",
      "1.enq : \n",
      "2. dq : \n",
      "3. display: \n",
      "4. exit: \n"
     ]
    },
    {
     "name": "stdin",
     "output_type": "stream",
     "text": [
      "enter choice:  1\n",
      "enter data:  3\n"
     ]
    },
    {
     "name": "stdout",
     "output_type": "stream",
     "text": [
      "\n",
      "choose operation: \n",
      "1.enq : \n",
      "2. dq : \n",
      "3. display: \n",
      "4. exit: \n"
     ]
    },
    {
     "name": "stdin",
     "output_type": "stream",
     "text": [
      "enter choice:  3\n"
     ]
    },
    {
     "name": "stdout",
     "output_type": "stream",
     "text": [
      "qu content:  [5, 7, 9, 6, 3]\n",
      "\n",
      "choose operation: \n",
      "1.enq : \n",
      "2. dq : \n",
      "3. display: \n",
      "4. exit: \n"
     ]
    },
    {
     "name": "stdin",
     "output_type": "stream",
     "text": [
      "enter choice:  2\n"
     ]
    },
    {
     "name": "stdout",
     "output_type": "stream",
     "text": [
      "5\n",
      "\n",
      "choose operation: \n",
      "1.enq : \n",
      "2. dq : \n",
      "3. display: \n",
      "4. exit: \n"
     ]
    },
    {
     "name": "stdin",
     "output_type": "stream",
     "text": [
      "enter choice:  2\n"
     ]
    },
    {
     "name": "stdout",
     "output_type": "stream",
     "text": [
      "7\n",
      "\n",
      "choose operation: \n",
      "1.enq : \n",
      "2. dq : \n",
      "3. display: \n",
      "4. exit: \n"
     ]
    },
    {
     "name": "stdin",
     "output_type": "stream",
     "text": [
      "enter choice:  2\n"
     ]
    },
    {
     "name": "stdout",
     "output_type": "stream",
     "text": [
      "9\n",
      "\n",
      "choose operation: \n",
      "1.enq : \n",
      "2. dq : \n",
      "3. display: \n",
      "4. exit: \n"
     ]
    },
    {
     "name": "stdin",
     "output_type": "stream",
     "text": [
      "enter choice:  4\n"
     ]
    },
    {
     "name": "stdout",
     "output_type": "stream",
     "text": [
      "exiting \n"
     ]
    }
   ],
   "source": [
    "## Write a Python program to create a class representing a queue data structure. Implement \n",
    "#methods for both enqueueing and dequeuing elements.\n",
    "\n",
    "class Queue:\n",
    "    def __init__(self):\n",
    "        self.qu = []\n",
    "        \n",
    "    def enq(self,item):\n",
    "        self.qu.append(item)\n",
    "        \n",
    "    def dq(self):\n",
    "        if len(self.qu) == 0:\n",
    "            print(\"qu is empty \")\n",
    "        else:\n",
    "           item = self.qu.pop(0) \n",
    "           print(item)\n",
    "       \n",
    "    def display(self):\n",
    "        if len(self.qu) == 0:\n",
    "            print(\"qu is empty.\")\n",
    "            \n",
    "        else:\n",
    "            print(\"qu content: \",self.qu)\n",
    "\n",
    "def menu():\n",
    "    print(\"\\nchoose operation: \")\n",
    "    print(\"1.enq : \")\n",
    "    print(\"2. dq : \")\n",
    "    print(\"3. display: \")\n",
    "    print(\"4. exit: \")\n",
    "       \n",
    "            \n",
    "qu1 = Queue()\n",
    "while True:\n",
    "    menu()\n",
    "    choice = int(input(\"enter choice: \"))\n",
    "    if choice == 1:\n",
    "        data = int(input(\"enter data: \"))\n",
    "        qu1.enq(data)\n",
    "    elif choice == 2:\n",
    "        qu1.dq()\n",
    "    elif choice == 3:\n",
    "        qu1.display()\n",
    "    elif choice == 4:\n",
    "        print(\"exiting \")\n",
    "        break\n",
    "    else:\n",
    "        print(\"invalid choice :\")\n",
    "\n"
   ]
  },
  {
   "cell_type": "code",
   "execution_count": 23,
   "id": "66e9edb6-fbf5-472b-9d10-a7d2fb00bc47",
   "metadata": {},
   "outputs": [
    {
     "name": "stdin",
     "output_type": "stream",
     "text": [
      "Enter a hexadecimal number:  ff\n"
     ]
    },
    {
     "name": "stdout",
     "output_type": "stream",
     "text": [
      "Binary representation of ff: 11111111\n"
     ]
    }
   ],
   "source": [
    "#1. Write a Python program to convert hexa-decimal to binary number using recursion.\n",
    "\n",
    "\n",
    "def hex_char_to_binary(hex_char):\n",
    "    hex_to_bin_map = {\n",
    "        '0': '0000', '1': '0001', '2': '0010', '3': '0011',\n",
    "        '4': '0100', '5': '0101', '6': '0110', '7': '0111',\n",
    "        '8': '1000', '9': '1001', 'A': '1010', 'B': '1011',\n",
    "        'C': '1100', 'D': '1101', 'E': '1110', 'F': '1111'\n",
    "    }\n",
    "    return hex_to_bin_map[hex_char.upper()]\n",
    "    \n",
    "def hex_to_binary(hex_num):\n",
    "    if len(hex_num) == 0:\n",
    "        return \"\"\n",
    "\n",
    "    # Convert the first character to binary using the helper function\n",
    "    first_binary = hex_char_to_binary(hex_num[0])\n",
    "\n",
    "    # Recursively process the rest of the string\n",
    "    return first_binary + hex_to_binary(hex_num[1:])\n",
    "\n",
    "# Example usage\n",
    "hex_number = input(\"Enter a hexadecimal number: \")\n",
    "try:\n",
    "    binary_number = hex_to_binary(hex_number.upper())\n",
    "    print(f\"Binary representation of {hex_number}: {binary_number}\")\n",
    "except KeyError:\n",
    "    print(\"Invalid hexadecimal number.\")\n",
    "\n",
    "    \n"
   ]
  },
  {
   "cell_type": "code",
   "execution_count": 43,
   "id": "1368e313-e4f9-447a-b06d-8353566554e9",
   "metadata": {},
   "outputs": [
    {
     "name": "stdin",
     "output_type": "stream",
     "text": [
      "Enter a octal number:  57\n"
     ]
    },
    {
     "name": "stdout",
     "output_type": "stream",
     "text": [
      "Binary representation of 57: 101111\n"
     ]
    }
   ],
   "source": [
    "#2. Write a Python program to convert octal to binary number using recursion.\n",
    "def oct_char_to_binary(oct_char):\n",
    "    oct_to_bin_map = {\n",
    "        '0': '000', '1': '001', '2': '010', '3': '011',\n",
    "        '4': '100', '5': '101', '6': '110', '7': '111'\n",
    "    }\n",
    "    return oct_to_bin_map[oct_char.upper()]\n",
    "    \n",
    "def oct_to_binary(oct_num):\n",
    "    if len(oct_num) == 0:\n",
    "        return \"\"\n",
    "\n",
    "    # Convert the first character to binary using the helper function\n",
    "    first_binary = oct_char_to_binary(oct_num[0])\n",
    "\n",
    "    # Recursively process the rest of the string\n",
    "    return first_binary + oct_to_binary(oct_num[1:])\n",
    "\n",
    "# Example usage\n",
    "oct_number = input(\"Enter a octal number: \")\n",
    "try:\n",
    "    binary_number = oct_to_binary(oct_number.upper())\n",
    "    print(f\"Binary representation of {oct_number}: {binary_number}\")\n",
    "except KeyError:\n",
    "    print(\"Invalid octal number.\")\n",
    "\n",
    "    \n"
   ]
  },
  {
   "cell_type": "code",
   "execution_count": 30,
   "id": "349244a0-f12e-4def-a591-861251862af9",
   "metadata": {},
   "outputs": [
    {
     "name": "stdin",
     "output_type": "stream",
     "text": [
      "Enter the first binary number:  1001\n",
      "Enter the second binary number:  1001\n"
     ]
    },
    {
     "name": "stdout",
     "output_type": "stream",
     "text": [
      "The sum of 1001 and 1001 is: 10010\n"
     ]
    }
   ],
   "source": [
    "#3. Write a Python program to add two binary numbers.(input and output both needs to be in binary).\n",
    "#\teg: \tInput: a = \"1101\", b = \"100\"\n",
    "#\t\tOutput: 10001\n",
    "def add_binary(bin1, bin2):\n",
    "\n",
    "    def binary_to_decimal(binary):\n",
    "        decimal = 0\n",
    "        for i, bit in enumerate(reversed(binary)):\n",
    "            decimal += int(bit) * (2 ** i)\n",
    "        return decimal\n",
    "\n",
    "    def decimal_to_binary(decimal):\n",
    "        if decimal == 0:\n",
    "            return \"0\"\n",
    "        binary = \"\"\n",
    "        while decimal > 0:\n",
    "            binary = str(decimal % 2) + binary\n",
    "            decimal //= 2\n",
    "        return binary\n",
    "\n",
    "    decimal_sum = binary_to_decimal(bin1) + binary_to_decimal(bin2)\n",
    "    return decimal_to_binary(decimal_sum)\n",
    "\n",
    "\n",
    "binary1 = input(\"Enter the first binary number: \")\n",
    "binary2 = input(\"Enter the second binary number: \")\n",
    "try:\n",
    "    result = add_binary(binary1, binary2)\n",
    "    print(f\"The sum of {binary1} and {binary2} is: {result}\")\n",
    "except ValueError:\n",
    "    print(\"Invalid binary input. Please enter valid binary numbers.\")\n"
   ]
  },
  {
   "cell_type": "code",
   "execution_count": 42,
   "id": "0c52eeeb-8fee-4cc0-b4b5-433b892af600",
   "metadata": {},
   "outputs": [
    {
     "name": "stdin",
     "output_type": "stream",
     "text": [
      "Enter the first integer:  1\n",
      "Enter the second integer:  0\n"
     ]
    },
    {
     "name": "stdout",
     "output_type": "stream",
     "text": [
      "Bitwise operation results:\n",
      "AND: 0\n",
      "OR: 1\n",
      "XOR: 1\n",
      "NOT a: -2\n",
      "NOT b: -1\n"
     ]
    }
   ],
   "source": [
    "#4. Write a Python program to perform different bitwise operations (like: XOR, AND, OR, NOT).\n",
    "\n",
    "def bitwise_operations(a, b):\n",
    "    results = {\n",
    "        'AND': a & b,\n",
    "        'OR': a | b,\n",
    "        'XOR': a ^ b,\n",
    "        'NOT a': ~a,\n",
    "        'NOT b': ~b\n",
    "    }\n",
    "    return results\n",
    "\n",
    "try:\n",
    "    num1 = int(input(\"Enter the first integer: \"))\n",
    "    num2 = int(input(\"Enter the second integer: \"))\n",
    "\n",
    "    operations = bitwise_operations(num1, num2)\n",
    "\n",
    "    print(\"Bitwise operation results:\")\n",
    "    for operation, result in operations.items():\n",
    "        print(f\"{operation}: {result}\")\n",
    "except ValueError:\n",
    "    print(\"Invalid input. Please enter valid integers.\")\n"
   ]
  },
  {
   "cell_type": "code",
   "execution_count": 33,
   "id": "0d6fc0a3-f006-46d4-845c-fc2abc2015bc",
   "metadata": {},
   "outputs": [
    {
     "name": "stdin",
     "output_type": "stream",
     "text": [
      "Enter the first hexadecimal number:  66\n",
      "Enter the second hexadecimal number:  33\n"
     ]
    },
    {
     "name": "stdout",
     "output_type": "stream",
     "text": [
      "Binary subtraction result: 110011\n"
     ]
    }
   ],
   "source": [
    "#5. Write a Python program to perform binary substraction on input given in hexadecimal format.\n",
    "\n",
    "def hex_to_binary(hex_num):\n",
    "    hex_to_bin_map = {\n",
    "        '0': '0000', '1': '0001', '2': '0010', '3': '0011',\n",
    "        '4': '0100', '5': '0101', '6': '0110', '7': '0111',\n",
    "        '8': '1000', '9': '1001', 'A': '1010', 'B': '1011',\n",
    "        'C': '1100', 'D': '1101', 'E': '1110', 'F': '1111'\n",
    "    }\n",
    "    binary_result = \"\"\n",
    "    for char in hex_num.upper():\n",
    "        binary_result += hex_to_bin_map[char]\n",
    "    return binary_result\n",
    "\n",
    "def binary_to_decimal(binary_num):\n",
    "    \n",
    "    decimal = 0\n",
    "    for i, bit in enumerate(reversed(binary_num)):\n",
    "        decimal += int(bit) * (2 ** i)\n",
    "    return decimal\n",
    "\n",
    "def decimal_to_binary(decimal_num):\n",
    "   \n",
    "    if decimal_num == 0:\n",
    "        return \"0\"\n",
    "    binary = \"\"\n",
    "    while decimal_num > 0:\n",
    "        binary = str(decimal_num % 2) + binary\n",
    "        decimal_num //= 2\n",
    "    return binary\n",
    "\n",
    "def binary_subtraction(hex1, hex2):\n",
    "    \n",
    "    # Convert hexadecimal to binary\n",
    "    bin1 = hex_to_binary(hex1)\n",
    "    bin2 = hex_to_binary(hex2)\n",
    "\n",
    "    # Convert binary to decimal for subtraction\n",
    "    dec1 = binary_to_decimal(bin1)\n",
    "    dec2 = binary_to_decimal(bin2)\n",
    "\n",
    "    # Perform subtraction\n",
    "    result_decimal = dec1 - dec2\n",
    "\n",
    "    if result_decimal < 0:\n",
    "        raise ValueError(\"Subtraction result is negative, which is not supported in unsigned binary.\")\n",
    "\n",
    "    # Convert result back to binary\n",
    "    result_binary = decimal_to_binary(result_decimal)\n",
    "    return result_binary\n",
    "\n",
    "# Example usage\n",
    "if __name__ == \"__main__\":\n",
    "    try:\n",
    "        hex_num1 = input(\"Enter the first hexadecimal number: \")\n",
    "        hex_num2 = input(\"Enter the second hexadecimal number: \")\n",
    "\n",
    "        result = binary_subtraction(hex_num1, hex_num2)\n",
    "\n",
    "        print(f\"Binary subtraction result: {result}\")\n",
    "    except ValueError as e:\n",
    "        print(e)\n",
    "    except KeyError:\n",
    "        print(\"Invalid hexadecimal input.\")\n"
   ]
  },
  {
   "cell_type": "code",
   "execution_count": 36,
   "id": "0749f44c-6c18-48a7-9c74-1b1df2a45580",
   "metadata": {},
   "outputs": [
    {
     "name": "stdin",
     "output_type": "stream",
     "text": [
      "Enter an expression to check for balanced parentheses:  {{[)(]}}\n"
     ]
    },
    {
     "name": "stdout",
     "output_type": "stream",
     "text": [
      "The expression does not have balanced parentheses.\n"
     ]
    }
   ],
   "source": [
    "#6. Write a Python program to check balanced parenthesis. (with proper error handling)\n",
    "def is_balanced_parentheses(expression):\n",
    "    \n",
    "    stack = []\n",
    "    parentheses_map = {')': '(', '}': '{', ']': '['}\n",
    "\n",
    "    for char in expression:\n",
    "        if char in parentheses_map.values():\n",
    "            stack.append(char)  # Push opening brackets onto the stack\n",
    "        elif char in parentheses_map.keys():\n",
    "            if stack and stack[-1] == parentheses_map[char]:   #last elem of stack and currt should match\n",
    "                stack.pop()  # Pop the matching opening bracket\n",
    "            else:\n",
    "                return False  # Mismatch or unbalanced closing bracket\n",
    "\n",
    "    return len(stack) == 0  # Stack should be empty if balanced\n",
    "\n",
    "# Example usage\n",
    "if __name__ == \"__main__\":\n",
    "    try:\n",
    "        expr = input(\"Enter an expression to check for balanced parentheses: \")\n",
    "        if not expr:\n",
    "            raise ValueError(\"Input cannot be empty.\")\n",
    "\n",
    "        if is_balanced_parentheses(expr):\n",
    "            print(\"The expression has balanced parentheses.\")\n",
    "        else:\n",
    "            print(\"The expression does not have balanced parentheses.\")\n",
    "    except ValueError as e:\n",
    "        print(e)\n",
    "    except Exception as e:\n",
    "        print(f\"An unexpected error occurred: {e}\")\n"
   ]
  },
  {
   "cell_type": "code",
   "execution_count": 39,
   "id": "ffbda832-f129-46b9-8a3a-184f28c73f77",
   "metadata": {},
   "outputs": [
    {
     "name": "stdout",
     "output_type": "stream",
     "text": [
      "Random color hex: #63583c\n",
      "Random alphabetical string: ZQWHHYUp\n",
      "Random value between 10 and 100: 71\n",
      "Random multiple of 7 between 0 and 70: 14\n"
     ]
    }
   ],
   "source": [
    "#1. Write a Python program to generate a random color hex, a random alphabetical string, random value between two integers (inclusive) and a random multiple of 7 between 0 and 70. Use random.randint()\n",
    "\n",
    "import random\n",
    "import string\n",
    "\n",
    "# Generate a random color hex (e.g., #a3c1d1)\n",
    "def random_color_hex():\n",
    "    return \"#{:02x}{:02x}{:02x}\".format(random.randint(0, 255), random.randint(0, 255), random.randint(0, 255))\n",
    "\n",
    "# Generate a random alphabetical string of length 8\n",
    "def random_alphabetical_string(length=8):\n",
    "    return ''.join(random.choices(string.ascii_letters, k=length))\n",
    "\n",
    "# Generate a random value between two integers (inclusive)\n",
    "def random_value_between(min_value, max_value):\n",
    "    return random.randint(min_value, max_value)\n",
    "\n",
    "# Generate a random multiple of 7 between 0 and 70 (inclusive)\n",
    "def random_multiple_of_7():\n",
    "    return random.randint(0, 10) * 7\n",
    "\n",
    "# Demonstrate the random values generated\n",
    "print(\"Random color hex:\", random_color_hex())\n",
    "print(\"Random alphabetical string:\", random_alphabetical_string())\n",
    "print(\"Random value between 10 and 100:\", random_value_between(10, 100))\n",
    "print(\"Random multiple of 7 between 0 and 70:\", random_multiple_of_7())\n"
   ]
  },
  {
   "cell_type": "code",
   "execution_count": 40,
   "id": "e65f6042-792a-48f7-9ba3-ad03e5f0f308",
   "metadata": {},
   "outputs": [
    {
     "name": "stdout",
     "output_type": "stream",
     "text": [
      "Random from list: 1\n",
      "Random from set: 40\n",
      "Random from dictionary value: 100\n",
      "Random file from directory: practice.ipynb\n"
     ]
    }
   ],
   "source": [
    "2. Write a Python program to select a random element from a list, set, dictionary-value, and file from a directory. Use random.choice().\n",
    "\n",
    "import random\n",
    "import os\n",
    "\n",
    "# Select a random element from a list\n",
    "def random_from_list(input_list):\n",
    "    return random.choice(input_list)\n",
    "\n",
    "# Select a random element from a set\n",
    "def random_from_set(input_set):\n",
    "    return random.choice(list(input_set))  # Convert set to list for random.choice()\n",
    "\n",
    "# Select a random value from a dictionary\n",
    "def random_from_dict(input_dict):\n",
    "    return random.choice(list(input_dict.values()))  # Convert dict values to list\n",
    "\n",
    "# Select a random file from a directory\n",
    "def random_from_directory(directory_path):\n",
    "    # Get all files in the directory\n",
    "    files = [f for f in os.listdir(directory_path) if os.path.isfile(os.path.join(directory_path, f))]\n",
    "    return random.choice(files)  # Select a random file\n",
    "\n",
    "# Example usage:\n",
    "if __name__ == \"__main__\":\n",
    "    # Example list, set, and dictionary\n",
    "    my_list = [1, 2, 3, 4, 5]\n",
    "    my_set = {10, 20, 30, 40, 50}\n",
    "    my_dict = {'a': 100, 'b': 200, 'c': 300}\n",
    "\n",
    "    # Directory path (adjust to your local directory)\n",
    "    directory_path = './'  # Assuming the current directory contains some files\n",
    "\n",
    "    # Display random selections\n",
    "    print(\"Random from list:\", random_from_list(my_list))\n",
    "    print(\"Random from set:\", random_from_set(my_set))\n",
    "    print(\"Random from dictionary value:\", random_from_dict(my_dict))\n",
    "    print(\"Random file from directory:\", random_from_directory(directory_path))\n"
   ]
  },
  {
   "cell_type": "code",
   "execution_count": 41,
   "id": "39040c47-7e73-4603-984b-b883447ab634",
   "metadata": {},
   "outputs": [
    {
     "name": "stdout",
     "output_type": "stream",
     "text": [
      "Current date and time: 2024-12-26 20:41:03.889659\n",
      "Current year: 2024\n",
      "Month of year: 12\n",
      "Week number of the year: 52\n",
      "Weekday of the week: 3\n",
      "Day of the year: 361\n",
      "Day of the month: 26\n",
      "Day of the week: Thursday\n"
     ]
    }
   ],
   "source": [
    "\"\"\"3. Write a Python script to display the various Date Time formats -(using datetime module)\n",
    "\ta) Current date and time\n",
    "\tb) Current year\n",
    "\tc) Month of year\n",
    "\td) Week number of the year\n",
    "\te) Weekday of the week\n",
    "\tf) Day of year\n",
    "\tg) Day of the month\n",
    "\th) Day of week\n",
    "    \"\"\"\n",
    "import datetime\n",
    "\n",
    "# Get the current date and time\n",
    "current_datetime = datetime.datetime.now()\n",
    "\n",
    "# a) Current date and time\n",
    "print(\"Current date and time:\", current_datetime)\n",
    "\n",
    "# b) Current year\n",
    "current_year = current_datetime.year\n",
    "print(\"Current year:\", current_year)\n",
    "\n",
    "# c) Month of year\n",
    "current_month = current_datetime.month\n",
    "print(\"Month of year:\", current_month)\n",
    "\n",
    "# d) Week number of the year\n",
    "week_number = current_datetime.isocalendar()[1]\n",
    "print(\"Week number of the year:\", week_number)\n",
    "\n",
    "# e) Weekday of the week (0=Monday, 6=Sunday)\n",
    "weekday = current_datetime.weekday()\n",
    "print(\"Weekday of the week:\", weekday)\n",
    "\n",
    "# f) Day of year\n",
    "day_of_year = current_datetime.timetuple().tm_yday\n",
    "print(\"Day of the year:\", day_of_year)\n",
    "\n",
    "# g) Day of the month\n",
    "day_of_month = current_datetime.day\n",
    "print(\"Day of the month:\", day_of_month)\n",
    "\n",
    "# h) Day of week (e.g., Monday, Tuesday, etc.)\n",
    "day_of_week = current_datetime.strftime(\"%A\")\n",
    "print(\"Day of the week:\", day_of_week)\n"
   ]
  },
  {
   "cell_type": "code",
   "execution_count": null,
   "id": "0e26e280-155d-48cc-89c3-53a4be5693ae",
   "metadata": {},
   "outputs": [],
   "source": []
  }
 ],
 "metadata": {
  "kernelspec": {
   "display_name": "Python 3 (ipykernel)",
   "language": "python",
   "name": "python3"
  },
  "language_info": {
   "codemirror_mode": {
    "name": "ipython",
    "version": 3
   },
   "file_extension": ".py",
   "mimetype": "text/x-python",
   "name": "python",
   "nbconvert_exporter": "python",
   "pygments_lexer": "ipython3",
   "version": "3.13.0"
  }
 },
 "nbformat": 4,
 "nbformat_minor": 5
}
