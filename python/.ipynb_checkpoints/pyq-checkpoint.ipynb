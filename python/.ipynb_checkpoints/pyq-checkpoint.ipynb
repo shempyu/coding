{
 "cells": [
  {
   "cell_type": "code",
   "execution_count": 15,
   "id": "4e8859ad-0709-4cbb-81cd-8080cb17d9c6",
   "metadata": {},
   "outputs": [
    {
     "name": "stdin",
     "output_type": "stream",
     "text": [
      "enter the sentence : shempyu is good boy\n"
     ]
    },
    {
     "name": "stdout",
     "output_type": "stream",
     "text": [
      "shempyu : 7\n",
      "good : 4\n",
      "boy : 3\n",
      "is : 2\n"
     ]
    }
   ],
   "source": [
    "#sort words of sentence in the order of their length and then alphabticaly and show them\n",
    "sen = input(\"enter the sentence :\")\n",
    "words = sen.split()\n",
    "l1 = []\n",
    "l2 = []\n",
    "for i in words:\n",
    "    l1.append(len(i))\n",
    "\n",
    "for i in range(0,len(l1)):\n",
    "    l2.append(i)\n",
    "for i in range(0,len(l1)):\n",
    "    for j in range(i + 1,len(l1)):\n",
    "        if l1[l2[i]]  < l1[l2[j]] or (l1[l2[i]] == l1[l2[j]] and words[l2[i]] > words[l2[j]]):\n",
    "            temp = l2[i]\n",
    "            l2[i] = l2[j]\n",
    "            l2[j] = temp\n",
    "for idx in l2:\n",
    "    print(f\"{words[idx]} : {l1[idx]}\")\n",
    "            \n",
    "        "
   ]
  },
  {
   "cell_type": "code",
   "execution_count": 17,
   "id": "fcfdf780-5880-41ae-8b1e-2bc2eda3c9ed",
   "metadata": {},
   "outputs": [
    {
     "name": "stdin",
     "output_type": "stream",
     "text": [
      "Enter the first hexadecimal number:  A3\n",
      "Enter the second hexadecimal number:  B7\n"
     ]
    },
    {
     "name": "stdout",
     "output_type": "stream",
     "text": [
      "Hexadecimal Sum: 15A\n",
      "Binary Sum: 101011010\n"
     ]
    }
   ],
   "source": [
    "#add two heaxdecimal numbers  and print result in binary\n",
    "def hex_addition_to_binary(hex1, hex2):\n",
    "    # Convert hexadecimal to decimal\n",
    "    dec1 = int(hex1, 16)\n",
    "    dec2 = int(hex2, 16)\n",
    "    \n",
    "    # Add the decimal numbers\n",
    "    result_decimal = dec1 + dec2\n",
    "    \n",
    "    # Convert the result to hexadecimal\n",
    "    result_hex = hex(result_decimal)[2:].upper()  # remove the '0x' prefix and convert to uppercase\n",
    "    \n",
    "    # Convert the result to binary\n",
    "    result_bin = bin(result_decimal)[2:]  # remove the '0b' prefix\n",
    "    \n",
    "    return result_hex, result_bin\n",
    "\n",
    "# User input for hexadecimal numbers\n",
    "hex1 = input(\"Enter the first hexadecimal number: \").strip()\n",
    "hex2 = input(\"Enter the second hexadecimal number: \").strip()\n",
    "\n",
    "# Calculate the result\n",
    "result_hex, result_bin = hex_addition_to_binary(hex1, hex2)\n",
    "\n",
    "# Display the results\n",
    "print(f\"Hexadecimal Sum: {result_hex}\")\n",
    "print(f\"Binary Sum: {result_bin}\")\n",
    "\n"
   ]
  },
  {
   "cell_type": "code",
   "execution_count": 26,
   "id": "4ccab6a7-0a60-44e8-8d12-3d16fd37bfc0",
   "metadata": {},
   "outputs": [
    {
     "name": "stdin",
     "output_type": "stream",
     "text": [
      "enter  a roman numeral (1 to 99):  vi\n"
     ]
    },
    {
     "name": "stdout",
     "output_type": "stream",
     "text": [
      "The decimal value of VI is 6\n"
     ]
    }
   ],
   "source": [
    "#roman to decimal bewtween( 1-99)\n",
    "roman = input(\"enter  a roman numeral (1 to 99): \").strip().upper()\n",
    "values = {'I':1,'V':5,'X':10,'L':50,'C':100}\n",
    "decimal = 0\n",
    "n = len(roman)\n",
    "for i in range(n):\n",
    "    if i< n-1 and values[roman[i]] < values[roman[i+1]]:\n",
    "        decimal -= values[roman[i]]\n",
    "    else:\n",
    "        decimal += values[roman[i]]\n",
    "print(f\"The decimal value of {roman} is {decimal}\")        \n",
    "        "
   ]
  },
  {
   "cell_type": "code",
   "execution_count": 14,
   "id": "b3345c52-4752-44a2-b48b-93cf088aaf54",
   "metadata": {},
   "outputs": [
    {
     "name": "stdin",
     "output_type": "stream",
     "text": [
      "enter the exp:  (()))\n"
     ]
    },
    {
     "name": "stdout",
     "output_type": "stream",
     "text": [
      "parenthesis not matched\n"
     ]
    }
   ],
   "source": [
    "#to check balance parenthesis\n",
    "exp = input(\"enter the exp: \")\n",
    "x = 0\n",
    "for i in exp:\n",
    "    if i == '(':\n",
    "        x += 1\n",
    "    elif i == ')':\n",
    "        x -= 1\n",
    "        if x < 0:\n",
    "            break\n",
    "if x==0 :\n",
    "    print(\"paranthesis matched\")\n",
    "else :\n",
    "    print(\"parenthesis not matched\")\n",
    "\n",
    "        \n",
    "        \n",
    "    "
   ]
  },
  {
   "cell_type": "code",
   "execution_count": 3,
   "id": "7bbb5b73-04fb-4b1d-b134-7f8a025aaecb",
   "metadata": {},
   "outputs": [
    {
     "name": "stdin",
     "output_type": "stream",
     "text": [
      "Enter the binary number:  111001\n"
     ]
    },
    {
     "name": "stdout",
     "output_type": "stream",
     "text": [
      "The 4-bit wrapped sum is: 1100\n"
     ]
    }
   ],
   "source": [
    "# Binary wrapping of 4 bits\n",
    "b = input(\"Enter the binary number: \")\n",
    "temp = b\n",
    "while len(temp) > 4:\n",
    "    c = temp[:-4]  # Bits to be wrapped\n",
    "    temp = temp[-4:]  # Last 4 bits\n",
    "    num1 = int(c, 2)\n",
    "    num2 = int(temp, 2)\n",
    "    sum_deci = num1 + num2\n",
    "    temp = bin(sum_deci)[2:]  # Remove '0b' prefix\n",
    "sum_bin = temp\n",
    "print(f\"The 4-bit wrapped sum is: {sum_bin}\")\n"
   ]
  },
  {
   "cell_type": "code",
   "execution_count": 2,
   "id": "0e75f1a6-9dba-407b-af37-c02d7749cf4a",
   "metadata": {},
   "outputs": [
    {
     "name": "stdout",
     "output_type": "stream",
     "text": [
      "4186\n"
     ]
    }
   ],
   "source": [
    "n = 1414186\n",
    "d = 10000\n",
    "c = int(n%d)\n",
    "print(c)"
   ]
  },
  {
   "cell_type": "code",
   "execution_count": 20,
   "id": "1bffc0c4-47db-40cd-bcda-0eec1ca8f1a6",
   "metadata": {},
   "outputs": [
    {
     "name": "stdin",
     "output_type": "stream",
     "text": [
      "enter the size of list 9\n",
      "enter the elements of list:  4\n",
      "enter the elements of list:  1\n",
      "enter the elements of list:  5\n",
      "enter the elements of list:  7\n",
      "enter the elements of list:  4\n",
      "enter the elements of list:  8\n",
      "enter the elements of list:  1\n",
      "enter the elements of list:  7\n",
      "enter the elements of list:  5\n"
     ]
    },
    {
     "name": "stdout",
     "output_type": "stream",
     "text": [
      "element:  4 count:  2\n",
      "element:  1 count:  2\n",
      "element:  5 count:  2\n",
      "element:  7 count:  2\n",
      "element:  8 count:  1\n"
     ]
    }
   ],
   "source": [
    "#frequen of each element with eleemnt \n",
    "n = int(input(\"enter the size of list\"))\n",
    "l1 = []\n",
    "l2 = []\n",
    "l3 = []\n",
    "for i in range(n):\n",
    "    num = int(input(\"enter the elements of list: \"))\n",
    "    l1.append(num)\n",
    "for i in range(0,n):\n",
    "    count = 0\n",
    "    for j in range(0,n):\n",
    "        if l1[j] == l1[i]:\n",
    "            count += 1\n",
    "            l2.append\n",
    "    if l1[i] not in l2:\n",
    "        l2.append(l1[i])\n",
    "        l3.append(count)\n",
    "\n",
    "for i in range(0,len(l2)):\n",
    "    print(\"element: \",l2[i],\"count: \",l3[i])"
   ]
  },
  {
   "cell_type": "code",
   "execution_count": 26,
   "id": "6c66cec6-9264-4219-84ce-282d6c1654b4",
   "metadata": {},
   "outputs": [
    {
     "name": "stdout",
     "output_type": "stream",
     "text": [
      "{'best': 4, 'are': 2, 'we': 5}\n"
     ]
    }
   ],
   "source": [
    "#reverse keys of dictionary\n",
    "dict1 = {'we':4,'are':2,'best':5}\n",
    "n = len(dict1)\n",
    "keys = list(dict1.keys())\n",
    "values = list(dict1.values())\n",
    "revdict = {}\n",
    "for i in range(0,n):\n",
    "    revdict[keys[n-1-i]] = values[i]\n",
    "    \n",
    "print(revdict)    \n",
    "    \n",
    "    "
   ]
  },
  {
   "cell_type": "code",
   "execution_count": null,
   "id": "cf290c39-4b94-4c81-a063-e4e2075f97b1",
   "metadata": {},
   "outputs": [],
   "source": []
  },
  {
   "cell_type": "code",
   "execution_count": 9,
   "id": "f43453e8-3341-4fb6-a8c3-5b6cb8a56253",
   "metadata": {},
   "outputs": [
    {
     "name": "stdin",
     "output_type": "stream",
     "text": [
      "enter the size of first array:  3\n",
      "enter the size of second array:  3\n"
     ]
    },
    {
     "name": "stdout",
     "output_type": "stream",
     "text": [
      "enter the elements of list1:\n"
     ]
    },
    {
     "name": "stdin",
     "output_type": "stream",
     "text": [
      " 2\n",
      " 4\n",
      " 6\n",
      " 8\n",
      " 10\n",
      " 12\n"
     ]
    },
    {
     "name": "stdout",
     "output_type": "stream",
     "text": [
      "number of pairs:  0\n"
     ]
    }
   ],
   "source": [
    "##### print number of ordered pair formed from two arrays such that the sum of pairs is an odd number and an element can be only in one pair\n",
    "n1 = int(input(\"enter the size of first array: \"))\n",
    "n2 = int(input(\"enter the size of second array: \"))\n",
    "x1 = []\n",
    "x2 = []\n",
    "print(\"enter the elements of list1:\")\n",
    "for i in range(n1):\n",
    "    num = int(input())\n",
    "    x1.append(num)\n",
    "for i in range(n2):\n",
    "    num = int(input())\n",
    "    x2.append(num)\n",
    "l2 = [] \n",
    "l3 = []\n",
    "count = 0\n",
    "for i in x1:\n",
    "    for j in x2:\n",
    "        if (i + j)%2 != 0 and i not in l2 and j not in l3:\n",
    "            l2.append(i)\n",
    "            l3.append(j)\n",
    "            count += 1\n",
    "            break\n",
    "print(\"number of pairs: \",count)            \n",
    "for i in range(count):\n",
    "    print(f\"{{{l2[i]},{l3[i]}}}\",end = \"\")"
   ]
  },
  {
   "cell_type": "code",
   "execution_count": 12,
   "id": "b2894e8f-4975-4f41-ba9f-192697ceed79",
   "metadata": {},
   "outputs": [
    {
     "name": "stdin",
     "output_type": "stream",
     "text": [
      "enter the senence of string:  shem is good boy\n"
     ]
    },
    {
     "name": "stdout",
     "output_type": "stream",
     "text": [
      "mehs si doog yob\n"
     ]
    }
   ],
   "source": [
    "#reverse each word of list using recursion\n",
    "def rev(str2):\n",
    "    if len(str2) == 0:\n",
    "        return str2\n",
    "    else:\n",
    "        return str2[-1] + rev(str2[:-1])\n",
    "sen = input(\"enter the senence of string: \")\n",
    "words = sen.split()\n",
    "l1 = []\n",
    "for i in words:\n",
    "    l1.append(rev(i))\n",
    "result = ' '.join(l1)    \n",
    "print(result)                      \n",
    "    \n",
    "    "
   ]
  },
  {
   "cell_type": "code",
   "execution_count": 14,
   "id": "4aa7028c-bc67-405e-8ff0-92f18fab3d9d",
   "metadata": {},
   "outputs": [
    {
     "name": "stdout",
     "output_type": "stream",
     "text": [
      "afbecdgfheid\n"
     ]
    }
   ],
   "source": [
    "# str1 = \"abc\" , str2 = \"def\", output: afbecd\n",
    "str1 = \"abcghi\"\n",
    "str2 = \"def\"\n",
    "str3 =\"\"\n",
    "n1 = len(str1)\n",
    "n2 = len(str2)\n",
    "for i in range(n1):\n",
    "    if n1 != 0:\n",
    "        str3 +=str1[i]\n",
    "    if n2 != 0:\n",
    "        str3 += str2[n2-1-i]\n",
    "print(str3)        \n",
    "        "
   ]
  },
  {
   "cell_type": "code",
   "execution_count": 2,
   "id": "9fe422db-8a6a-4f28-926a-eab1e5b6c914",
   "metadata": {},
   "outputs": [
    {
     "name": "stdin",
     "output_type": "stream",
     "text": [
      "enter the number of terms of series of sum u want:  4\n"
     ]
    },
    {
     "name": "stdout",
     "output_type": "stream",
     "text": [
      "sum of sereis:  2.083333333333333\n"
     ]
    }
   ],
   "source": [
    "#sum of sereies:1+1/2+1/3+...+1/n\n",
    "n = int(input(\"enter the number of terms of series of sum u want: \"))\n",
    "sum1 = 0\n",
    "for i in range(n):\n",
    "    sum1 += 1/(i+1)\n",
    "print(\"sum of sereis: \",sum1)    "
   ]
  },
  {
   "cell_type": "code",
   "execution_count": 7,
   "id": "c4f80236-b469-474d-9b34-f04a43bfefa2",
   "metadata": {},
   "outputs": [
    {
     "name": "stdin",
     "output_type": "stream",
     "text": [
      "Enter 'D' to convert decimal to Roman or 'Q' to quit:  d\n",
      "Enter a decimal number (1 to 99):  69\n"
     ]
    },
    {
     "name": "stdout",
     "output_type": "stream",
     "text": [
      "The Roman numeral for 69 is LXIX\n"
     ]
    },
    {
     "name": "stdin",
     "output_type": "stream",
     "text": [
      "Enter 'D' to convert decimal to Roman or 'Q' to quit:  q\n"
     ]
    },
    {
     "name": "stdout",
     "output_type": "stream",
     "text": [
      "Exiting the converter. Goodbye!\n"
     ]
    }
   ],
   "source": []
  },
  {
   "cell_type": "code",
   "execution_count": 6,
   "id": "8f898b18-3a1c-4987-993f-0cad8596ccf4",
   "metadata": {},
   "outputs": [
    {
     "name": "stdin",
     "output_type": "stream",
     "text": [
      "enter the value of decimal:  69\n"
     ]
    },
    {
     "name": "stdout",
     "output_type": "stream",
     "text": [
      "LXIX\n"
     ]
    }
   ],
   "source": [
    "#decimal to roman\n",
    "def decitoroman(deci):\n",
    "    romanpairs = [(90,'XC'),(50,'L'),(40,'XL'),(10,'X'),(9,'IX'),(5,'V'),(4,'IV'),(1,'I')]\n",
    "    roman = \"\"\n",
    "    for value,symbol in romanpairs:\n",
    "        while deci >= value:\n",
    "            roman += symbol\n",
    "            deci -= value\n",
    "    return roman \n",
    "n = int(input(\"enter the value of decimal: \"))\n",
    "print(decitoroman(n))"
   ]
  },
  {
   "cell_type": "code",
   "execution_count": 17,
   "id": "6b69e17e-96a8-4ac3-9c72-331a5961cf81",
   "metadata": {},
   "outputs": [
    {
     "name": "stdout",
     "output_type": "stream",
     "text": [
      "4321\n"
     ]
    }
   ],
   "source": [
    "#reverse number using recusrion:\n",
    "def revnum(n,num = 0):\n",
    "    if n == 0:\n",
    "        return num\n",
    "    else:\n",
    "        num = num * 10 + n%10\n",
    "        return revnum(n//10,num)\n",
    "print(revnum(1234))        "
   ]
  },
  {
   "cell_type": "code",
   "execution_count": 20,
   "id": "76881e98-47d8-412d-86c7-0dd1aaa00354",
   "metadata": {},
   "outputs": [
    {
     "name": "stdin",
     "output_type": "stream",
     "text": [
      "enter the value of decimal:  69\n"
     ]
    },
    {
     "name": "stdout",
     "output_type": "stream",
     "text": [
      "LXIX\n"
     ]
    }
   ],
   "source": [
    "def decitoroman(deci):\n",
    "    roman_val = [(90,'XC'),(50,'L',),(40,'XL'),(10,'X'),(9,'IX'),(5,'V'),(4,'IV'),(1,'I')]\n",
    "    roman = \"\"\n",
    "    for value,symbol in roman_val:\n",
    "        while deci >= value:\n",
    "            roman += symbol\n",
    "            deci -= value\n",
    "    return roman\n",
    "n = int(input(\"enter the value of decimal: \"))\n",
    "print(decitoroman(n))"
   ]
  },
  {
   "cell_type": "code",
   "execution_count": 1,
   "id": "9c19ea8f-a370-47b0-9088-cf9779374c00",
   "metadata": {},
   "outputs": [],
   "source": [
    "def romtodeci(roman):\n",
    "    deci = 0\n",
    "    decival"
   ]
  },
  {
   "cell_type": "code",
   "execution_count": null,
   "id": "39ef3aaf-1f2a-43ad-8b25-f64dfa1cbe12",
   "metadata": {},
   "outputs": [],
   "source": [
    "#sort setances words alphbetacally \n",
    "sen = input(\"enter the sentence: \")\n",
    "words = list(sen.split(\",\"))\n",
    "i = 0\n",
    "for i in range(len(words)):\n",
    "    j = i+1\n",
    "    for j in range(len(words)):\n",
    "        if words[i][0] < words[j][0]:\n",
    "            temp = words[i]\n",
    "            words[i] = words[j]\n",
    "            words[j] =temp\n",
    "\n",
    "print(','.join(words))"
   ]
  }
 ],
 "metadata": {
  "kernelspec": {
   "display_name": "Python 3 (ipykernel)",
   "language": "python",
   "name": "python3"
  },
  "language_info": {
   "codemirror_mode": {
    "name": "ipython",
    "version": 3
   },
   "file_extension": ".py",
   "mimetype": "text/x-python",
   "name": "python",
   "nbconvert_exporter": "python",
   "pygments_lexer": "ipython3",
   "version": "3.13.0"
  }
 },
 "nbformat": 4,
 "nbformat_minor": 5
}
