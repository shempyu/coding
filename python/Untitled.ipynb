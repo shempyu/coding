{
 "cells": [
  {
   "cell_type": "code",
   "execution_count": 5,
   "id": "6ce4c3d9-7a9f-4d5a-9a38-bee3081b6b1f",
   "metadata": {},
   "outputs": [
    {
     "name": "stdout",
     "output_type": "stream",
     "text": [
      "crnt data and time:  2024-12-27 09:16:45.157278\n",
      "curnt year:  2024\n",
      "curnt month:  12\n",
      "week number of the year:  52\n",
      "day no of week:  4\n",
      "day no of the year:  362\n",
      "day no. of month:  27\n",
      "day name of week:  Friday\n"
     ]
    }
   ],
   "source": [
    "import datetime\n",
    "crnt_datetime = datetime.datetime.now()\n",
    "print(\"crnt data and time: \",crnt_datetime)\n",
    "print(\"curnt year: \",crnt_datetime.year)\n",
    "print(\"curnt month: \",crnt_datetime.month)\n",
    "print(\"week number of the year: \",crnt_datetime.isocalendar()[1])\n",
    "print(\"day no of week: \",crnt_datetime.weekday())\n",
    "print(\"day no of the year: \",crnt_datetime.timetuple().tm_yday)\n",
    "print(\"day no. of month: \",crnt_datetime.day)\n",
    "print(\"day name of week: \",crnt_datetime.strftime(\"%A\"))"
   ]
  },
  {
   "cell_type": "code",
   "execution_count": 7,
   "id": "b4652ce7-0bd3-45f4-9fb8-24e756b0f5ab",
   "metadata": {},
   "outputs": [
    {
     "name": "stdout",
     "output_type": "stream",
     "text": [
      "Original Stack: [34, 3, 31, 98, 92, 23]\n",
      "Sorted Stack: [3, 23, 31, 34, 92, 98]\n"
     ]
    }
   ],
   "source": [
    "def sort_stack(stack):\n",
    "    # Base case: If the stack is empty, return\n",
    "    if not stack:\n",
    "        return\n",
    "    top = stack.pop()\n",
    "    sort_stack(stack)\n",
    "    insInSatck(stack, top)\n",
    "\n",
    "\n",
    "def insInSatck(stack, element):\n",
    "    if not stack or element < stack[-1]:\n",
    "        stack.append(element)\n",
    "        return\n",
    "    top = stack.pop()\n",
    "    insInSatck(stack, element)\n",
    "    stack.append(top)\n",
    "\n",
    "stack = [34, 3, 31, 98, 92, 23]\n",
    "print(\"Original Stack:\", stack)\n",
    "\n",
    "sort_stack(stack)\n",
    "\n",
    "print(\"Sorted Stack:\", stack)\n"
   ]
  },
  {
   "cell_type": "code",
   "execution_count": 1,
   "id": "12e9a801-857d-4b5c-a12c-71f21c4399bb",
   "metadata": {},
   "outputs": [
    {
     "name": "stdin",
     "output_type": "stream",
     "text": [
      "Enter number of persons:  0\n"
     ]
    },
    {
     "name": "stdout",
     "output_type": "stream",
     "text": [
      "\n",
      "Displaying information of all persons:\n"
     ]
    }
   ],
   "source": [
    "class Person:\n",
    "    class DOB:\n",
    "        def __init__(self, day, month, year):\n",
    "            self.day = day\n",
    "            self.month = month\n",
    "            self.year = year\n",
    "\n",
    "    # Private constructor\n",
    "    def __init__(self, first_name, last_name, address, city, state, zip_code, phone_no, dob):\n",
    "        self.__first_name = first_name\n",
    "        self.__last_name = last_name\n",
    "        self.__address = address\n",
    "        self.__city = city\n",
    "        self.__state = state\n",
    "        self.__zip_code = zip_code\n",
    "        self.__phone_no = phone_no\n",
    "        self.__dob = dob\n",
    "\n",
    "    # Getter functions\n",
    "    def get_first_name(self):\n",
    "        return self.__first_name\n",
    "    \n",
    "    def get_last_name(self):\n",
    "        return self.__last_name\n",
    "    \n",
    "    def get_address(self):\n",
    "        return self.__address\n",
    "    \n",
    "    def get_city(self):\n",
    "        return self.__city\n",
    "    \n",
    "    def get_state(self):\n",
    "        return self.__state\n",
    "    \n",
    "    def get_zip_code(self):\n",
    "        return self.__zip_code\n",
    "    \n",
    "    def get_phone_no(self):\n",
    "        return self.__phone_no\n",
    "    \n",
    "    def get_dob(self):\n",
    "        return self.__dob\n",
    "\n",
    "    # Setter functions\n",
    "    def set_first_name(self, first_name):\n",
    "        self.__first_name = first_name\n",
    "\n",
    "    def set_last_name(self, last_name):\n",
    "        self.__last_name = last_name\n",
    "\n",
    "    def set_address(self, address):\n",
    "        self.__address = address\n",
    "\n",
    "    def set_city(self, city):\n",
    "        self.__city = city\n",
    "\n",
    "    def set_state(self, state):\n",
    "        self.__state = state\n",
    "\n",
    "    def set_zip_code(self, zip_code):\n",
    "        self.__zip_code = zip_code\n",
    "\n",
    "    def set_phone_no(self, phone_no):\n",
    "        self.__phone_no = phone_no\n",
    "\n",
    "    def set_dob(self, dob):\n",
    "        self.__dob = dob\n",
    "\n",
    "    # Static function to create objects of type Person\n",
    "    @staticmethod\n",
    "    def create_person():\n",
    "        first_name = input(\"Enter first name: \")\n",
    "        last_name = input(\"Enter last name: \")\n",
    "        address = input(\"Enter address: \")\n",
    "        city = input(\"Enter city: \")\n",
    "        state = input(\"Enter state: \")\n",
    "        zip_code = input(\"Enter zip code: \")\n",
    "        phone_no = input(\"Enter phone number: \")\n",
    "        day = int(input(\"Enter day of birth: \"))\n",
    "        month = int(input(\"Enter month of birth: \"))\n",
    "        year = int(input(\"Enter year of birth: \"))\n",
    "        dob = Person.DOB(day, month, year)\n",
    "        \n",
    "        # Create and return a new Person object\n",
    "        return Person(first_name, last_name, address, city, state, zip_code, phone_no, dob)\n",
    "\n",
    "    # Constant function to display person details\n",
    "    def display_person(self):\n",
    "        print(f\"Name: {self.get_first_name()} {self.get_last_name()}\")\n",
    "        print(f\"Address: {self.get_address()}, {self.get_city()}, {self.get_state()}, {self.get_zip_code()}\")\n",
    "        print(f\"Phone No: {self.get_phone_no()}\")\n",
    "        dob = self.get_dob()\n",
    "        print(f\"DOB: {dob.day}/{dob.month}/{dob.year}\")\n",
    "\n",
    "# Main function\n",
    "def main():\n",
    "    # Ask user how many people to create\n",
    "    n = int(input(\"Enter number of persons: \"))\n",
    "    \n",
    "    persons = []\n",
    "    \n",
    "    # Create objects using static function and store them in the array\n",
    "    for i in range(n):\n",
    "        print(f\"\\nEnter details for person {i + 1}:\")\n",
    "        person = Person.create_person()\n",
    "        persons.append(person)\n",
    "    \n",
    "    # Display the information of all persons using constant function\n",
    "    print(\"\\nDisplaying information of all persons:\")\n",
    "    for i, person in enumerate(persons):\n",
    "        print(f\"\\nPerson {i + 1}:\")\n",
    "        person.display_person()\n",
    "\n",
    "if __name__ == \"__main__\":\n",
    "    main()\n"
   ]
  },
  {
   "cell_type": "code",
   "execution_count": 2,
   "id": "9eee3b04-8e30-4385-9dce-8b9fd5bab69a",
   "metadata": {},
   "outputs": [
    {
     "name": "stdout",
     "output_type": "stream",
     "text": [
      "\n",
      "Linked List Operations Menu:\n",
      "1. Insert a node\n",
      "2. Delete a node\n",
      "3. Display linked list\n",
      "4. Exit\n"
     ]
    },
    {
     "name": "stdin",
     "output_type": "stream",
     "text": [
      "enter your choice (1-4):  1\n",
      "enter the value to insert:  2\n"
     ]
    },
    {
     "name": "stdout",
     "output_type": "stream",
     "text": [
      "\n",
      "Linked List Operations Menu:\n",
      "1. Insert a node\n",
      "2. Delete a node\n",
      "3. Display linked list\n",
      "4. Exit\n"
     ]
    },
    {
     "name": "stdin",
     "output_type": "stream",
     "text": [
      "enter your choice (1-4):  1\n",
      "enter the value to insert:  3\n"
     ]
    },
    {
     "name": "stdout",
     "output_type": "stream",
     "text": [
      "\n",
      "Linked List Operations Menu:\n",
      "1. Insert a node\n",
      "2. Delete a node\n",
      "3. Display linked list\n",
      "4. Exit\n"
     ]
    },
    {
     "name": "stdin",
     "output_type": "stream",
     "text": [
      "enter your choice (1-4):  1\n",
      "enter the value to insert:  5\n"
     ]
    },
    {
     "name": "stdout",
     "output_type": "stream",
     "text": [
      "\n",
      "Linked List Operations Menu:\n",
      "1. Insert a node\n",
      "2. Delete a node\n",
      "3. Display linked list\n",
      "4. Exit\n"
     ]
    },
    {
     "name": "stdin",
     "output_type": "stream",
     "text": [
      "enter your choice (1-4):  2\n",
      "enter the value to delete:  3\n"
     ]
    },
    {
     "name": "stdout",
     "output_type": "stream",
     "text": [
      "\n",
      "Linked List Operations Menu:\n",
      "1. Insert a node\n",
      "2. Delete a node\n",
      "3. Display linked list\n",
      "4. Exit\n"
     ]
    },
    {
     "name": "stdin",
     "output_type": "stream",
     "text": [
      "enter your choice (1-4):  3\n"
     ]
    },
    {
     "name": "stdout",
     "output_type": "stream",
     "text": [
      "2 5 \n",
      "Linked List Operations Menu:\n",
      "1. Insert a node\n",
      "2. Delete a node\n",
      "3. Display linked list\n",
      "4. Exit\n"
     ]
    },
    {
     "name": "stdin",
     "output_type": "stream",
     "text": [
      "enter your choice (1-4):  4\n"
     ]
    },
    {
     "name": "stdout",
     "output_type": "stream",
     "text": [
      "exiting \n"
     ]
    }
   ],
   "source": [
    "## LINKED LIST\n",
    "class node:\n",
    "    def __init__(self,data):\n",
    "      self.data = data\n",
    "      self.next = None\n",
    "class Linkedlist:\n",
    "    def __init__(self):\n",
    "        self.head = None\n",
    "    def display(self):\n",
    "        curnt = self.head\n",
    "        if not curnt:\n",
    "            print(\"linked list is empty \")\n",
    "        else:\n",
    "            while curnt:\n",
    "                print(curnt.data,end=\" \")\n",
    "                curnt = curnt.next\n",
    "    def insert(self,data): \n",
    "        newnode = node(data)\n",
    "        if not self.head:\n",
    "            self.head = newnode\n",
    "        else:\n",
    "            curnt = self.head\n",
    "            while curnt.next:\n",
    "                curnt = curnt.next\n",
    "            curnt.next = newnode\n",
    "\n",
    "    def delete(self,key):\n",
    "        curnt = self.head\n",
    "        prev = None\n",
    "        while curnt and curnt.data != key:\n",
    "            prev = curnt\n",
    "            curnt = curnt.next\n",
    "        if not curnt:\n",
    "            print(\"key no found \")\n",
    "            return\n",
    "        if prev is None:  #deleteing head node\n",
    "            self.head = curnt.next    \n",
    "        else:\n",
    "            prev.next = curnt.next\n",
    "def menu():\n",
    "    print(\"\\nLinked List Operations Menu:\")\n",
    "    print(\"1. Insert a node\")\n",
    "    print(\"2. Delete a node\")\n",
    "    print(\"3. Display linked list\")\n",
    "    print(\"4. Exit\")\n",
    "\n",
    "linkedlist = Linkedlist()\n",
    "while True:\n",
    "    menu()\n",
    "    choice   = int(input(\"enter your choice (1-4): \"))\n",
    "    if choice == 1:\n",
    "        data = int(input(\"enter the value to insert: \"))\n",
    "        linkedlist.insert(data)\n",
    "    elif choice == 2:\n",
    "        key = int(input(\"enter the value to delete: \"))\n",
    "        linkedlist.delete(key)\n",
    "    elif choice == 3:\n",
    "        linkedlist.display()\n",
    "    elif choice == 4:\n",
    "        print(\"exiting \")\n",
    "        break\n",
    "    else:\n",
    "        print(\"invalid chpice.please try again\")\n",
    "    "
   ]
  },
  {
   "cell_type": "code",
   "execution_count": 7,
   "id": "1ed4578f-4a5e-4642-91c4-c7c96edd679a",
   "metadata": {},
   "outputs": [
    {
     "name": "stdout",
     "output_type": "stream",
     "text": [
      "\n",
      "choose operation\n",
      "1.enq \n",
      "2. dq \n",
      "3 .displau \n",
      "4 .exit \n"
     ]
    },
    {
     "name": "stdin",
     "output_type": "stream",
     "text": [
      "enter choice :  1\n",
      "enter data:  4\n"
     ]
    },
    {
     "name": "stdout",
     "output_type": "stream",
     "text": [
      "\n",
      "choose operation\n",
      "1.enq \n",
      "2. dq \n",
      "3 .displau \n",
      "4 .exit \n"
     ]
    },
    {
     "name": "stdin",
     "output_type": "stream",
     "text": [
      "enter choice :  1\n",
      "enter data:  5\n"
     ]
    },
    {
     "name": "stdout",
     "output_type": "stream",
     "text": [
      "\n",
      "choose operation\n",
      "1.enq \n",
      "2. dq \n",
      "3 .displau \n",
      "4 .exit \n"
     ]
    },
    {
     "name": "stdin",
     "output_type": "stream",
     "text": [
      "enter choice :  1\n",
      "enter data:  7\n"
     ]
    },
    {
     "name": "stdout",
     "output_type": "stream",
     "text": [
      "\n",
      "choose operation\n",
      "1.enq \n",
      "2. dq \n",
      "3 .displau \n",
      "4 .exit \n"
     ]
    },
    {
     "name": "stdin",
     "output_type": "stream",
     "text": [
      "enter choice :  1\n",
      "enter data:  8\n"
     ]
    },
    {
     "name": "stdout",
     "output_type": "stream",
     "text": [
      "\n",
      "choose operation\n",
      "1.enq \n",
      "2. dq \n",
      "3 .displau \n",
      "4 .exit \n"
     ]
    },
    {
     "name": "stdin",
     "output_type": "stream",
     "text": [
      "enter choice :  1\n",
      "enter data:  9\n"
     ]
    },
    {
     "name": "stdout",
     "output_type": "stream",
     "text": [
      "\n",
      "choose operation\n",
      "1.enq \n",
      "2. dq \n",
      "3 .displau \n",
      "4 .exit \n"
     ]
    },
    {
     "name": "stdin",
     "output_type": "stream",
     "text": [
      "enter choice :  3\n"
     ]
    },
    {
     "name": "stdout",
     "output_type": "stream",
     "text": [
      "qu content:  [4, 5, 7, 8, 9]\n",
      "\n",
      "choose operation\n",
      "1.enq \n",
      "2. dq \n",
      "3 .displau \n",
      "4 .exit \n"
     ]
    },
    {
     "name": "stdin",
     "output_type": "stream",
     "text": [
      "enter choice :  2\n"
     ]
    },
    {
     "name": "stdout",
     "output_type": "stream",
     "text": [
      "4\n",
      "\n",
      "choose operation\n",
      "1.enq \n",
      "2. dq \n",
      "3 .displau \n",
      "4 .exit \n"
     ]
    },
    {
     "name": "stdin",
     "output_type": "stream",
     "text": [
      "enter choice :  3\n"
     ]
    },
    {
     "name": "stdout",
     "output_type": "stream",
     "text": [
      "qu content:  [5, 7, 8, 9]\n",
      "\n",
      "choose operation\n",
      "1.enq \n",
      "2. dq \n",
      "3 .displau \n",
      "4 .exit \n"
     ]
    },
    {
     "name": "stdin",
     "output_type": "stream",
     "text": [
      "enter choice :  2\n"
     ]
    },
    {
     "name": "stdout",
     "output_type": "stream",
     "text": [
      "5\n",
      "\n",
      "choose operation\n",
      "1.enq \n",
      "2. dq \n",
      "3 .displau \n",
      "4 .exit \n"
     ]
    },
    {
     "name": "stdin",
     "output_type": "stream",
     "text": [
      "enter choice :  3\n"
     ]
    },
    {
     "name": "stdout",
     "output_type": "stream",
     "text": [
      "qu content:  [7, 8, 9]\n",
      "\n",
      "choose operation\n",
      "1.enq \n",
      "2. dq \n",
      "3 .displau \n",
      "4 .exit \n"
     ]
    },
    {
     "name": "stdin",
     "output_type": "stream",
     "text": [
      "enter choice :  4\n"
     ]
    },
    {
     "name": "stdout",
     "output_type": "stream",
     "text": [
      "exiting \n"
     ]
    }
   ],
   "source": [
    "class Qu:\n",
    "    def __init__(self):\n",
    "        self.qu = []\n",
    "    def enq(self,data):\n",
    "        self.qu.append(data)\n",
    "    def dq(self):\n",
    "        if len(self.qu) == 0:\n",
    "            print(\"qu is empty \")\n",
    "            return\n",
    "        item = self.qu.pop(0)\n",
    "        print(item)\n",
    "    def display(self):\n",
    "        if len(self.qu) == 0:\n",
    "            print(\"qu is empty:\")\n",
    "        else:\n",
    "            print(\"qu content: \",self.qu)\n",
    "def menu():\n",
    "    print(\"\\nchoose operation\")\n",
    "    print(\"1.enq \")\n",
    "    print(\"2. dq \")\n",
    "    print(\"3 .displau \")\n",
    "    print(\"4 .exit \")\n",
    "qu1 = Qu()\n",
    "while True:\n",
    "    menu()\n",
    "    choice = int(input(\"enter choice : \"))\n",
    "    if choice == 1:\n",
    "        data = int(input(\"enter data: \"))\n",
    "        qu1.enq(data)\n",
    "    elif choice == 2:\n",
    "        qu1.dq()\n",
    "    elif choice == 3:\n",
    "        qu1.display()\n",
    "    elif choice == 4:\n",
    "        print(\"exiting \")\n",
    "        break\n",
    "    else:\n",
    "        print(\"invalid choice:\")\n",
    "        \n",
    "            "
   ]
  },
  {
   "cell_type": "code",
   "execution_count": 10,
   "id": "c890dbef-b317-49c7-b4d3-6bd75faf96b6",
   "metadata": {},
   "outputs": [
    {
     "name": "stdout",
     "output_type": "stream",
     "text": [
      "\n",
      "Stack Operations\n",
      "1. Push an element\n",
      "2. Pop an element\n",
      "3. Display the stack\n",
      "4. Exit\n"
     ]
    },
    {
     "name": "stdin",
     "output_type": "stream",
     "text": [
      "enter choice:  1\n",
      "enter data:  1\n"
     ]
    },
    {
     "name": "stdout",
     "output_type": "stream",
     "text": [
      "\n",
      "Stack Operations\n",
      "1. Push an element\n",
      "2. Pop an element\n",
      "3. Display the stack\n",
      "4. Exit\n"
     ]
    },
    {
     "name": "stdin",
     "output_type": "stream",
     "text": [
      "enter choice:  1\n",
      "enter data:  2\n"
     ]
    },
    {
     "name": "stdout",
     "output_type": "stream",
     "text": [
      "\n",
      "Stack Operations\n",
      "1. Push an element\n",
      "2. Pop an element\n",
      "3. Display the stack\n",
      "4. Exit\n"
     ]
    },
    {
     "name": "stdin",
     "output_type": "stream",
     "text": [
      "enter choice:  3\n"
     ]
    },
    {
     "name": "stdout",
     "output_type": "stream",
     "text": [
      "[2, 1]\n",
      "\n",
      "Stack Operations\n",
      "1. Push an element\n",
      "2. Pop an element\n",
      "3. Display the stack\n",
      "4. Exit\n"
     ]
    },
    {
     "name": "stdin",
     "output_type": "stream",
     "text": [
      "enter choice:  4\n"
     ]
    },
    {
     "name": "stdout",
     "output_type": "stream",
     "text": [
      "exit\n"
     ]
    }
   ],
   "source": [
    "## satck \n",
    "class Stack:\n",
    "    def __init__(self):\n",
    "        self.stack = []\n",
    "    def push(self,data):\n",
    "        self.stack.append(data)\n",
    "    def pop(self):\n",
    "        if len(self.stack) == 0:\n",
    "            print(\"empty\")\n",
    "        else:\n",
    "            print(self.stack.pop())\n",
    "    def display(self):\n",
    "        if len(self.stack) == 0:\n",
    "            print(\"emptu\")\n",
    "        else:\n",
    "            print(self.stack[::-1])\n",
    "def menu():\n",
    "    print(\"\\nStack Operations\")\n",
    "    print(\"1. Push an element\")\n",
    "    print(\"2. Pop an element\")\n",
    "    print(\"3. Display the stack\")\n",
    "    print(\"4. Exit\")\n",
    "\n",
    "s1 = Stack()\n",
    "while True:\n",
    "    menu()\n",
    "    choice = int(input(\"enter choice: \"))\n",
    "    if choice == 1:\n",
    "                 data = int(input(\"enter data: \"))\n",
    "                 s1.push(data)\n",
    "    elif choice == 2:\n",
    "                 s1.pop()\n",
    "    elif choice == 3:\n",
    "                 s1.display()\n",
    "    elif choice == 4:\n",
    "                  print(\"exit\")\n",
    "                  break\n",
    "    else:\n",
    "        print(\"enter valid choie \")\n",
    "    \n",
    "        \n",
    "                       \n",
    "    \n",
    "            \n",
    "            \n",
    "        "
   ]
  },
  {
   "cell_type": "code",
   "execution_count": 14,
   "id": "fd401de5-de42-4187-97f2-57e348c51d28",
   "metadata": {},
   "outputs": [
    {
     "name": "stdout",
     "output_type": "stream",
     "text": [
      "\n",
      "Linked List Operations Menu:\n",
      "1. Insert a node\n",
      "2. Delete a node\n",
      "3. Display linked list\n",
      "4. Exit\n"
     ]
    },
    {
     "name": "stdin",
     "output_type": "stream",
     "text": [
      "enter your choice (1-4):  1\n",
      "enter the value to insert:  2\n"
     ]
    },
    {
     "name": "stdout",
     "output_type": "stream",
     "text": [
      "\n",
      "Linked List Operations Menu:\n",
      "1. Insert a node\n",
      "2. Delete a node\n",
      "3. Display linked list\n",
      "4. Exit\n"
     ]
    },
    {
     "name": "stdin",
     "output_type": "stream",
     "text": [
      "enter your choice (1-4):  1\n",
      "enter the value to insert:  5\n"
     ]
    },
    {
     "name": "stdout",
     "output_type": "stream",
     "text": [
      "\n",
      "Linked List Operations Menu:\n",
      "1. Insert a node\n",
      "2. Delete a node\n",
      "3. Display linked list\n",
      "4. Exit\n"
     ]
    },
    {
     "name": "stdin",
     "output_type": "stream",
     "text": [
      "enter your choice (1-4):  1\n",
      "enter the value to insert:  9\n"
     ]
    },
    {
     "name": "stdout",
     "output_type": "stream",
     "text": [
      "\n",
      "Linked List Operations Menu:\n",
      "1. Insert a node\n",
      "2. Delete a node\n",
      "3. Display linked list\n",
      "4. Exit\n"
     ]
    },
    {
     "name": "stdin",
     "output_type": "stream",
     "text": [
      "enter your choice (1-4):  3\n"
     ]
    },
    {
     "name": "stdout",
     "output_type": "stream",
     "text": [
      "2 5 9 \n",
      "Linked List Operations Menu:\n",
      "1. Insert a node\n",
      "2. Delete a node\n",
      "3. Display linked list\n",
      "4. Exit\n"
     ]
    },
    {
     "name": "stdin",
     "output_type": "stream",
     "text": [
      "enter your choice (1-4):  2\n",
      "enter the value to delete:  9\n"
     ]
    },
    {
     "name": "stdout",
     "output_type": "stream",
     "text": [
      "\n",
      "Linked List Operations Menu:\n",
      "1. Insert a node\n",
      "2. Delete a node\n",
      "3. Display linked list\n",
      "4. Exit\n"
     ]
    },
    {
     "name": "stdin",
     "output_type": "stream",
     "text": [
      "enter your choice (1-4):  3\n"
     ]
    },
    {
     "name": "stdout",
     "output_type": "stream",
     "text": [
      "2 5 \n",
      "Linked List Operations Menu:\n",
      "1. Insert a node\n",
      "2. Delete a node\n",
      "3. Display linked list\n",
      "4. Exit\n"
     ]
    },
    {
     "name": "stdin",
     "output_type": "stream",
     "text": [
      "enter your choice (1-4):  4\n"
     ]
    },
    {
     "name": "stdout",
     "output_type": "stream",
     "text": [
      "exiting \n"
     ]
    }
   ],
   "source": [
    "class node:\n",
    "    def __init__(self,data):\n",
    "        self.data = data\n",
    "        self.next = None\n",
    "\n",
    "class Linkedlist:\n",
    "    def __init__(self):\n",
    "        self.head = None\n",
    "    def insert(self,data):\n",
    "        newnode = node(data)\n",
    "        if not self.head:\n",
    "            self.head = newnode\n",
    "        else:\n",
    "            curnt = self.head\n",
    "            while curnt.next:\n",
    "                curnt = curnt.next\n",
    "            curnt.next = newnode\n",
    "    def delete(self,key):\n",
    "         curnt = self.head\n",
    "         pev = None\n",
    "         while curnt and curnt.data != key :\n",
    "             prev = curnt\n",
    "             curnt = curnt.next\n",
    "         if not curnt:\n",
    "             print(\"key not found\")\n",
    "             return\n",
    "             \n",
    "         if prev is None:\n",
    "             self.head = curnt.next\n",
    "         else:\n",
    "             prev.next = curnt.next\n",
    "             \n",
    "             \n",
    "    def display(self):\n",
    "         curnt = self.head\n",
    "         if not curnt:\n",
    "             print(\"list is epty\")\n",
    "         else:\n",
    "             while curnt:\n",
    "                 print(curnt.data,end=\" \")\n",
    "                 curnt = curnt.next\n",
    "\n",
    "def menu():\n",
    "    print(\"\\nLinked List Operations Menu:\")\n",
    "    print(\"1. Insert a node\")\n",
    "    print(\"2. Delete a node\")\n",
    "    print(\"3. Display linked list\")\n",
    "    print(\"4. Exit\")\n",
    "linkedlist = Linkedlist()\n",
    "while True:\n",
    "    menu()\n",
    "    choice   = int(input(\"enter your choice (1-4): \"))\n",
    "    if choice == 1:\n",
    "        data = int(input(\"enter the value to insert: \"))\n",
    "        linkedlist.insert(data)\n",
    "    elif choice == 2:\n",
    "        key = int(input(\"enter the value to delete: \"))\n",
    "        linkedlist.delete(key)\n",
    "    elif choice == 3:\n",
    "        linkedlist.display()\n",
    "    elif choice == 4:\n",
    "        print(\"exiting \")\n",
    "        break\n",
    "    else:\n",
    "        print(\"invalid chpice.please try again\")\n",
    "    "
   ]
  },
  {
   "cell_type": "code",
   "execution_count": 19,
   "id": "d00c22e7-7af1-4079-b2a9-26a7aec99a41",
   "metadata": {},
   "outputs": [
    {
     "name": "stdin",
     "output_type": "stream",
     "text": [
      "enetr 1st hex num 66\n",
      "enter 2nd hex num 33\n"
     ]
    },
    {
     "name": "stdout",
     "output_type": "stream",
     "text": [
      "110011\n"
     ]
    }
   ],
   "source": [
    "def hex_to_bin(hex_num):\n",
    "    hexdict = {\n",
    "        '0':'0000','1':'0001','2':'0010','3':'0011',\n",
    "        '4':'0100','5':'0101','6':'0110','7':'0111',\n",
    "        '8':'1000','9':'1001','A':'1010','B':'1011',\n",
    "        'C':'1100','D':'1101','E':'1110','F':'1111'}\n",
    "    bina=\"\"\n",
    "    for char in hex_num.upper():\n",
    "        bina +=hexdict[char]\n",
    "    return bina\n",
    "def bin_to_deci(bina):\n",
    "    deci = 0\n",
    "    for i,bit in enumerate(reversed(bina)):\n",
    "        deci += int(bit) *(2 ** i)\n",
    "    return deci\n",
    "def deci_to_bin(deci):\n",
    "    if deci == 0:\n",
    "        return \"0\"\n",
    "    bina = \"\"\n",
    "    while deci > 0:\n",
    "        bina = str(deci%2)+bina\n",
    "        deci = deci //2\n",
    "    return bina  \n",
    "def binsub(hex1,hex2):\n",
    "    bin1=hex_to_bin(hex1)\n",
    "    bin2=hex_to_bin(hex2)\n",
    "\n",
    "    dec1 = bin_to_deci(bin1)\n",
    "    dec2 = bin_to_deci(bin2)\n",
    "\n",
    "    res = dec1-dec2\n",
    "    if res < 0:\n",
    "        print(\"subtarction is nega : error\")\n",
    "    else:\n",
    "        return deci_to_bin(res)\n",
    "\n",
    "hex1 = input(\"enetr 1st hex num\")\n",
    "hex2 = input(\"enter 2nd hex num\")\n",
    "res = binsub(hex1,hex2)\n",
    "print(res)\n",
    "        \n",
    "        \n",
    "    "
   ]
  },
  {
   "cell_type": "code",
   "execution_count": 19,
   "id": "899c4ad1-fd75-43bf-94aa-f1b470ab7150",
   "metadata": {},
   "outputs": [
    {
     "name": "stdin",
     "output_type": "stream",
     "text": [
      "enetr binary num:  10\n"
     ]
    },
    {
     "name": "stdout",
     "output_type": "stream",
     "text": [
      "2\n"
     ]
    }
   ],
   "source": [
    "def bin_to_deci(bina):\n",
    "    deci = 0\n",
    "    i = 0\n",
    "    for bit in (reversed(bina)):\n",
    "        deci += int(bit) *(2 ** i)\n",
    "        i+=1\n",
    "    return deci\n",
    "n = input(\"enetr binary num: \")\n",
    "print(bin_to_deci(n))"
   ]
  },
  {
   "cell_type": "code",
   "execution_count": 10,
   "id": "777eb590-3e65-48df-9afc-f2f4a5909bf2",
   "metadata": {},
   "outputs": [
    {
     "name": "stdin",
     "output_type": "stream",
     "text": [
      "enetr num 15\n"
     ]
    },
    {
     "name": "stdout",
     "output_type": "stream",
     "text": [
      "1111\n"
     ]
    }
   ],
   "source": [
    "def deci_to_bin(deci):\n",
    "    if deci == 0:\n",
    "        return \"0\"\n",
    "    bina = \"\"\n",
    "    while deci > 0:\n",
    "        bina = str(deci%2) + bina \n",
    "        deci = deci //2\n",
    "    return bina\n",
    "n = int(input(\"enetr num\"))\n",
    "print(deci_to_bin(n))"
   ]
  },
  {
   "cell_type": "code",
   "execution_count": 16,
   "id": "6e224f27-24c7-4bcf-84d5-f9dba13bba3f",
   "metadata": {},
   "outputs": [
    {
     "name": "stdout",
     "output_type": "stream",
     "text": [
      "#a045ab\n",
      "muxoUXQK\n",
      "61\n",
      "28\n"
     ]
    }
   ],
   "source": [
    "import random\n",
    "import string\n",
    "def randcol():\n",
    "    return \"#{:02x}{:02x}{:02x}\".format(random.randint(0,255),random.randint(0,255),random.randint(0,255))\n",
    "def randalph(length=8):\n",
    "    return ''.join(random.choices(string.ascii_letters,k=length))\n",
    "def randval( minv,maxv):\n",
    "    return random.randint(minv,maxv)\n",
    "def randmul():\n",
    "    return random.randint(0,10)*7\n",
    "print(randcol())\n",
    "print(randalph())\n",
    "print(randval(10,100))\n",
    "print(randmul())\n",
    "    "
   ]
  },
  {
   "cell_type": "code",
   "execution_count": 20,
   "id": "56a7aca6-194e-4e00-8da2-f2fe7e8da830",
   "metadata": {},
   "outputs": [
    {
     "name": "stdin",
     "output_type": "stream",
     "text": [
      "enter first integer: 1\n",
      "enter second integer: 1\n"
     ]
    },
    {
     "name": "stdout",
     "output_type": "stream",
     "text": [
      "AND: 1\n",
      "or: 1\n",
      "xor: 0\n",
      "not a: -2\n",
      "not b: -2\n"
     ]
    }
   ],
   "source": [
    "def bitwise_operations(a, b):\n",
    "    print(f\"AND: {a&b}\")\n",
    "    print(f\"or: {a|b}\")\n",
    "    print(f\"xor: {a^b}\")\n",
    "    print(f\"not a: {~a}\")\n",
    "    print(f\"not b: {~b}\")\n",
    "    \n",
    "num1 = int(input(\"enter first integer:\"))\n",
    "num2 = int(input(\"enter second integer:\"))\n",
    "bitwise_operations(num1,num2)\n",
    "\n"
   ]
  },
  {
   "cell_type": "raw",
   "id": "ba344970-40b9-4635-b5f8-2524e422bd1a",
   "metadata": {},
   "source": [
    "class "
   ]
  },
  {
   "cell_type": "code",
   "execution_count": 12,
   "id": "09d14572-ff3e-4558-9bfe-dbe2c42b4c3b",
   "metadata": {},
   "outputs": [
    {
     "name": "stdin",
     "output_type": "stream",
     "text": [
      "enter nu of persons:  2\n"
     ]
    },
    {
     "name": "stdout",
     "output_type": "stream",
     "text": [
      "enter details for p  1  \n"
     ]
    },
    {
     "name": "stdin",
     "output_type": "stream",
     "text": [
      "enter your name shem\n",
      "enter your job stu\n"
     ]
    },
    {
     "name": "stdout",
     "output_type": "stream",
     "text": [
      "enter details for p  2  \n"
     ]
    },
    {
     "name": "stdin",
     "output_type": "stream",
     "text": [
      "enter your name pavan\n",
      "enter your job developer\n"
     ]
    },
    {
     "name": "stdout",
     "output_type": "stream",
     "text": [
      "for person:  1\n",
      "shem\n",
      "stu\n",
      "for person:  2\n",
      "pavan\n",
      "developer\n"
     ]
    }
   ],
   "source": [
    "class Person:\n",
    "    def __init__(self,name,job):\n",
    "        self.name = name\n",
    "        self.job = job\n",
    "\n",
    "    def getname(self):\n",
    "        return self.name\n",
    "    def getjob(self):\n",
    "        return self.job\n",
    "        \n",
    "    def setname(self,name):\n",
    "        self.name = name\n",
    "    def  setjob(self,job):\n",
    "        self.job = job\n",
    "    @staticmethod\n",
    "    def create_per():\n",
    "        name = input(\"enter your name\")\n",
    "        job = input(\"enter your job\")\n",
    "        return Person(name,job)\n",
    "    def display(self):\n",
    "        print(self.getname())\n",
    "        print(self.getjob())\n",
    "n = int(input(\"enter nu of persons: \"))\n",
    "persons = []\n",
    "for i in range(n):\n",
    "    print(\"enter details for p \",i+1,\" \")\n",
    "    person = Person.create_per()\n",
    "    persons.append(person)\n",
    "j = 0    \n",
    "for i in persons:\n",
    "    print(\"for person: \",j+1)\n",
    "    i.display()\n",
    "    j = j+ 1\n",
    "    \n"
   ]
  },
  {
   "cell_type": "code",
   "execution_count": 15,
   "id": "bc3fe70e-6d92-4bbd-b478-895471ca173e",
   "metadata": {},
   "outputs": [
    {
     "name": "stdin",
     "output_type": "stream",
     "text": [
      "enetr 1st hex num 2\n",
      "enter 2nd hex num 2\n"
     ]
    },
    {
     "name": "stdout",
     "output_type": "stream",
     "text": [
      "0\n"
     ]
    }
   ],
   "source": [
    "def hex_to_bin(hex_num):\n",
    "    hexdict = {\n",
    "        '0':'0000','1':'0001','2':'0010','3':'0011',\n",
    "        '4':'0100','5':'0101','6':'0110','7':'0111',\n",
    "        '8':'1000','9':'1001','A':'1010','B':'1011',\n",
    "        'C':'1100','D':'1101','E':'1110','F':'1111'}\n",
    "    bina=\"\"\n",
    "    for char in hex_num.upper():\n",
    "        bina +=hexdict[char]\n",
    "    return bina\n",
    "def bin_to_deci(bina):\n",
    "    deci = 0\n",
    "    i = 0\n",
    "    for bit in (reversed(bina)):\n",
    "        deci += int(bit) *(2 ** i)\n",
    "        i= i+1\n",
    "    return deci\n",
    "def deci_to_bin(deci):\n",
    "    if deci == 0:\n",
    "        return \"0\"\n",
    "    bina = \"\"\n",
    "    while deci > 0:\n",
    "        bina = str(deci%2)+bina\n",
    "        deci = deci //2\n",
    "    return bina  \n",
    "def binsub(hex1,hex2):\n",
    "    bin1=hex_to_bin(hex1)\n",
    "    bin2=hex_to_bin(hex2)\n",
    "\n",
    "    dec1 = bin_to_deci(bin1)\n",
    "    dec2 = bin_to_deci(bin2)\n",
    "\n",
    "    res = dec1-dec2\n",
    "    if res < 0:\n",
    "        print(\"subtarction is nega : error\")\n",
    "    else:\n",
    "        return deci_to_bin(res)\n",
    "\n",
    "hex1 = input(\"enetr 1st hex num\")\n",
    "hex2 = input(\"enter 2nd hex num\")\n",
    "res = binsub(hex1,hex2)\n",
    "print(res)\n",
    "        \n",
    "        \n",
    "    "
   ]
  },
  {
   "cell_type": "code",
   "execution_count": 35,
   "id": "2e4512d5-e277-42a0-847f-a6edb6d214bb",
   "metadata": {},
   "outputs": [
    {
     "name": "stdin",
     "output_type": "stream",
     "text": [
      "enter dex1:  1\n",
      "enter hex2:  1\n"
     ]
    },
    {
     "name": "stdout",
     "output_type": "stream",
     "text": [
      "Binary subtraction result of 1 - 1: 0000\n"
     ]
    }
   ],
   "source": [
    "def binary_subtraction(a, b):\n",
    "    hexdict = {\n",
    "            \n",
    "           '0':'0000','1':'0001','2':'0010','3':'0011',\n",
    "           '4':'0100','5':'0101','6':'0110','7':'0111',\n",
    "           '8':'1000','9':'1001','A':'1010','B':'1011',\n",
    "           'C':'1100','D':'1101','E':'1110','F':'1111'}\n",
    "    def hex_to_bin(hex_num):\n",
    "        \n",
    "        bina=\"\"\n",
    "        for char in hex_num.upper():\n",
    "            bina +=hexdict[char]\n",
    "        return bina\n",
    "\n",
    "    bin1 = hex_to_bin(a)\n",
    "    bin2 = hex_to_bin(b)\n",
    "   \n",
    "\n",
    "    # Pad the shorter binary number with leading zeros\n",
    "    max_len = max(len(bin1), len(bin2))\n",
    "    bin1 = bin1.zfill(max_len)\n",
    "    bin2 = bin2.zfill(max_len)\n",
    "\n",
    "    # Initialize the result and borrow\n",
    "    result = ''\n",
    "    borrow = 0\n",
    "\n",
    "    # Perform manual binary subtraction from right to left\n",
    "    for i in range(max_len - 1, -1, -1):\n",
    "        bit1 = int(bin1[i])\n",
    "        bit2 = int(bin2[i]) + borrow\n",
    "\n",
    "        if bit1 < bit2:\n",
    "            result = str(bit1 + 2 - bit2) + result\n",
    "            borrow = 1\n",
    "        else:\n",
    "            result = str(bit1 - bit2) + result\n",
    "            borrow = 0\n",
    "    return result       \n",
    "\n",
    "# Input\n",
    "a = input(\"enter dex1: \")  # Hexadecimal input\n",
    "b = input(\"enter hex2: \")  # Hexadecimal input\n",
    "\n",
    "# Perform binary subtraction\n",
    "result = binary_subtraction(a, b)\n",
    "\n",
    "\n",
    "\n",
    "print(f\"Binary subtraction result of {a} - {b}: {result}\")\n"
   ]
  },
  {
   "cell_type": "code",
   "execution_count": 41,
   "id": "4499e0fd-04cf-495e-87ab-3f5d179990eb",
   "metadata": {},
   "outputs": [
    {
     "name": "stdin",
     "output_type": "stream",
     "text": [
      "Enter a hexadecimal number:  15\n"
     ]
    },
    {
     "name": "stdout",
     "output_type": "stream",
     "text": [
      "00010101\n"
     ]
    }
   ],
   "source": [
    "def chartobin(hex_char):\n",
    "    hexdict  = {\n",
    "        '0': '0000', '1': '0001', '2': '0010', '3': '0011',\n",
    "        '4': '0100', '5': '0101', '6': '0110', '7': '0111',\n",
    "        '8': '1000', '9': '1001', 'A': '1010', 'B': '1011',\n",
    "        'C': '1100', 'D': '1101', 'E': '1110', 'F': '1111'\n",
    "         }\n",
    "    return hexdict[hex_char.upper()]\n",
    "\n",
    "def hextobin(hexnum):\n",
    "    if len(hexnum) == 0:\n",
    "        return \"\"\n",
    "    bin1 = chartobin(hexnum[0])\n",
    "    return bin1 + hextobin(hexnum[1:])\n",
    "    \n",
    "hexnum = input(\"Enter a hexadecimal number: \")\n",
    "binnum = hextobin(hexnum.upper())\n",
    "print(binnum)    "
   ]
  },
  {
   "cell_type": "code",
   "execution_count": 44,
   "id": "5a21e956-8430-4fb6-9a68-effda8c48e5f",
   "metadata": {},
   "outputs": [
    {
     "name": "stdout",
     "output_type": "stream",
     "text": [
      "\n",
      "Linked List Operations Menu:\n",
      "1. Insert a node\n",
      "2. Insert a node at the start\n",
      "3. Insert a node after a specific element\n",
      "4. Delete a node\n",
      "5. Display linked list\n",
      "6. Exit\n"
     ]
    },
    {
     "name": "stdin",
     "output_type": "stream",
     "text": [
      "Enter your choice (1-6):  1\n",
      "Enter the value to insert:  1\n"
     ]
    },
    {
     "name": "stdout",
     "output_type": "stream",
     "text": [
      "\n",
      "Linked List Operations Menu:\n",
      "1. Insert a node\n",
      "2. Insert a node at the start\n",
      "3. Insert a node after a specific element\n",
      "4. Delete a node\n",
      "5. Display linked list\n",
      "6. Exit\n"
     ]
    },
    {
     "name": "stdin",
     "output_type": "stream",
     "text": [
      "Enter your choice (1-6):  1\n",
      "Enter the value to insert:  2\n"
     ]
    },
    {
     "name": "stdout",
     "output_type": "stream",
     "text": [
      "\n",
      "Linked List Operations Menu:\n",
      "1. Insert a node\n",
      "2. Insert a node at the start\n",
      "3. Insert a node after a specific element\n",
      "4. Delete a node\n",
      "5. Display linked list\n",
      "6. Exit\n"
     ]
    },
    {
     "name": "stdin",
     "output_type": "stream",
     "text": [
      "Enter your choice (1-6):  1\n",
      "Enter the value to insert:  3\n"
     ]
    },
    {
     "name": "stdout",
     "output_type": "stream",
     "text": [
      "\n",
      "Linked List Operations Menu:\n",
      "1. Insert a node\n",
      "2. Insert a node at the start\n",
      "3. Insert a node after a specific element\n",
      "4. Delete a node\n",
      "5. Display linked list\n",
      "6. Exit\n"
     ]
    },
    {
     "name": "stdin",
     "output_type": "stream",
     "text": [
      "Enter your choice (1-6):  1\n",
      "Enter the value to insert:  4\n"
     ]
    },
    {
     "name": "stdout",
     "output_type": "stream",
     "text": [
      "\n",
      "Linked List Operations Menu:\n",
      "1. Insert a node\n",
      "2. Insert a node at the start\n",
      "3. Insert a node after a specific element\n",
      "4. Delete a node\n",
      "5. Display linked list\n",
      "6. Exit\n"
     ]
    },
    {
     "name": "stdin",
     "output_type": "stream",
     "text": [
      "Enter your choice (1-6):  5\n"
     ]
    },
    {
     "name": "stdout",
     "output_type": "stream",
     "text": [
      "1 2 3 4 \n",
      "\n",
      "Linked List Operations Menu:\n",
      "1. Insert a node\n",
      "2. Insert a node at the start\n",
      "3. Insert a node after a specific element\n",
      "4. Delete a node\n",
      "5. Display linked list\n",
      "6. Exit\n"
     ]
    },
    {
     "name": "stdin",
     "output_type": "stream",
     "text": [
      "Enter your choice (1-6):  2\n",
      "Enter the value to insert at the start:  8\n"
     ]
    },
    {
     "name": "stdout",
     "output_type": "stream",
     "text": [
      "Inserted 8 at the start of the linked list.\n",
      "\n",
      "Linked List Operations Menu:\n",
      "1. Insert a node\n",
      "2. Insert a node at the start\n",
      "3. Insert a node after a specific element\n",
      "4. Delete a node\n",
      "5. Display linked list\n",
      "6. Exit\n"
     ]
    },
    {
     "name": "stdin",
     "output_type": "stream",
     "text": [
      "Enter your choice (1-6):  5\n"
     ]
    },
    {
     "name": "stdout",
     "output_type": "stream",
     "text": [
      "8 1 2 3 4 \n",
      "\n",
      "Linked List Operations Menu:\n",
      "1. Insert a node\n",
      "2. Insert a node at the start\n",
      "3. Insert a node after a specific element\n",
      "4. Delete a node\n",
      "5. Display linked list\n",
      "6. Exit\n"
     ]
    },
    {
     "name": "stdin",
     "output_type": "stream",
     "text": [
      "Enter your choice (1-6):  3\n",
      "Enter the value after which to insert:  3\n",
      "Enter the value to insert:  6\n"
     ]
    },
    {
     "name": "stdout",
     "output_type": "stream",
     "text": [
      "Inserted 6 after 3.\n",
      "\n",
      "Linked List Operations Menu:\n",
      "1. Insert a node\n",
      "2. Insert a node at the start\n",
      "3. Insert a node after a specific element\n",
      "4. Delete a node\n",
      "5. Display linked list\n",
      "6. Exit\n"
     ]
    },
    {
     "name": "stdin",
     "output_type": "stream",
     "text": [
      "Enter your choice (1-6):  5\n"
     ]
    },
    {
     "name": "stdout",
     "output_type": "stream",
     "text": [
      "8 1 2 3 6 4 \n",
      "\n",
      "Linked List Operations Menu:\n",
      "1. Insert a node\n",
      "2. Insert a node at the start\n",
      "3. Insert a node after a specific element\n",
      "4. Delete a node\n",
      "5. Display linked list\n",
      "6. Exit\n"
     ]
    },
    {
     "name": "stdin",
     "output_type": "stream",
     "text": [
      "Enter your choice (1-6):  4\n",
      "Enter the value to delete:  3\n"
     ]
    },
    {
     "name": "stdout",
     "output_type": "stream",
     "text": [
      "Deleted 3.\n",
      "\n",
      "Linked List Operations Menu:\n",
      "1. Insert a node\n",
      "2. Insert a node at the start\n",
      "3. Insert a node after a specific element\n",
      "4. Delete a node\n",
      "5. Display linked list\n",
      "6. Exit\n"
     ]
    },
    {
     "name": "stdin",
     "output_type": "stream",
     "text": [
      "Enter your choice (1-6):  5\n"
     ]
    },
    {
     "name": "stdout",
     "output_type": "stream",
     "text": [
      "8 1 2 6 4 \n",
      "\n",
      "Linked List Operations Menu:\n",
      "1. Insert a node\n",
      "2. Insert a node at the start\n",
      "3. Insert a node after a specific element\n",
      "4. Delete a node\n",
      "5. Display linked list\n",
      "6. Exit\n"
     ]
    },
    {
     "name": "stdin",
     "output_type": "stream",
     "text": [
      "Enter your choice (1-6):  6\n"
     ]
    },
    {
     "name": "stdout",
     "output_type": "stream",
     "text": [
      "Exiting.\n"
     ]
    }
   ],
   "source": [
    "class node:\n",
    "    def __init__(self,data):\n",
    "        self.data = data\n",
    "        self.next = None\n",
    "class Linkedlist:\n",
    "    def __init__(self):\n",
    "        self.head = None \n",
    "        \n",
    "    def insert(self,data):\n",
    "        newnode = node(data)\n",
    "        if self.head is None:\n",
    "            self.head = newnode\n",
    "        else:\n",
    "            curnt = self.head\n",
    "            while curnt.next:\n",
    "                curnt = curnt.next\n",
    "            curnt.next = newnode\n",
    "    def insstart(self,data):\n",
    "        newnode = node(data):\n",
    "        newnode.next = self.head\n",
    "        self.head = newnode\n",
    "    def insafter(self,key,data):\n",
    "        curnt = self.head\n",
    "        while curnt and curnt.data != key:\n",
    "            curnt = curnt.next\n",
    "        if curnt is None:\n",
    "            print(\"key not found\")\n",
    "            return\n",
    "        else:\n",
    "            newnode = node(data)\n",
    "            newnode.next = curnt.next\n",
    "            curnt.next = newnode\n",
    "    def delete(self,key):\n",
    "        curnt = self.head\n",
    "        prev = None\n",
    "        while curnt and curnt.data != key:\n",
    "            prev = curnt\n",
    "            curnt = curnt.next\n",
    "        if curnt is None:\n",
    "            print(\"key not found\")\n",
    "            return\n",
    "        if curnt == self.head:\n",
    "            self.head = current.next\n",
    "        else\n",
    "            prev.next = curnt.next\n",
    "        \n",
    "            \n",
    "            \n",
    "       \n",
    "        \n",
    "        \n",
    "    "
   ]
  },
  {
   "cell_type": "code",
   "execution_count": 49,
   "id": "d7e1bf36-5e37-45cb-935d-848a8b3ef2df",
   "metadata": {},
   "outputs": [
    {
     "name": "stdin",
     "output_type": "stream",
     "text": [
      "enter no. of persons:  3\n"
     ]
    },
    {
     "name": "stdout",
     "output_type": "stream",
     "text": [
      "for person  1 : \n"
     ]
    },
    {
     "name": "stdin",
     "output_type": "stream",
     "text": [
      "enter name shem\n",
      "neter job stu\n",
      "enter day of birth:  20\n",
      "enter month of birth:  06\n",
      "enter year of birth:  2003\n"
     ]
    },
    {
     "name": "stdout",
     "output_type": "stream",
     "text": [
      "for person  2 : \n"
     ]
    },
    {
     "name": "stdin",
     "output_type": "stream",
     "text": [
      "enter name pacab\n",
      "neter job deve\n",
      "enter day of birth:  3\n",
      "enter month of birth:  34\n",
      "enter year of birth:  5322\n"
     ]
    },
    {
     "name": "stdout",
     "output_type": "stream",
     "text": [
      "for person  3 : \n"
     ]
    },
    {
     "name": "stdin",
     "output_type": "stream",
     "text": [
      "enter name dert\n",
      "neter job rtyu\n",
      "enter day of birth:  4\n",
      "enter month of birth:  5\n",
      "enter year of birth:  24\n"
     ]
    },
    {
     "name": "stdout",
     "output_type": "stream",
     "text": [
      "for person  1 : \n",
      "name:  shem\n",
      "job:  stu\n",
      "dob:  20 / 6 / 2003\n",
      "for person  2 : \n",
      "name:  pacab\n",
      "job:  deve\n",
      "dob:  3 / 34 / 5322\n",
      "for person  3 : \n",
      "name:  dert\n",
      "job:  rtyu\n",
      "dob:  4 / 5 / 24\n"
     ]
    }
   ],
   "source": [
    "\n",
    "class Person:\n",
    "    class DOB:\n",
    "        def __init__(self,day,month,year):\n",
    "           self.day = day\n",
    "           self.month = month\n",
    "           self.year = year\n",
    "    \n",
    "    def __init__(self,name,job,dob):\n",
    "        self.name = name\n",
    "        self.job = job\n",
    "        self.dob = dob\n",
    "        \n",
    "    def  getname(self):\n",
    "        return self.name\n",
    "    def getjob(self):\n",
    "        return self.job\n",
    "    def getdob(self):\n",
    "        return self.dob\n",
    "        \n",
    "    def create():\n",
    "        name = input(\"enter name\")\n",
    "        job = input(\"neter job\")\n",
    "        day = int(input(\"enter day of birth: \"))\n",
    "        month = int(input(\"enter month of birth: \"))\n",
    "        year = int(input(\"enter year of birth: \"))\n",
    "        dob = Person.DOB(day,month,year)\n",
    "        return Person(name,job,dob)\n",
    "\n",
    "    def display(self):\n",
    "        print(\"name: \",self.getname())\n",
    "        print(\"job: \",self.getjob())\n",
    "        dob = self.getdob()\n",
    "        print(\"dob: \",dob.day,\"/\",dob.month,\"/\",dob.year)\n",
    "persons = []        \n",
    "n = int(input(\"enter no. of persons: \"))\n",
    "for i in range(n):\n",
    "    print(\"for person \",i+1,\": \")\n",
    "    person = Person.create()\n",
    "    persons.append(person)\n",
    "j= 0\n",
    "for i in persons:\n",
    "    print(\"for person \",j+1,\": \")\n",
    "    i.display()\n",
    "    j  = j+1\n",
    "    \n",
    "        \n",
    "        \n",
    "        \n",
    "        \n"
   ]
  },
  {
   "cell_type": "code",
   "execution_count": 55,
   "id": "73920941-1aab-42fd-83ca-86d37130a02a",
   "metadata": {},
   "outputs": [
    {
     "name": "stdin",
     "output_type": "stream",
     "text": [
      "enetr the sentence ce du ar bw\n"
     ]
    },
    {
     "name": "stdout",
     "output_type": "stream",
     "text": [
      "ar,bw,ce,du\n"
     ]
    }
   ],
   "source": [
    "#sort sentences words alphbetaclly\n",
    "sen = input(\"enetr the sentence\")\n",
    "words = sen.split()\n",
    "i = 0\n",
    "for i in range(len(words)):\n",
    "    j = i + 1\n",
    "    for j in range(len(words)):\n",
    "        if words[i][0] < words[j][0]:\n",
    "            temp = words[i]\n",
    "            words[i] = words[j]\n",
    "            words[j] = temp\n",
    "print(','.join(words))            "
   ]
  },
  {
   "cell_type": "code",
   "execution_count": 56,
   "id": "2bf11bd4-ea04-4e51-b8d6-421160b260de",
   "metadata": {},
   "outputs": [
    {
     "name": "stdout",
     "output_type": "stream",
     "text": [
      "4321\n"
     ]
    }
   ],
   "source": [
    "def revnum(n,rev = 0):\n",
    "    if n==0:\n",
    "        return rev\n",
    "    else:\n",
    "        rev = rev * 10 + n%10\n",
    "        return revnum(n//10,rev)\n",
    "print(revnum(1234))        \n",
    "        "
   ]
  },
  {
   "cell_type": "code",
   "execution_count": 60,
   "id": "f1f73b04-7586-4f68-8bf4-9b1f2f03369d",
   "metadata": {},
   "outputs": [
    {
     "name": "stdin",
     "output_type": "stream",
     "text": [
      "Enter the value of decimal:  58\n"
     ]
    },
    {
     "name": "stdout",
     "output_type": "stream",
     "text": [
      "LVIII\n"
     ]
    }
   ],
   "source": [
    "def decitoroman(deci):\n",
    "    roman_val = {\n",
    "        90: 'XC', 50: 'L', 40: 'XL', 10: 'X', \n",
    "        9: 'IX', 5: 'V', 4: 'IV', 1: 'I'\n",
    "    }\n",
    "    roman = \"\"\n",
    "    for value in sorted(roman_val.keys(), reverse=True):  # Sort keys in descending order\n",
    "        while deci >= value:\n",
    "            roman += roman_val[value]\n",
    "            deci = deci - value\n",
    "    return roman\n",
    "\n",
    "n = int(input(\"Enter the value of decimal: \"))\n",
    "print(decitoroman(n))\n"
   ]
  },
  {
   "cell_type": "code",
   "execution_count": 62,
   "id": "8544fccb-aba3-4b6c-84af-5d7825f21d0d",
   "metadata": {},
   "outputs": [
    {
     "name": "stdout",
     "output_type": "stream",
     "text": [
      "afbecd\n"
     ]
    }
   ],
   "source": [
    "str1 = \"abc\"\n",
    "str2 = \"def\"\n",
    "str3 =\"\"\n",
    "n1 = len(str1)\n",
    "n2 = len(str2)\n",
    "for i in range(n1):\n",
    "    if n1 !=0:\n",
    "        str3 = str3 + str1[i]\n",
    "    if n2 !=0:\n",
    "        str3 = str3 + str2[n2-1-i]\n",
    "print(str3)        \n"
   ]
  },
  {
   "cell_type": "code",
   "execution_count": 64,
   "id": "a027cba1-141a-42a3-97a4-dc3b6b9e5f34",
   "metadata": {},
   "outputs": [
    {
     "name": "stdin",
     "output_type": "stream",
     "text": [
      "enter the size of chunks < 3 2\n"
     ]
    },
    {
     "name": "stdout",
     "output_type": "stream",
     "text": [
      "[1, 2]\n",
      "[3, 4]\n",
      "[5, 6]\n",
      "[7, 8]\n",
      "[9, 10]\n"
     ]
    }
   ],
   "source": [
    "lst = [1,2,3,4,5,6,7,8,9,10]\n",
    "n=3\n",
    "m=int(input(f\"enter the size of chunks < {n}\"))\n",
    "if m > n:\n",
    "    print(\"errro\")\n",
    "else:\n",
    "    for i in range (0,len(lst),m):\n",
    "        chunk = lst[i:i+m]\n",
    "        print(chunk)"
   ]
  },
  {
   "cell_type": "code",
   "execution_count": 70,
   "id": "fa214388-6359-40f9-a8ab-6a7f1e264602",
   "metadata": {},
   "outputs": [
    {
     "name": "stdin",
     "output_type": "stream",
     "text": [
      "enetr the size:  9\n"
     ]
    },
    {
     "name": "stdout",
     "output_type": "stream",
     "text": [
      "enetr teh elements:\n"
     ]
    },
    {
     "name": "stdin",
     "output_type": "stream",
     "text": [
      "enetrt teh data: 1\n",
      "enetrt teh data: 2\n",
      "enetrt teh data: 4\n",
      "enetrt teh data: 2\n",
      "enetrt teh data: 4\n",
      "enetrt teh data: 8\n",
      "enetrt teh data: 1\n",
      "enetrt teh data: 3\n",
      "enetrt teh data: 2\n"
     ]
    },
    {
     "name": "stdout",
     "output_type": "stream",
     "text": [
      "1  :  2\n",
      "2  :  3\n",
      "4  :  2\n",
      "8  :  1\n",
      "3  :  1\n"
     ]
    }
   ],
   "source": [
    "n = int(input(\"enetr the size: \"))\n",
    "arr = []\n",
    "l = []\n",
    "count = []\n",
    "print(\"enetr teh elements:\")\n",
    "for i in range(n):\n",
    "    num = int(input(\"enetrt teh data:\"))\n",
    "    arr.append(num)\n",
    "for  i in arr:\n",
    "    cnt = 0\n",
    "    for j in arr:\n",
    "        if i == j:\n",
    "            cnt = cnt  +1\n",
    "    if i not in l:\n",
    "        l.append(i)\n",
    "        count.append(cnt)\n",
    "for i in range(len(count)):\n",
    "    print(l[i], \" : \",count[i]) \n",
    "    \n",
    "\n",
    "        \n",
    "            \n",
    "    "
   ]
  },
  {
   "cell_type": "code",
   "execution_count": 72,
   "id": "272f5a43-728f-4469-86e8-e9328da0fba3",
   "metadata": {},
   "outputs": [
    {
     "name": "stdin",
     "output_type": "stream",
     "text": [
      "enter the first num 47\n",
      "enter the second num 94\n"
     ]
    },
    {
     "name": "stdout",
     "output_type": "stream",
     "text": [
      "47\n"
     ]
    }
   ],
   "source": [
    "n1 = int(input(\"enter the first num\"))\n",
    "n2 = int(input(\"enter the second num\"))\n",
    "\n",
    "gcd = 1\n",
    "for i in range(1, max(n1,n2) + 1):\n",
    "    if n1 % i == 0 and n2 % i == 0:\n",
    "        gcd = i\n",
    "print(gcd)        "
   ]
  },
  {
   "cell_type": "code",
   "execution_count": 74,
   "id": "0539454d-48da-4662-9c75-698daf4cd038",
   "metadata": {},
   "outputs": [
    {
     "name": "stdin",
     "output_type": "stream",
     "text": [
      "Enter a sentence:  shem is good\n"
     ]
    },
    {
     "name": "stdout",
     "output_type": "stream",
     "text": [
      "Reversed each word: mehs si doog\n"
     ]
    }
   ],
   "source": [
    "def reverse_each_word(sentence):\n",
    "    words = sentence.split()\n",
    "    # Reverse each word and join them back with spaces\n",
    "    revers = []\n",
    "    for word in words:\n",
    "        revers.append(word[::-1])\n",
    "         \n",
    "    #reversed_words = [word[::-1] for word in words]\n",
    "   \n",
    "    result = ' '.join(revers)\n",
    "    return result\n",
    "\n",
    "# Get input from the user\n",
    "sentence = input(\"Enter a sentence: \")\n",
    "# Print the result\n",
    "print(\"Reversed each word:\", reverse_each_word(sentence))\n"
   ]
  },
  {
   "cell_type": "code",
   "execution_count": 78,
   "id": "610e1f52-8e94-49a6-8e32-a499590973ac",
   "metadata": {},
   "outputs": [
    {
     "name": "stdin",
     "output_type": "stream",
     "text": [
      "enter a string Shem is 34#$7\n"
     ]
    },
    {
     "name": "stdout",
     "output_type": "stream",
     "text": [
      "capital char:  S\n",
      "small char:  h\n",
      "small char:  e\n",
      "small char:  m\n",
      "special:   \n",
      "small char:  i\n",
      "small char:  s\n",
      "special:   \n",
      "digit :  3\n",
      "digit :  4\n",
      "special:  #\n",
      "special:  $\n",
      "digit :  7\n"
     ]
    }
   ],
   "source": [
    "str = input(\"enter a string\")\n",
    "for i in str:\n",
    "    if '0' <= i <= '9':\n",
    "        print(\"digit : \",i)\n",
    "    elif 'a' <= i <= 'z':\n",
    "        print(\"small char: \",i)\n",
    "    elif 'A' <= i <= 'Z':\n",
    "        print(\"capital char: \",i)    \n",
    "    else:\n",
    "        print(\"special: \",i)\n",
    "\n"
   ]
  },
  {
   "cell_type": "code",
   "execution_count": 87,
   "id": "106005c0-57b8-438c-bbec-52ad8803bceb",
   "metadata": {},
   "outputs": [
    {
     "name": "stdin",
     "output_type": "stream",
     "text": [
      "enetr the size  7\n",
      "enetr  the data  1\n",
      "enetr  the data  2\n",
      "enetr  the data  1\n",
      "enetr  the data  4\n",
      "enetr  the data  2\n",
      "enetr  the data  3\n",
      "enetr  the data  4\n"
     ]
    },
    {
     "name": "stdout",
     "output_type": "stream",
     "text": [
      "1\n",
      "2\n",
      "4\n"
     ]
    }
   ],
   "source": [
    "n = int(input(\"enetr the size \"))\n",
    "l1 = []\n",
    "l2 = []\n",
    "for i in range(n):\n",
    "    num = int(input(\"enetr  the data \"))\n",
    "    l1.append(num)\n",
    "for i in l1:\n",
    "    if l1.count(i) > 1 and i not in l2:\n",
    "        l2.append(i)\n",
    "for i in l2:\n",
    "    print(i)"
   ]
  },
  {
   "cell_type": "code",
   "execution_count": 88,
   "id": "c3b828eb-eb6e-4d19-b03f-a25da3838f9b",
   "metadata": {},
   "outputs": [
    {
     "name": "stdin",
     "output_type": "stream",
     "text": [
      "enetr the size  6\n",
      "enetr  the data  1\n",
      "enetr  the data  3\n",
      "enetr  the data  4\n",
      "enetr  the data  5\n",
      "enetr  the data  6\n",
      "enetr  the data  7\n"
     ]
    },
    {
     "name": "stdout",
     "output_type": "stream",
     "text": [
      "[7, 6, 5, 4, 3, 1]\n"
     ]
    }
   ],
   "source": [
    "n = int(input(\"enetr the size \"))\n",
    "l1 = []\n",
    "for i in range(n):\n",
    "    num = int(input(\"enetr  the data \"))\n",
    "    l1.append(num)\n",
    "for i in range(n//2):\n",
    "    temp = l1[i]\n",
    "    l1[i] = l1[n-1-i]\n",
    "    l1[n-1-i] = temp\n",
    "print(l1)    "
   ]
  },
  {
   "cell_type": "code",
   "execution_count": 89,
   "id": "80e3e611-30e5-4124-9913-74aa277cc3d9",
   "metadata": {},
   "outputs": [
    {
     "name": "stdin",
     "output_type": "stream",
     "text": [
      "enetr the size  9\n",
      "enetr  the data  1\n",
      "enetr  the data  2\n",
      "enetr  the data  3\n",
      "enetr  the data  4\n",
      "enetr  the data  5\n",
      "enetr  the data  6\n",
      "enetr  the data  7\n",
      "enetr  the data  8\n",
      "enetr  the data  9\n"
     ]
    },
    {
     "name": "stdout",
     "output_type": "stream",
     "text": [
      "5\n",
      "6\n",
      "7\n",
      "8\n",
      "9\n",
      "1\n",
      "2\n",
      "3\n",
      "4\n"
     ]
    }
   ],
   "source": [
    "n = int(input(\"enetr the size \"))\n",
    "l1 = []\n",
    "l2 = []\n",
    "for i in range(n):\n",
    "    num = int(input(\"enetr  the data \"))\n",
    "    l1.append(num)\n",
    "m = int(n/2)\n",
    "for i in range(m,n):\n",
    "    l2.append(l1[i])\n",
    "    \n",
    "for i in range(0,m):\n",
    "    l2.append(l1[i])\n",
    "    \n",
    "for i in l2:\n",
    "    print(i)\n",
    "\n",
    "    "
   ]
  },
  {
   "cell_type": "code",
   "execution_count": 90,
   "id": "4b786661-49bf-4e46-a80f-b1c2756e9c87",
   "metadata": {},
   "outputs": [
    {
     "name": "stdin",
     "output_type": "stream",
     "text": [
      "enetr the coeficint of x^2:  1\n",
      "enetrr the code of x:  -6\n",
      "eneer the const:  8\n"
     ]
    },
    {
     "name": "stdout",
     "output_type": "stream",
     "text": [
      "root a:  4.0\n",
      "root b:  2.0\n"
     ]
    }
   ],
   "source": [
    "import math\n",
    "a = int(input(\"enetr the coeficint of x^2: \"))\n",
    "b = int(input(\"enetrr the code of x: \"))\n",
    "c = int(input(\"eneer the const: \"))\n",
    "d = (b *b) - (4*a*c)\n",
    "d1 = math.sqrt(d)\n",
    "x1 = (-b + d1)/(2*a)\n",
    "x2 = (-b - d1)/(2*a)\n",
    "if d < 0:\n",
    "    print(\"no roots:\")\n",
    "else :\n",
    "    print(\"root a: \",x1)\n",
    "    print(\"root b: \",x2)\n",
    "    "
   ]
  },
  {
   "cell_type": "code",
   "execution_count": 124,
   "id": "1df11355-b874-41c7-89e9-5272aac31791",
   "metadata": {},
   "outputs": [
    {
     "name": "stdout",
     "output_type": "stream",
     "text": [
      "[-3, -2, 1, 6, 9]\n"
     ]
    }
   ],
   "source": [
    "def sorts(stack):\n",
    "    if len(stack) == 0:\n",
    "        return\n",
    "    top = stack.pop()\n",
    "    sorts(stack)\n",
    "    pushes(stack,top)\n",
    "def pushes(stack,ele):\n",
    "    if len(stack) == 0 or ele > stack[-1]:\n",
    "        stack.append(ele)\n",
    "        return\n",
    "    else:\n",
    "        top = stack.pop()\n",
    "        pushes(stack,ele)\n",
    "        stack.append(top)\n",
    "stack = [1,-2,9,-3,6]\n",
    "sorts(stack)\n",
    "print(stack)\n",
    "    \n",
    "        "
   ]
  },
  {
   "cell_type": "code",
   "execution_count": null,
   "id": "3055945b-0231-4f5f-a7aa-af9f97694955",
   "metadata": {},
   "outputs": [],
   "source": [
    "class node:\n",
    "    def __init__(self,data):\n",
    "        self.data = data\n",
    "        self.next =None\n",
    "class Linkedlist:\n",
    "    def __init__(self):\n",
    "        self.head = None\n",
    "    def   insert(self,data):\n",
    "        newnode = node(data)\n",
    "        if self.head is None:\n",
    "            self.head = newnode\n",
    "        else:\n",
    "            curnt = self.head\n",
    "            while curnt.next:\n",
    "                curnt = curnt.next\n",
    "            curnt.next = newnode \n",
    "     def insStart(self,data):\n",
    "         newnode = node(data)\n",
    "         newnode.next = self.head\n",
    "         self.head = newnode\n",
    "     def insafter(self,data,key):\n",
    "         curnt = self.head\n",
    "         while cunrt and curnt.data != key:\n",
    "             curnt = curnt.next\n",
    "         if curnt is None:\n",
    "             print(\"error:\")\n",
    "             return\n",
    "         newnode = node(data)    \n",
    "         newnode.next = curnt.next\n",
    "         curnt.next = newnode\n",
    "     def delete(self,key):\n",
    "         curnt = self.head\n",
    "         prev = None\n",
    "         while curnt and curnt.data != key:\n",
    "             prev = curnt\n",
    "             curnt = curnt.next\n",
    "         if curnt is None:\n",
    "             print(\"key not found\")\n",
    "             return\n",
    "         if curnt == self.head:\n",
    "             self.head = curnt.next\n",
    "         else:\n",
    "             prev.next = curnt.next\n",
    "      def  display(self):\n",
    "          curnt = self.head:\n",
    "          if curnt is None:\n",
    "              print(\"eeor\")\n",
    "              return\n",
    "          else:\n",
    "              while curnt:\n",
    "                  print(curnt.data,end=\" \")\n",
    "                  curnt = curnt.next\n",
    "                  \n",
    "linked = :lim()\n",
    "while true\n",
    "menu \n",
    "             \n",
    "\n",
    "             \n",
    "            \n",
    "        \n"
   ]
  },
  {
   "cell_type": "code",
   "execution_count": 126,
   "id": "e47fdb95-89b0-41c3-b2d3-f3bf98dc8c79",
   "metadata": {},
   "outputs": [
    {
     "name": "stdin",
     "output_type": "stream",
     "text": [
      "Enter an octal number:  5\n"
     ]
    },
    {
     "name": "stdout",
     "output_type": "stream",
     "text": [
      "Binary representation: 101\n"
     ]
    }
   ],
   "source": [
    "def chartobin(hex_char):\n",
    "    hexdict = {\n",
    "        '0': '0000', '1': '0001', '2': '0010', '3': '0011',\n",
    "        '4': '0100', '5': '0101', '6': '0110', '7': '0111',\n",
    "        '8': '1000', '9': '1001', 'A': '1010', 'B': '1011',\n",
    "        'C': '1100', 'D': '1101', 'E': '1110', 'F': '1111'\n",
    "    }\n",
    "    return hexdict[hex_char.upper()]\n",
    "\n",
    "def oct_char_to_binary(oct_char):\n",
    "    octdict = {\n",
    "        '0': '000', '1': '001', '2': '010', '3': '011',\n",
    "        '4': '100', '5': '101', '6': '110', '7': '111'\n",
    "    }\n",
    "    return octdict[oct_char]\n",
    "\n",
    "# Input and processing\n",
    "octnum = input(\"Enter an octal number: \")\n",
    "binary_output = \"\"\n",
    "\n",
    "for digit in octnum:\n",
    "    if digit in '01234567':\n",
    "        binary_output += oct_char_to_binary(digit) + \" \"\n",
    "    else:\n",
    "        print(f\"Invalid octal digit: {digit}\")\n",
    "        break\n",
    "else:\n",
    "    print(\"Binary representation:\", binary_output.strip())\n"
   ]
  },
  {
   "cell_type": "code",
   "execution_count": 131,
   "id": "3033f045-05dc-464b-9444-5d34b0ef94e6",
   "metadata": {},
   "outputs": [
    {
     "name": "stdin",
     "output_type": "stream",
     "text": [
      "enetr the binary number:  111001\n"
     ]
    },
    {
     "name": "stdout",
     "output_type": "stream",
     "text": [
      "11\n",
      "1001\n",
      "1100\n",
      "3\n",
      "9\n"
     ]
    }
   ],
   "source": [
    "b = input(\"enetr the binary number: \")\n",
    "temp = b\n",
    "while len(temp) > 4:\n",
    "    c = temp[:-4]\n",
    "    print(c)\n",
    "    temp = temp[-4:]\n",
    "    print(temp)\n",
    "    num1= int(c,2)\n",
    "    num2 = int(temp ,2)\n",
    "    sum_deci = num1 + num2\n",
    "    temp = bin(sum_deci)[2:]\n",
    "sum_bin = temp\n",
    "print(sum_bin)\n",
    "print(num1)\n",
    "print(num2)\n",
    "\n",
    "    \n",
    "    "
   ]
  },
  {
   "cell_type": "code",
   "execution_count": 132,
   "id": "506610f5-483f-4138-b0bf-df225e8eacd8",
   "metadata": {},
   "outputs": [
    {
     "name": "stdin",
     "output_type": "stream",
     "text": [
      "Enter an hex number:  F\n"
     ]
    },
    {
     "name": "stdout",
     "output_type": "stream",
     "text": [
      "The hexadecimal representation is: 17\n"
     ]
    }
   ],
   "source": [
    "# Convert octal to hexadecimal\n",
    "octal_num = input(\"Enter an hex number: \")\n",
    "\n",
    "# Convert octal to decimal first\n",
    "decimal_num = int(octal_num, 16)\n",
    "\n",
    "# Convert decimal to hexadecimal\n",
    "hex_num = oct(decimal_num)\n",
    "\n",
    "# Print the hexadecimal representation\n",
    "print(f\"The hexadecimal representation is: {hex_num[2:].upper()}\")\n"
   ]
  },
  {
   "cell_type": "code",
   "execution_count": null,
   "id": "f191d72a-9f85-44e5-93e8-2b8f1cf3fd91",
   "metadata": {},
   "outputs": [],
   "source": [
    "def binaru_to_decimal(bin):\n",
    "    decimal = 0\n",
    "    for i ,bit "
   ]
  }
 ],
 "metadata": {
  "kernelspec": {
   "display_name": "Python 3 (ipykernel)",
   "language": "python",
   "name": "python3"
  },
  "language_info": {
   "codemirror_mode": {
    "name": "ipython",
    "version": 3
   },
   "file_extension": ".py",
   "mimetype": "text/x-python",
   "name": "python",
   "nbconvert_exporter": "python",
   "pygments_lexer": "ipython3",
   "version": "3.13.0"
  }
 },
 "nbformat": 4,
 "nbformat_minor": 5
}
