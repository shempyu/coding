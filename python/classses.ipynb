{
 "cells": [
  {
   "cell_type": "code",
   "execution_count": 1,
   "id": "6ce4c3d9-7a9f-4d5a-9a38-bee3081b6b1f",
   "metadata": {},
   "outputs": [
    {
     "name": "stdout",
     "output_type": "stream",
     "text": [
      "mamal\n",
      "i'm a mamal\n",
      "i'm a dog\n"
     ]
    }
   ],
   "source": [
    "class Dog:\n",
    "    attr1 = \"mamal\"\n",
    "    attr2 = \"dog\"\n",
    "    def fun(self):\n",
    "        print(\"i'm a\",self.attr1)\n",
    "        print(\"i'm a\",self.attr2)\n",
    "Rodger = Dog()\n",
    "print(Rodger.attr1)\n",
    "Rodger.fun()\n",
    "    "
   ]
  },
  {
   "cell_type": "code",
   "execution_count": 10,
   "id": "e3494d3f-6e94-4166-a617-0d0003854486",
   "metadata": {},
   "outputs": [
    {
     "name": "stdout",
     "output_type": "stream",
     "text": [
      " John\n",
      "36\n"
     ]
    }
   ],
   "source": [
    "class Person:\n",
    " def __init__(self,name,age):\n",
    "      self.name = name\n",
    "      self.age = age\n",
    "p1 = Person(\" John\",36)\n",
    "print(p1.name)\n",
    "print(p1.age)"
   ]
  },
  {
   "cell_type": "code",
   "execution_count": 13,
   "id": "55826d37-e969-49f1-bfbe-6ad147087510",
   "metadata": {},
   "outputs": [
    {
     "name": "stdout",
     "output_type": "stream",
     "text": [
      " John\n",
      "36\n",
      "Destructor called ,person deleted.\n"
     ]
    }
   ],
   "source": [
    "class Person:\n",
    " def __init__(self,name,age):\n",
    "      self.name = name\n",
    "      self.age = age\n",
    " def __del__(self):\n",
    "     print('Destructor called ,person deleted.')\n",
    "p1 = Person(\" John\",36)\n",
    "print(p1.name)\n",
    "print(p1.age)\n",
    "del p1\n",
    "# print(p1.name) ->>will throw an error"
   ]
  },
  {
   "cell_type": "code",
   "execution_count": 16,
   "id": "77ad8516-3140-45a6-94c1-1a16ed28fe36",
   "metadata": {},
   "outputs": [
    {
     "name": "stdout",
     "output_type": "stream",
     "text": [
      "hello my name is john\n"
     ]
    }
   ],
   "source": [
    "### ObjectMethods  ####\n",
    "# Objectscan also containmethods.Methods in objectsarefunctionsthat  \n",
    "#belong tothe object.\n",
    "# Example\n",
    "# Insert afunctionthatprintsagreeting,andexecuteit onthe p1 object:\n",
    "class Person:\n",
    "    def __init__(self,name,age):\n",
    "        self.name = name\n",
    "        self.age = age\n",
    "    def myfunc(self):\n",
    "        print(\"hello my name is \" + self.name)\n",
    "p1 = Person(\"john\",36)\n",
    "p1.myfunc()"
   ]
  },
  {
   "cell_type": "code",
   "execution_count": 17,
   "id": "9e78a89f-e27e-4b01-b9f4-634e89bd217a",
   "metadata": {},
   "outputs": [
    {
     "name": "stdout",
     "output_type": "stream",
     "text": [
      "hello my name is john\n"
     ]
    }
   ],
   "source": [
    "#######  The selfParameter  #####\n",
    "# It does nothavetobe namedself, we cancallit whateverwe like,butit hastobe  \n",
    "# thefirstparameter of anyfunctionin theclass:\n",
    "#  Use the words anynameobject  and abc instead of self:\n",
    "class Person:\n",
    "    def __init__(anynameobject, name,age):\n",
    "        anynameobject.name = name\n",
    "        anynameobject.age = age\n",
    "    def myfunc(abc):\n",
    "        print(\"hello my name is\" + abc.name)\n",
    "p1 = Person(\" john\",36)\n",
    "p1.myfunc()"
   ]
  },
  {
   "cell_type": "code",
   "execution_count": 21,
   "id": "c5243300-53c1-4b7c-9e4b-8b712872b776",
   "metadata": {},
   "outputs": [
    {
     "name": "stdout",
     "output_type": "stream",
     "text": [
      "Rodger is a dog\n",
      "Breed:  pug\n",
      "color :  brown\n",
      "dog\n"
     ]
    }
   ],
   "source": [
    "## CLASS VARIABLE and instance variable ##\n",
    "class Dog:\n",
    "    animal ='dog' #class variable\n",
    "    def __init__(self,breed,color):\n",
    "        self.color  = color # instance variable\n",
    "        self.breed = breed\n",
    "rodger = Dog(\"pug\",\"brown\")\n",
    "Buzo = Dog(\"BullDog\",\"Black\")\n",
    "\n",
    "print('Rodger is a',rodger.animal)\n",
    "print('Breed: ',rodger.breed)\n",
    "print('color : ',rodger.color)\n",
    "\n",
    "print(Dog.animal)  # Classvariablescanbe accessedusingclassnamealso\n"
   ]
  },
  {
   "cell_type": "code",
   "execution_count": 22,
   "id": "f437e4ec-6074-43da-ba46-2a1c2ac2c208",
   "metadata": {},
   "outputs": [
    {
     "name": "stdout",
     "output_type": "stream",
     "text": [
      "brown\n"
     ]
    }
   ],
   "source": [
    "## CLASS VARIABLE ##\n",
    "class Dog:\n",
    "    animal ='dog'\n",
    "    def __init__(self,breed):\n",
    "        self.breed = breed\n",
    "    def setcolor(self,color):    # Addsaninstancevariable\n",
    "        self.color = color\n",
    "\n",
    "    def getcolor(self):\n",
    "        return self.color\n",
    "rodger = Dog(\"pug\")\n",
    "rodger.setcolor(\"brown\")\n",
    "print(rodger.getcolor())\n",
    "\n"
   ]
  },
  {
   "cell_type": "code",
   "execution_count": 25,
   "id": "ff4c0d1f-7341-4b42-9754-560538858c24",
   "metadata": {},
   "outputs": [
    {
     "name": "stdout",
     "output_type": "stream",
     "text": [
      "brown\n"
     ]
    }
   ],
   "source": [
    "## local VARIABLE ##\n",
    "class Dog:\n",
    "    animal ='dog'\n",
    "    def __init__(self,breed):\n",
    "        self.breed = breed\n",
    "    def setcolor(self,color,type):    # Addsaninstancevariable\n",
    "        self.color = color           # instance variable\n",
    "        type = type                  #Local variable\n",
    "\n",
    "    def getcolor(self):\n",
    "        return self.color\n",
    "    def gettype(self):\n",
    "        return self.type\n",
    "rodger = Dog(\"pug\")\n",
    "rodger.setcolor(\"brown\",\"short\")\n",
    "print(rodger.getcolor())         # but for any object an instancevariable is assessable throughout the class.\n",
    "# print(rodger.gettype())        # Local variable cant be accessed out of a method\n",
    "\n"
   ]
  },
  {
   "cell_type": "code",
   "execution_count": 31,
   "id": "fe830ab4-f107-4791-ad11-34ea2833c3c1",
   "metadata": {},
   "outputs": [
    {
     "name": "stdin",
     "output_type": "stream",
     "text": [
      "enter your name:  shem\n",
      "enter your country:  india\n",
      "enter yur dob(YYYY-MM-DD): 2003-06-20\n"
     ]
    },
    {
     "name": "stdout",
     "output_type": "stream",
     "text": [
      "name: shem country: india dob: 2003-06-20 age: 21\n"
     ]
    }
   ],
   "source": [
    "from datetime import datetime\n",
    "class person:\n",
    "    def __init__(self,name,country,dob):\n",
    "        self.name = name\n",
    "        self.country = country\n",
    "        self.dob = datetime.strptime(dob,'%Y-%m-%d')\n",
    "    def agecal(self):\n",
    "        today = datetime.today()\n",
    "        age = today.year - self.dob.year\n",
    "        if(today.month,today.day) < (self.dob.month,self.dob.day):\n",
    "            age-=1\n",
    "        return age \n",
    "name = input(\"enter your name: \")\n",
    "country = input(\"enter your country: \")\n",
    "dob = input(\"enter yur dob(YYYY-MM-DD):\")\n",
    "p1 = person(name,country,dob)\n",
    "print(f\"name: {p1.name} country: {p1.country} dob: {p1.dob.strftime('%Y-%m-%d')} age: {p1.agecal()}\")\n",
    "        \n",
    "        "
   ]
  },
  {
   "cell_type": "code",
   "execution_count": null,
   "id": "490c5403-f7df-4a04-9c98-e5faef412401",
   "metadata": {},
   "outputs": [],
   "source": []
  }
 ],
 "metadata": {
  "kernelspec": {
   "display_name": "Python 3 (ipykernel)",
   "language": "python",
   "name": "python3"
  },
  "language_info": {
   "codemirror_mode": {
    "name": "ipython",
    "version": 3
   },
   "file_extension": ".py",
   "mimetype": "text/x-python",
   "name": "python",
   "nbconvert_exporter": "python",
   "pygments_lexer": "ipython3",
   "version": "3.13.0"
  }
 },
 "nbformat": 4,
 "nbformat_minor": 5
}
