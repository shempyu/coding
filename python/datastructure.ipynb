{
 "cells": [
  {
   "cell_type": "code",
   "execution_count": 1,
   "id": "8bf6aa58-d215-4ff1-a461-480812730e80",
   "metadata": {},
   "outputs": [
    {
     "name": "stdout",
     "output_type": "stream",
     "text": [
      "[1, 3, 6, 6, 7]\n"
     ]
    }
   ],
   "source": [
    "##sort stack recusrsively\n",
    "def sorts(stack):\n",
    "    if len(stack) == 0:\n",
    "        return\n",
    "    top = stack.pop()\n",
    "    sorts(stack)\n",
    "    pushs(stack, top)\n",
    "\n",
    "def pushs(stack, top):\n",
    "    if len(stack) == 0:\n",
    "        stack.append(top)\n",
    "        return\n",
    "    if top > stack[-1]:\n",
    "        stack.append(top)\n",
    "    else:\n",
    "        temp = stack.pop()\n",
    "        pushs(stack, top)\n",
    "        stack.append(temp)\n",
    "\n",
    "stack = [1, 3, 6, 7, 6]\n",
    "sorts(stack)\n",
    "print(stack)\n"
   ]
  },
  {
   "cell_type": "code",
   "execution_count": 2,
   "id": "9105a359-db27-49e8-95ac-942a369f2f41",
   "metadata": {},
   "outputs": [
    {
     "name": "stdout",
     "output_type": "stream",
     "text": [
      "\n",
      "Choose operation:\n",
      "1. Enqueue\n",
      "2. Dequeue\n",
      "3. Display\n",
      "4. Sort Queue\n",
      "5. Exit\n"
     ]
    },
    {
     "name": "stdin",
     "output_type": "stream",
     "text": [
      "Enter choice:  5\n"
     ]
    },
    {
     "name": "stdout",
     "output_type": "stream",
     "text": [
      "Exiting...\n"
     ]
    }
   ],
   "source": [
    "# Python program for a queue data structure with sorting functionality\n",
    "class Queue:\n",
    "    def __init__(self):\n",
    "        self.qu = []\n",
    "        \n",
    "    def enq(self, item):\n",
    "        self.qu.append(item)\n",
    "        \n",
    "    def dq(self):\n",
    "        if len(self.qu) == 0:\n",
    "            print(\"Queue is empty\")\n",
    "        else:\n",
    "            item = self.qu.pop(0)\n",
    "            print(\"Dequeued item:\", item)\n",
    "       \n",
    "    def display(self):\n",
    "        if len(self.qu) == 0:\n",
    "            print(\"Queue is empty.\")\n",
    "        else:\n",
    "            print(\"Queue content:\", self.qu)\n",
    "\n",
    "    # Function to sort the queue using recursion\n",
    "    def sortQueue(self):\n",
    "        def pushInQueue(queue, temp, qsize):\n",
    "            if len(queue) == 0 or qsize == 0:\n",
    "                queue.append(temp)\n",
    "                return\n",
    "            if temp <= queue[0]:\n",
    "                queue.append(temp)\n",
    "                for _ in range(qsize):\n",
    "                    queue.append(queue.pop(0))\n",
    "            else:\n",
    "                queue.append(queue.pop(0))\n",
    "                pushInQueue(queue, temp, qsize - 1)\n",
    "\n",
    "        def recursiveSort(queue):\n",
    "            if len(queue) == 0:\n",
    "                return\n",
    "            temp = queue.pop(0)\n",
    "            recursiveSort(queue)\n",
    "            pushInQueue(queue, temp, len(queue))\n",
    "\n",
    "        recursiveSort(self.qu)\n",
    "        print(\"Queue sorted.\")\n",
    "\n",
    "# Menu-driven program\n",
    "def menu():\n",
    "    print(\"\\nChoose operation:\")\n",
    "    print(\"1. Enqueue\")\n",
    "    print(\"2. Dequeue\")\n",
    "    print(\"3. Display\")\n",
    "    print(\"4. Sort Queue\")\n",
    "    print(\"5. Exit\")\n",
    "       \n",
    "qu1 = Queue()\n",
    "while True:\n",
    "    menu()\n",
    "    choice = int(input(\"Enter choice: \"))\n",
    "    if choice == 1:\n",
    "        data = int(input(\"Enter data: \"))\n",
    "        qu1.enq(data)\n",
    "    elif choice == 2:\n",
    "        qu1.dq()\n",
    "    elif choice == 3:\n",
    "        qu1.display()\n",
    "    elif choice == 4:\n",
    "        qu1.sortQueue()\n",
    "    elif choice == 5:\n",
    "        print(\"Exiting...\")\n",
    "        break\n",
    "    else:\n",
    "        print(\"Invalid choice.\")\n"
   ]
  },
  {
   "cell_type": "code",
   "execution_count": 3,
   "id": "a8bf7583-8cdd-4a11-b03e-fc90434c053d",
   "metadata": {},
   "outputs": [
    {
     "name": "stdout",
     "output_type": "stream",
     "text": [
      "\n",
      "Stack Operations\n",
      "1. Push an element\n",
      "2. Pop an element\n",
      "3. Display the stack\n",
      "4. Exit\n"
     ]
    },
    {
     "name": "stdin",
     "output_type": "stream",
     "text": [
      "Enter your choice (1-4):  4\n"
     ]
    },
    {
     "name": "stdout",
     "output_type": "stream",
     "text": [
      "Exiting\n"
     ]
    }
   ],
   "source": [
    "#### stack implementation ####\n",
    "class Stack:\n",
    "    def __init__(self):\n",
    "        self.stack = []\n",
    "        \n",
    "    def push(self, item):\n",
    "        self.stack.append(item)\n",
    "\n",
    "    def pop(self):\n",
    "        if len(self.stack) == 0:\n",
    "            print(\"empty\")\n",
    "        else:\n",
    "           print(self.stack.pop())\n",
    "\n",
    "    def display(self):\n",
    "        if len(self.stack) == 0:\n",
    "            print(\"The stack is empty.\")\n",
    "        else:\n",
    "            print(self.stack[::-1])\n",
    "            \n",
    "def menu():\n",
    "    print(\"\\nStack Operations\")\n",
    "    print(\"1. Push an element\")\n",
    "    print(\"2. Pop an element\")\n",
    "    print(\"3. Display the stack\")\n",
    "    print(\"4. Exit\")\n",
    "\n",
    "\n",
    "# Main program using match-case\n",
    "if __name__ == \"__main__\":\n",
    "    stack1 = Stack()\n",
    "\n",
    "    while True:\n",
    "        menu()\n",
    "        choice = input(\"Enter your choice (1-4): \")\n",
    "\n",
    "        match choice:\n",
    "            case \"1\":\n",
    "                item = input(\"Enter the element to push: \")\n",
    "                stack1.push(item)\n",
    "            case \"2\":\n",
    "                stack1.pop()\n",
    "            case \"3\":\n",
    "                stack1.display()\n",
    "            case \"4\":\n",
    "                print(\"Exiting\")\n",
    "                break\n",
    "            case _:\n",
    "                print(\"Invalid choice.\")\n"
   ]
  },
  {
   "cell_type": "code",
   "execution_count": 4,
   "id": "d072e540-2076-4466-ae66-c1f02c1b4a2a",
   "metadata": {},
   "outputs": [
    {
     "name": "stdout",
     "output_type": "stream",
     "text": [
      "\n",
      "Linked List Operations Menu:\n",
      "1. Insert a node\n",
      "2. Insert a node at the start\n",
      "3. Insert a node after a specific element\n",
      "4. Delete a node\n",
      "5. Display linked list\n",
      "6. Exit\n"
     ]
    },
    {
     "name": "stdin",
     "output_type": "stream",
     "text": [
      "Enter choice  6\n"
     ]
    },
    {
     "name": "stdout",
     "output_type": "stream",
     "text": [
      "Exiting.\n"
     ]
    }
   ],
   "source": [
    "class Node:\n",
    "    def __init__(self, data):\n",
    "        self.data = data\n",
    "        self.next = None\n",
    "\n",
    "class LinkedList:\n",
    "    def __init__(self):\n",
    "        self.head = None\n",
    "\n",
    "    def display(self):\n",
    "        current = self.head\n",
    "        if current is None:\n",
    "            print(\" empty.\")\n",
    "        else:\n",
    "            while current:\n",
    "                print(current.data, end=\" \")\n",
    "                current = current.next\n",
    "\n",
    "    def insert(self, data):\n",
    "        new_node = Node(data)\n",
    "        if not self.head:\n",
    "            self.head = new_node\n",
    "        else:\n",
    "            current = self.head\n",
    "            while current.next:\n",
    "                current = current.next\n",
    "            current.next = new_node\n",
    "\n",
    "    def insert_start(self, key):\n",
    "        new_node = Node(key)\n",
    "        new_node.next = self.head\n",
    "        self.head = new_node\n",
    "        \n",
    "    def insert_after(self, target, data):\n",
    "        current = self.head\n",
    "        while current and current.data != target:\n",
    "            current = current.next\n",
    "        if current is None:\n",
    "            print(\"Key not found.\")\n",
    "            return\n",
    "        new_node = Node(data)\n",
    "        new_node.next = current.next\n",
    "        current.next = new_node\n",
    "\n",
    "    def delete(self, key):\n",
    "        current = self.head\n",
    "        prev = None\n",
    "        while current and current.data != key:\n",
    "            prev = current\n",
    "            current = current.next\n",
    "        if current is None:\n",
    "            print(\"Key not found.\")\n",
    "            return\n",
    "        if current == self.head:  # Deleting head node\n",
    "            self.head = current.next\n",
    "        else:\n",
    "            prev.next = current.next\n",
    "\n",
    "def menu():\n",
    "    print(\"\\nLinked List Operations Menu:\")\n",
    "    print(\"1. Insert a node\")\n",
    "    print(\"2. Insert a node at the start\")\n",
    "    print(\"3. Insert a node after a specific element\")\n",
    "    print(\"4. Delete a node\")\n",
    "    print(\"5. Display linked list\")\n",
    "    print(\"6. Exit\")\n",
    "\n",
    "linked_list = LinkedList()\n",
    "\n",
    "while True:\n",
    "    menu()\n",
    "    choice = int(input(\"Enter choice \"))\n",
    "    if choice == 1:\n",
    "        data = int(input(\"Enter vaalue\"))\n",
    "        linked_list.insert(data)\n",
    "    elif choice == 2:\n",
    "        key = int(input(\"Enter value\"))\n",
    "        linked_list.insert_start(key)\n",
    "    elif choice == 3:\n",
    "        target = int(input(\"Enter val after to insert: \"))\n",
    "        data = int(input(\"Enter value \"))\n",
    "        linked_list.insert_after(target, data)\n",
    "    elif choice == 4:\n",
    "        key = int(input(\"Enter val delete: \"))\n",
    "        linked_list.delete(key)\n",
    "    elif choice == 5:\n",
    "        linked_list.display()\n",
    "    elif choice == 6:\n",
    "        print(\"Exiting.\")\n",
    "        break\n",
    "    else:\n",
    "        print(\"Invalid choice. Please try again.\")\n"
   ]
  },
  {
   "cell_type": "code",
   "execution_count": 5,
   "id": "9e9e58c4-e0e9-4baa-9b67-e2772b660608",
   "metadata": {},
   "outputs": [
    {
     "name": "stdin",
     "output_type": "stream",
     "text": [
      "Enter an octal number:  57\n"
     ]
    },
    {
     "name": "stdout",
     "output_type": "stream",
     "text": [
      "Hexadecimal equivalent of octal 57 is: 2F\n"
     ]
    }
   ],
   "source": [
    "def octal_to_decimal(octal_num):\n",
    "    if octal_num == 0:\n",
    "        return 0\n",
    "    return (octal_num % 10) + 8 * octal_to_decimal(octal_num // 10)\n",
    "\n",
    "def decimal_to_hexadecimal(decimal_num):\n",
    "    hex_chars = \"0123456789ABCDEF\"\n",
    "    if decimal_num == 0:\n",
    "        return \"\"\n",
    "    return decimal_to_hexadecimal(decimal_num // 16) + hex_chars[decimal_num % 16]\n",
    "\n",
    "def octal_to_hexadecimal(octal_num):\n",
    "    decimal_num = octal_to_decimal(octal_num)\n",
    "    hex_result = decimal_to_hexadecimal(decimal_num)\n",
    "    return hex_result if hex_result else \"0\"\n",
    "\n",
    "# Input\n",
    "octal_num = int(input(\"Enter an octal number: \"))\n",
    "\n",
    "# Convert and Output\n",
    "hex_result = octal_to_hexadecimal(octal_num)\n",
    "print(f\"Hexadecimal equivalent of octal {octal_num} is: {hex_result}\")\n"
   ]
  },
  {
   "cell_type": "code",
   "execution_count": null,
   "id": "3d6f5d39-317d-4e57-b80b-2bdba9ded7d2",
   "metadata": {},
   "outputs": [],
   "source": [
    "# Binary wrapping of 4 bits\n",
    "b = input(\"Enter the binary number: \")\n",
    "temp = b\n",
    "while len(temp) > 4:\n",
    "    c = temp[:-4]  # Bits to be wrapped\n",
    "    temp = temp[-4:]  # Last 4 bits\n",
    "    num1 = int(c, 2)\n",
    "    num2 = int(temp, 2)\n",
    "    sum_deci = num1 + num2\n",
    "    temp = bin(sum_deci)[2:]  # Remove '0b' prefix\n",
    "sum_bin = temp\n",
    "print(f\"The 4-bit wrapped sum is: {sum_bin}\")\n"
   ]
  }
 ],
 "metadata": {
  "kernelspec": {
   "display_name": "Python 3 (ipykernel)",
   "language": "python",
   "name": "python3"
  },
  "language_info": {
   "codemirror_mode": {
    "name": "ipython",
    "version": 3
   },
   "file_extension": ".py",
   "mimetype": "text/x-python",
   "name": "python",
   "nbconvert_exporter": "python",
   "pygments_lexer": "ipython3",
   "version": "3.13.0"
  }
 },
 "nbformat": 4,
 "nbformat_minor": 5
}
