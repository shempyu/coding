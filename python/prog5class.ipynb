{
 "cells": [
  {
   "cell_type": "code",
   "execution_count": 2,
   "id": "76c33021-1110-413e-91f0-08774f9ca7da",
   "metadata": {},
   "outputs": [
    {
     "name": "stdin",
     "output_type": "stream",
     "text": [
      "enter your name:  shem\n",
      "enter your country:  india\n",
      "enter yur dob(YYYY-MM-DD): 2003-06-20\n"
     ]
    },
    {
     "name": "stdout",
     "output_type": "stream",
     "text": [
      "name: shem country: india dob: 2003-06-20 age: 21\n"
     ]
    }
   ],
   "source": [
    "## Write a Python program that defines a person class with attributes such as name, country, \n",
    "# and date of birth. Develop a method to ascertain the person's age.\n",
    "from datetime import datetime\n",
    "class person:\n",
    "    ## private constructor\n",
    "    def __init__(self,name,country,dob):\n",
    "        self.name = name\n",
    "        self.country = country\n",
    "        self.dob = datetime.strptime(dob,'%Y-%m-%d')\n",
    "    def agecal(self):\n",
    "        today = datetime.today()\n",
    "        age = today.year - self.dob.year\n",
    "        if(today.month,today.day) < (self.dob.month,self.dob.day):\n",
    "            age-=1\n",
    "        return age \n",
    "name = input(\"enter your name: \")\n",
    "country = input(\"enter your country: \")\n",
    "dob = input(\"enter yur dob(YYYY-MM-DD):\")\n",
    "p1 = person(name,country,dob)\n",
    "print(f\"name: {p1.name} country: {p1.country} dob: {p1.dob.strftime('%Y-%m-%d')} age: {p1.agecal()}\")\n",
    "        \n",
    "        "
   ]
  },
  {
   "cell_type": "code",
   "execution_count": 11,
   "id": "c994430e-f4b5-495a-887b-9ec450045f4e",
   "metadata": {},
   "outputs": [
    {
     "name": "stdin",
     "output_type": "stream",
     "text": [
      "enter radius:  4\n",
      "enter base:  4\n",
      "enter height : 2\n",
      "enter hipotenuse :  5\n",
      "enter side:  6\n"
     ]
    },
    {
     "name": "stdout",
     "output_type": "stream",
     "text": [
      "area 50.24\n",
      "paremiter 25.12\n",
      "area 4.0\n",
      "paremiter 11\n",
      "area 36\n",
      "perimeter 24\n"
     ]
    }
   ],
   "source": [
    "# Write a Python program to establish a shape class, incorporating methods for calculating \n",
    "# both its area and perimeter. Extend this class with subclasses tailored for diverse shapes, \n",
    "# such as circle, triangle, and square.\n",
    "import math\n",
    "class shape:\n",
    "    def area(self):\n",
    "        print(\"no implemnet -> will be overidden by subclasses\")\n",
    "    def perimeter(self):\n",
    "        print(\"no implemnet -> will be overidden by subclasses\")\n",
    "class circle(shape):\n",
    "    def __init__(self,radius):\n",
    "        self.radius = radius\n",
    "    def area(self):\n",
    "        print(f\"area {self.radius * self.radius * 3.14}\")\n",
    "    def perimeter(self):\n",
    "        print(f\"paremiter {2 * 3.14 * self.radius}\")\n",
    "class tringle(shape):\n",
    "    def __init__(self,base,height,hipotenuse):\n",
    "        self.base = base\n",
    "        self.height = height\n",
    "        self.hipotenuse = hipotenuse\n",
    "    def area(self):\n",
    "        print(f\"area {(1/2) * self.base * self.height}\")\n",
    "    def perimeter(self):\n",
    "        print(f\"paremiter {(self.base + self.height + self.hipotenuse)}\")\n",
    "        \n",
    "class square(shape):\n",
    "    def __init__(self,side):\n",
    "        self.side = side\n",
    "    def area(self):\n",
    "        print(f\"area {(self.side **2)}\")\n",
    "    def perimeter(self):\n",
    "        print(f\"perimeter {(4 * self.side)}\")\n",
    "        \n",
    "r = int(input(\"enter radius: \"))  \n",
    "\n",
    "base = int(input(\"enter base: \"))\n",
    "height = int(input(\"enter height :\"))\n",
    "hipotenuse = int(input(\"enter hipotenuse : \"))\n",
    "\n",
    "side = int(input(\"enter side: \"))\n",
    "\n",
    "\n",
    "c1 = circle(r)\n",
    "c1.area()\n",
    "c1.perimeter()\n",
    "\n",
    "t1 = tringle(base,height,hipotenuse)\n",
    "t1.area()\n",
    "t1.perimeter()\n",
    "\n",
    "s1 = square(side)\n",
    "s1.area()\n",
    "s1.perimeter()\n",
    "        \n",
    "            \n",
    "    "
   ]
  },
  {
   "cell_type": "code",
   "execution_count": null,
   "id": "93681c94-5da7-4668-bdd9-193fe9105018",
   "metadata": {},
   "outputs": [],
   "source": []
  },
  {
   "cell_type": "code",
   "execution_count": null,
   "id": "549d11eb-8fbc-4640-b5ee-de526b32ee4a",
   "metadata": {},
   "outputs": [],
   "source": []
  },
  {
   "cell_type": "code",
   "execution_count": 5,
   "id": "352ea124-74df-4ff6-a603-811f5aa2c59e",
   "metadata": {},
   "outputs": [
    {
     "name": "stdout",
     "output_type": "stream",
     "text": [
      "\n",
      "Choose operation:\n",
      "1. Enqueue\n",
      "2. Dequeue\n",
      "3. Display\n",
      "4. Sort Queue\n",
      "5. Exit\n"
     ]
    },
    {
     "name": "stdin",
     "output_type": "stream",
     "text": [
      "Enter choice:  1\n",
      "Enter data:  1\n"
     ]
    },
    {
     "name": "stdout",
     "output_type": "stream",
     "text": [
      "\n",
      "Choose operation:\n",
      "1. Enqueue\n",
      "2. Dequeue\n",
      "3. Display\n",
      "4. Sort Queue\n",
      "5. Exit\n"
     ]
    },
    {
     "name": "stdin",
     "output_type": "stream",
     "text": [
      "Enter choice:  1\n",
      "Enter data:  -5\n"
     ]
    },
    {
     "name": "stdout",
     "output_type": "stream",
     "text": [
      "\n",
      "Choose operation:\n",
      "1. Enqueue\n",
      "2. Dequeue\n",
      "3. Display\n",
      "4. Sort Queue\n",
      "5. Exit\n"
     ]
    },
    {
     "name": "stdin",
     "output_type": "stream",
     "text": [
      "Enter choice:  1\n",
      "Enter data:  -6\n"
     ]
    },
    {
     "name": "stdout",
     "output_type": "stream",
     "text": [
      "\n",
      "Choose operation:\n",
      "1. Enqueue\n",
      "2. Dequeue\n",
      "3. Display\n",
      "4. Sort Queue\n",
      "5. Exit\n"
     ]
    },
    {
     "name": "stdin",
     "output_type": "stream",
     "text": [
      "Enter choice:  1\n",
      "Enter data:  6\n"
     ]
    },
    {
     "name": "stdout",
     "output_type": "stream",
     "text": [
      "\n",
      "Choose operation:\n",
      "1. Enqueue\n",
      "2. Dequeue\n",
      "3. Display\n",
      "4. Sort Queue\n",
      "5. Exit\n"
     ]
    },
    {
     "name": "stdin",
     "output_type": "stream",
     "text": [
      "Enter choice:  3\n"
     ]
    },
    {
     "name": "stdout",
     "output_type": "stream",
     "text": [
      "Queue content: [1, -5, -6, 6]\n",
      "\n",
      "Choose operation:\n",
      "1. Enqueue\n",
      "2. Dequeue\n",
      "3. Display\n",
      "4. Sort Queue\n",
      "5. Exit\n"
     ]
    },
    {
     "name": "stdin",
     "output_type": "stream",
     "text": [
      "Enter choice:  17\n"
     ]
    },
    {
     "name": "stdout",
     "output_type": "stream",
     "text": [
      "Invalid choice.\n",
      "\n",
      "Choose operation:\n",
      "1. Enqueue\n",
      "2. Dequeue\n",
      "3. Display\n",
      "4. Sort Queue\n",
      "5. Exit\n"
     ]
    },
    {
     "name": "stdin",
     "output_type": "stream",
     "text": [
      "Enter choice:  1\n",
      "Enter data:  7\n"
     ]
    },
    {
     "name": "stdout",
     "output_type": "stream",
     "text": [
      "\n",
      "Choose operation:\n",
      "1. Enqueue\n",
      "2. Dequeue\n",
      "3. Display\n",
      "4. Sort Queue\n",
      "5. Exit\n"
     ]
    },
    {
     "name": "stdin",
     "output_type": "stream",
     "text": [
      "Enter choice:  1\n",
      "Enter data:  3\n"
     ]
    },
    {
     "name": "stdout",
     "output_type": "stream",
     "text": [
      "\n",
      "Choose operation:\n",
      "1. Enqueue\n",
      "2. Dequeue\n",
      "3. Display\n",
      "4. Sort Queue\n",
      "5. Exit\n"
     ]
    },
    {
     "name": "stdin",
     "output_type": "stream",
     "text": [
      "Enter choice:  1\n",
      "Enter data:  4\n"
     ]
    },
    {
     "name": "stdout",
     "output_type": "stream",
     "text": [
      "\n",
      "Choose operation:\n",
      "1. Enqueue\n",
      "2. Dequeue\n",
      "3. Display\n",
      "4. Sort Queue\n",
      "5. Exit\n"
     ]
    },
    {
     "name": "stdin",
     "output_type": "stream",
     "text": [
      "Enter choice:  3\n"
     ]
    },
    {
     "name": "stdout",
     "output_type": "stream",
     "text": [
      "Queue content: [1, -5, -6, 6, 7, 3, 4]\n",
      "\n",
      "Choose operation:\n",
      "1. Enqueue\n",
      "2. Dequeue\n",
      "3. Display\n",
      "4. Sort Queue\n",
      "5. Exit\n"
     ]
    },
    {
     "name": "stdin",
     "output_type": "stream",
     "text": [
      "Enter choice:  4\n"
     ]
    },
    {
     "name": "stdout",
     "output_type": "stream",
     "text": [
      "Queue sorted.\n",
      "\n",
      "Choose operation:\n",
      "1. Enqueue\n",
      "2. Dequeue\n",
      "3. Display\n",
      "4. Sort Queue\n",
      "5. Exit\n"
     ]
    },
    {
     "name": "stdin",
     "output_type": "stream",
     "text": [
      "Enter choice:  3\n"
     ]
    },
    {
     "name": "stdout",
     "output_type": "stream",
     "text": [
      "Queue content: [-6, -5, 1, 3, 4, 6, 7]\n",
      "\n",
      "Choose operation:\n",
      "1. Enqueue\n",
      "2. Dequeue\n",
      "3. Display\n",
      "4. Sort Queue\n",
      "5. Exit\n"
     ]
    },
    {
     "name": "stdin",
     "output_type": "stream",
     "text": [
      "Enter choice:  5\n"
     ]
    },
    {
     "name": "stdout",
     "output_type": "stream",
     "text": [
      "Exiting...\n"
     ]
    }
   ],
   "source": [
    "# Python program for a queue data structure with sorting functionality\n",
    "class Queue:\n",
    "    def __init__(self):\n",
    "        self.qu = []\n",
    "        \n",
    "    def enq(self, item):\n",
    "        self.qu.append(item)\n",
    "        \n",
    "    def dq(self):\n",
    "        if len(self.qu) == 0:\n",
    "            print(\"Queue is empty\")\n",
    "        else:\n",
    "            item = self.qu.pop(0)\n",
    "            print(\"Dequeued item:\", item)\n",
    "       \n",
    "    def display(self):\n",
    "        if len(self.qu) == 0:\n",
    "            print(\"Queue is empty.\")\n",
    "        else:\n",
    "            print(\"Queue content:\", self.qu)\n",
    "\n",
    "    # Function to sort the queue using recursion\n",
    "    def sortQueue(self):\n",
    "        def pushInQueue(queue, temp, qsize):\n",
    "            if len(queue) == 0 or qsize == 0:\n",
    "                queue.append(temp)\n",
    "                return\n",
    "            if temp <= queue[0]:\n",
    "                queue.append(temp)\n",
    "                for _ in range(qsize):\n",
    "                    queue.append(queue.pop(0))\n",
    "            else:\n",
    "                queue.append(queue.pop(0))\n",
    "                pushInQueue(queue, temp, qsize - 1)\n",
    "\n",
    "        def recursiveSort(queue):\n",
    "            if len(queue) == 0:\n",
    "                return\n",
    "            temp = queue.pop(0)\n",
    "            recursiveSort(queue)\n",
    "            pushInQueue(queue, temp, len(queue))\n",
    "\n",
    "        recursiveSort(self.qu)\n",
    "        print(\"Queue sorted.\")\n",
    "\n",
    "# Menu-driven program\n",
    "def menu():\n",
    "    print(\"\\nChoose operation:\")\n",
    "    print(\"1. Enqueue\")\n",
    "    print(\"2. Dequeue\")\n",
    "    print(\"3. Display\")\n",
    "    print(\"4. Sort Queue\")\n",
    "    print(\"5. Exit\")\n",
    "       \n",
    "qu1 = Queue()\n",
    "while True:\n",
    "    menu()\n",
    "    choice = int(input(\"Enter choice: \"))\n",
    "    if choice == 1:\n",
    "        data = int(input(\"Enter data: \"))\n",
    "        qu1.enq(data)\n",
    "    elif choice == 2:\n",
    "        qu1.dq()\n",
    "    elif choice == 3:\n",
    "        qu1.display()\n",
    "    elif choice == 4:\n",
    "        qu1.sortQueue()\n",
    "    elif choice == 5:\n",
    "        print(\"Exiting...\")\n",
    "        break\n",
    "    else:\n",
    "        print(\"Invalid choice.\")\n"
   ]
  },
  {
   "cell_type": "code",
   "execution_count": 6,
   "id": "66e9edb6-fbf5-472b-9d10-a7d2fb00bc47",
   "metadata": {},
   "outputs": [
    {
     "name": "stdin",
     "output_type": "stream",
     "text": [
      "Enter a hexadecimal number:  15\n"
     ]
    },
    {
     "name": "stdout",
     "output_type": "stream",
     "text": [
      "00010101\n"
     ]
    }
   ],
   "source": [
    "#hexa to binary\n",
    "def chartobin(hex_char):\n",
    "    hexdict  = {\n",
    "        '0': '0000', '1': '0001', '2': '0010', '3': '0011',\n",
    "        '4': '0100', '5': '0101', '6': '0110', '7': '0111',\n",
    "        '8': '1000', '9': '1001', 'A': '1010', 'B': '1011',\n",
    "        'C': '1100', 'D': '1101', 'E': '1110', 'F': '1111'\n",
    "         }\n",
    "    return hexdict[hex_char.upper()]\n",
    "    \n",
    "def hextobin(hexnum):\n",
    "    if len(hexnum) == 0:\n",
    "        return \"\"\n",
    "    bin1 = chartobin(hexnum[0])\n",
    "    return bin1 + hextobin(hexnum[1:])\n",
    "    \n",
    "hexnum = input(\"Enter a hexadecimal number: \")\n",
    "binnum = hextobin(hexnum.upper())\n",
    "print(binnum)    "
   ]
  },
  {
   "cell_type": "code",
   "execution_count": 43,
   "id": "1368e313-e4f9-447a-b06d-8353566554e9",
   "metadata": {},
   "outputs": [
    {
     "name": "stdin",
     "output_type": "stream",
     "text": [
      "Enter a octal number:  57\n"
     ]
    },
    {
     "name": "stdout",
     "output_type": "stream",
     "text": [
      "Binary representation of 57: 101111\n"
     ]
    }
   ],
   "source": [
    "#2. Write a Python program to convert octal to binary number using recursion.\n",
    "def oct_char_to_binary(oct_char):\n",
    "    octdict = {\n",
    "        '0': '000', '1': '001', '2': '010', '3': '011',\n",
    "        '4': '100', '5': '101', '6': '110', '7': '111'\n",
    "    }\n",
    "    return octdict[oct_char.upper()]\n",
    "    \n",
    "def oct_to_binary(oct_num):\n",
    "    if len(oct_num) == 0:\n",
    "        return \"\"\n",
    "\n",
    "    # Convert the first character to binary using the helper function\n",
    "    first_binary = oct_char_to_binary(oct_num[0])\n",
    "\n",
    "    # Recursively process the rest of the string\n",
    "    return first_binary + oct_to_binary(oct_num[1:])\n",
    "\n",
    "# Example usage\n",
    "oct_number = input(\"Enter a octal number: \")\n",
    "try:\n",
    "    binary_number = oct_to_binary(oct_number.upper())\n",
    "    print(f\"Binary representation of {oct_number}: {binary_number}\")\n",
    "except KeyError:\n",
    "    print(\"Invalid octal number.\")\n",
    "\n",
    "    \n"
   ]
  },
  {
   "cell_type": "code",
   "execution_count": 30,
   "id": "349244a0-f12e-4def-a591-861251862af9",
   "metadata": {},
   "outputs": [
    {
     "name": "stdin",
     "output_type": "stream",
     "text": [
      "Enter the first binary number:  1001\n",
      "Enter the second binary number:  1001\n"
     ]
    },
    {
     "name": "stdout",
     "output_type": "stream",
     "text": [
      "The sum of 1001 and 1001 is: 10010\n"
     ]
    }
   ],
   "source": [
    "#3. Write a Python program to add two binary numbers.(input and output both needs to be in binary).\n",
    "#\teg: \tInput: a = \"1101\", b = \"100\"\n",
    "#\t\tOutput: 10001\n",
    "def add_binary(bin1, bin2):\n",
    "\n",
    "    def binary_to_decimal(binary):\n",
    "        decimal = 0\n",
    "        for i, bit in enumerate(reversed(binary)):\n",
    "            decimal += int(bit) * (2 ** i)\n",
    "        return decimal\n",
    "\n",
    "    def decimal_to_binary(decimal):\n",
    "        if decimal == 0:\n",
    "            return \"0\"\n",
    "        binary = \"\"\n",
    "        while decimal > 0:\n",
    "            binary = str(decimal % 2) + binary\n",
    "            decimal //= 2\n",
    "        return binary\n",
    "\n",
    "    decimal_sum = binary_to_decimal(bin1) + binary_to_decimal(bin2)\n",
    "    return decimal_to_binary(decimal_sum)\n",
    "\n",
    "\n",
    "binary1 = input(\"Enter the first binary number: \")\n",
    "binary2 = input(\"Enter the second binary number: \")\n",
    "try:\n",
    "    result = add_binary(binary1, binary2)\n",
    "    print(f\"The sum of {binary1} and {binary2} is: {result}\")\n",
    "except ValueError:\n",
    "    print(\"Invalid binary input. Please enter valid binary numbers.\")\n"
   ]
  },
  {
   "cell_type": "code",
   "execution_count": 42,
   "id": "0c52eeeb-8fee-4cc0-b4b5-433b892af600",
   "metadata": {},
   "outputs": [
    {
     "name": "stdin",
     "output_type": "stream",
     "text": [
      "Enter the first integer:  1\n",
      "Enter the second integer:  0\n"
     ]
    },
    {
     "name": "stdout",
     "output_type": "stream",
     "text": [
      "Bitwise operation results:\n",
      "AND: 0\n",
      "OR: 1\n",
      "XOR: 1\n",
      "NOT a: -2\n",
      "NOT b: -1\n"
     ]
    }
   ],
   "source": [
    "def bitwise_operations(a, b):\n",
    "    print(\"Bitwise operation results:\")\n",
    "    print(f\"AND: {a & b}\")\n",
    "    print(f\"OR: {a | b}\")\n",
    "    print(f\"XOR: {a ^ b}\")\n",
    "    print(f\"NOT a: {~a}\")\n",
    "    print(f\"NOT b: {~b}\")\n",
    "\n",
    "try:\n",
    "    num1 = int(input(\"Enter the first integer: \"))\n",
    "    num2 = int(input(\"Enter the second integer: \"))\n",
    "    bitwise_operations(num1, num2)\n",
    "except ValueError:\n",
    "    print(\"Invalid input. Please enter valid integers.\")\n"
   ]
  },
  {
   "cell_type": "code",
   "execution_count": 33,
   "id": "0d6fc0a3-f006-46d4-845c-fc2abc2015bc",
   "metadata": {},
   "outputs": [
    {
     "name": "stdin",
     "output_type": "stream",
     "text": [
      "Enter the first hexadecimal number:  66\n",
      "Enter the second hexadecimal number:  33\n"
     ]
    },
    {
     "name": "stdout",
     "output_type": "stream",
     "text": [
      "Binary subtraction result: 110011\n"
     ]
    }
   ],
   "source": [
    "#5. Write a Python program to perform binary substraction on input given in hexadecimal format.\n",
    "\n",
    "def binary_subtraction(a, b):\n",
    "    hexdict = {\n",
    "            \n",
    "           '0':'0000','1':'0001','2':'0010','3':'0011',\n",
    "           '4':'0100','5':'0101','6':'0110','7':'0111',\n",
    "           '8':'1000','9':'1001','A':'1010','B':'1011',\n",
    "           'C':'1100','D':'1101','E':'1110','F':'1111'}\n",
    "    def hex_to_bin(hex_num):\n",
    "        \n",
    "        bina=\"\"\n",
    "        for char in hex_num.upper():\n",
    "            bina +=hexdict[char]\n",
    "        return bina\n",
    "\n",
    "    bin1 = hex_to_bin(a)\n",
    "    bin2 = hex_to_bin(b)\n",
    "   \n",
    "\n",
    "    # Pad the shorter binary number with leading zeros\n",
    "    max_len = max(len(bin1), len(bin2))\n",
    "    bin1 = bin1.zfill(max_len)\n",
    "    bin2 = bin2.zfill(max_len)\n",
    "\n",
    "    # Initialize the result and borrow\n",
    "    result = ''\n",
    "    borrow = 0\n",
    "\n",
    "    # Perform manual binary subtraction from right to left\n",
    "    for i in range(max_len - 1, -1, -1):\n",
    "        bit1 = int(bin1[i])\n",
    "        bit2 = int(bin2[i]) + borrow\n",
    "\n",
    "        if bit1 < bit2:\n",
    "            result = str(bit1 + 2 - bit2) + result\n",
    "            borrow = 1\n",
    "        else:\n",
    "            result = str(bit1 - bit2) + result\n",
    "            borrow = 0\n",
    "    return result       \n",
    "\n",
    "# Input\n",
    "a = input(\"enter dex1: \")  # Hexadecimal input\n",
    "b = input(\"enter hex2: \")  # Hexadecimal input\n",
    "\n",
    "# Perform binary subtraction\n",
    "result = binary_subtraction(a, b)\n",
    "\n",
    "\n",
    "\n",
    "print(f\"Binary subtraction result of {a} - {b}: {result}\")\n",
    "   \n"
   ]
  },
  {
   "cell_type": "code",
   "execution_count": 36,
   "id": "0749f44c-6c18-48a7-9c74-1b1df2a45580",
   "metadata": {},
   "outputs": [
    {
     "name": "stdin",
     "output_type": "stream",
     "text": [
      "Enter an expression to check for balanced parentheses:  {{[)(]}}\n"
     ]
    },
    {
     "name": "stdout",
     "output_type": "stream",
     "text": [
      "The expression does not have balanced parentheses.\n"
     ]
    }
   ],
   "source": [
    "#6. Write a Python program to check balanced parenthesis. (with proper error handling)\n",
    "def is_balanced_parentheses(expression):\n",
    "    \n",
    "    stack = []\n",
    "    parentheses_map = {')': '(', '}': '{', ']': '['}\n",
    "\n",
    "    for char in expression:\n",
    "        if char in parentheses_map.values():\n",
    "            stack.append(char)  # Push opening brackets onto the stack\n",
    "        elif char in parentheses_map.keys():\n",
    "            if stack and stack[-1] == parentheses_map[char]:   #last elem of stack and currt should match\n",
    "                stack.pop()  # Pop the matching opening bracket\n",
    "            else:\n",
    "                return False  # Mismatch or unbalanced closing bracket\n",
    "\n",
    "    return len(stack) == 0  # Stack should be empty if balanced\n",
    "\n",
    "# Example usage\n",
    "if __name__ == \"__main__\":\n",
    "    try:\n",
    "        expr = input(\"Enter an expression to check for balanced parentheses: \")\n",
    "        if not expr:\n",
    "            raise ValueError(\"Input cannot be empty.\")\n",
    "\n",
    "        if is_balanced_parentheses(expr):\n",
    "            print(\"The expression has balanced parentheses.\")\n",
    "        else:\n",
    "            print(\"The expression does not have balanced parentheses.\")\n",
    "    except ValueError as e:\n",
    "        print(e)\n",
    "    except Exception as e:\n",
    "        print(f\"An unexpected error occurred: {e}\")\n"
   ]
  },
  {
   "cell_type": "code",
   "execution_count": 39,
   "id": "ffbda832-f129-46b9-8a3a-184f28c73f77",
   "metadata": {},
   "outputs": [
    {
     "name": "stdout",
     "output_type": "stream",
     "text": [
      "Random color hex: #63583c\n",
      "Random alphabetical string: ZQWHHYUp\n",
      "Random value between 10 and 100: 71\n",
      "Random multiple of 7 between 0 and 70: 14\n"
     ]
    }
   ],
   "source": [
    "#1. Write a Python program to generate a random color hex, a random alphabetical string, random value between two integers (inclusive) and a random multiple of 7 between 0 and 70. Use random.randint()\n",
    "\n",
    "import random\n",
    "import string\n",
    "\n",
    "def random_color_hex():\n",
    "    return \"#{:02x}{:02x}{:02x}\".format(random.randint(0, 255), random.randint(0, 255), random.randint(0, 255))\n",
    "    \n",
    "def randalph(length=8):\n",
    "    return ''.join(random.choices(string.ascii_letters, k=length))\n",
    "\n",
    "def randval(min_value, max_value):\n",
    "    return random.randint(min_value, max_value)\n",
    "\n",
    "def randmul():\n",
    "    return random.randint(0, 10) * 7\n",
    "    \n",
    "print(\"Random color hex:\", random_color_hex())\n",
    "print(\"Random alphabetical string:\", random_alphabetical_string())\n",
    "print(\"Random value between 10 and 100:\", random_value_between(10, 100))\n",
    "print(\"Random multiple of 7 between 0 and 70:\", random_multiple_of_7())\n"
   ]
  },
  {
   "cell_type": "code",
   "execution_count": 40,
   "id": "e65f6042-792a-48f7-9ba3-ad03e5f0f308",
   "metadata": {},
   "outputs": [
    {
     "name": "stdout",
     "output_type": "stream",
     "text": [
      "Random from list: 1\n",
      "Random from set: 40\n",
      "Random from dictionary value: 100\n",
      "Random file from directory: practice.ipynb\n"
     ]
    }
   ],
   "source": [
    "#2. Write a Python program to select a random element from a list, set, dictionary-value, and file from a directory. Use random.choice().\n",
    "\n",
    "import random\n",
    "import os\n",
    "\n",
    "# Select a random element from a list\n",
    "def random_from_list(input_list):\n",
    "    return random.choice(input_list)\n",
    "\n",
    "# Select a random element from a set\n",
    "def random_from_set(input_set):\n",
    "    return random.choice(list(input_set))  # Convert set to list for random.choice()\n",
    "\n",
    "# Select a random value from a dictionary\n",
    "def random_from_dict(input_dict):\n",
    "    return random.choice(list(input_dict.values()))  # Convert dict values to list\n",
    "\n",
    "# Select a random file from a directory\n",
    "def random_from_directory(directory_path):\n",
    "    # Get all files in the directory\n",
    "    files = [f for f in os.listdir(directory_path) if os.path.isfile(os.path.join(directory_path, f))]\n",
    "    return random.choice(files)  # Select a random file\n",
    "\n",
    "# Example usage:\n",
    "if __name__ == \"__main__\":\n",
    "    # Example list, set, and dictionary\n",
    "    my_list = [1, 2, 3, 4, 5]\n",
    "    my_set = {10, 20, 30, 40, 50}\n",
    "    my_dict = {'a': 100, 'b': 200, 'c': 300}\n",
    "\n",
    "    # Directory path (adjust to your local directory)\n",
    "    directory_path = './'  # Assuming the current directory contains some files\n",
    "\n",
    "    # Display random selections\n",
    "    print(\"Random from list:\", random_from_list(my_list))\n",
    "    print(\"Random from set:\", random_from_set(my_set))\n",
    "    print(\"Random from dictionary value:\", random_from_dict(my_dict))\n",
    "    print(\"Random file from directory:\", random_from_directory(directory_path))\n"
   ]
  },
  {
   "cell_type": "code",
   "execution_count": 41,
   "id": "39040c47-7e73-4603-984b-b883447ab634",
   "metadata": {},
   "outputs": [
    {
     "name": "stdout",
     "output_type": "stream",
     "text": [
      "Current date and time: 2024-12-26 20:41:03.889659\n",
      "Current year: 2024\n",
      "Month of year: 12\n",
      "Week number of the year: 52\n",
      "Weekday of the week: 3\n",
      "Day of the year: 361\n",
      "Day of the month: 26\n",
      "Day of the week: Thursday\n"
     ]
    }
   ],
   "source": [
    "\"\"\"3. Write a Python script to display the various Date Time formats -(using datetime module)\n",
    "\ta) Current date and time\n",
    "\tb) Current year\n",
    "\tc) Month of year\n",
    "\td) Week number of the year\n",
    "\te) Weekday of the week\n",
    "\tf) Day of year\n",
    "\tg) Day of the month\n",
    "\th) Day of week\n",
    "    \"\"\"\n",
    "import datetime\n",
    "\n",
    "# Get the current date and time\n",
    "current_datetime = datetime.datetime.now()\n",
    "\n",
    "# a) Current date and time\n",
    "print(\"Current date and time:\", current_datetime)\n",
    "\n",
    "# b) Current year\n",
    "current_year = current_datetime.year\n",
    "print(\"Current year:\", current_year)\n",
    "\n",
    "# c) Month of year\n",
    "current_month = current_datetime.month\n",
    "print(\"Month of year:\", current_month)\n",
    "\n",
    "# d) Week number of the year\n",
    "week_number = current_datetime.isocalendar()[1]\n",
    "print(\"Week number of the year:\", week_number)\n",
    "\n",
    "# e) Weekday of the week (0=Monday, 6=Sunday)\n",
    "weekday = current_datetime.weekday()\n",
    "print(\"Weekday of the week:\", weekday)\n",
    "\n",
    "# f) Day of year\n",
    "day_of_year = current_datetime.timetuple().tm_yday\n",
    "print(\"Day of the year:\", day_of_year)\n",
    "\n",
    "# g) Day of the month\n",
    "day_of_month = current_datetime.day\n",
    "print(\"Day of the month:\", day_of_month)\n",
    "\n",
    "# h) Day of week (e.g., Monday, Tuesday, etc.)\n",
    "day_of_week = current_datetime.strftime(\"%A\")\n",
    "print(\"Day of the week:\", day_of_week)\n"
   ]
  },
  {
   "cell_type": "code",
   "execution_count": 9,
   "id": "0e26e280-155d-48cc-89c3-53a4be5693ae",
   "metadata": {},
   "outputs": [
    {
     "name": "stdin",
     "output_type": "stream",
     "text": [
      "enter nu of persons:  2\n"
     ]
    },
    {
     "name": "stdout",
     "output_type": "stream",
     "text": [
      "enter details for p  1  \n"
     ]
    },
    {
     "name": "stdin",
     "output_type": "stream",
     "text": [
      "Enter first name:  shem\n",
      "Enter last name:  visg\n",
      "Enter address:  sachin\n",
      "Enter city:  surat\n",
      "Enter state:  gijaat\n",
      "Enter zip code:  39202\n",
      "Enter phone number:  324324\n",
      "Enter day of birth:  20\n",
      "Enter month of birth:  06\n",
      "Enter year of birth:  2003\n"
     ]
    },
    {
     "name": "stdout",
     "output_type": "stream",
     "text": [
      "enter details for p  2  \n"
     ]
    },
    {
     "name": "stdin",
     "output_type": "stream",
     "text": [
      "Enter first name:  sah\n",
      "Enter last name:  ett\n",
      "Enter address:  ggg\n",
      "Enter city:  rfrf\n",
      "Enter state:  edrt\n",
      "Enter zip code:  334\n",
      "Enter phone number:  2435765\n",
      "Enter day of birth:  45\n",
      "Enter month of birth:  34\n",
      "Enter year of birth:  3255\n"
     ]
    },
    {
     "name": "stdout",
     "output_type": "stream",
     "text": [
      "for person:  1\n",
      "Name: shem visg\n",
      "Address: sachin, surat, gijaat, 39202\n",
      "Phone No: 324324\n",
      "DOB: 20/6/2003\n",
      "for person:  2\n",
      "Name: sah ett\n",
      "Address: ggg, rfrf, edrt, 334\n",
      "Phone No: 2435765\n",
      "DOB: 45/34/3255\n"
     ]
    }
   ],
   "source": [
    "\n",
    "class Person:\n",
    "    class DOB:\n",
    "        def __init__(self,day,month,year):\n",
    "           self.day = day\n",
    "           self.month = month\n",
    "           self.year = year\n",
    "    \n",
    "    def __init__(self,name,job,dob):\n",
    "        self.name = name\n",
    "        self.job = job\n",
    "        self.dob = dob\n",
    "        \n",
    "    def  getname(self):\n",
    "        return self.name\n",
    "    def getjob(self):\n",
    "        return self.job\n",
    "    def getdob(self):\n",
    "        return self.dob\n",
    "        \n",
    "    def create():\n",
    "        name = input(\"enter name\")\n",
    "        job = input(\"neter job\")\n",
    "        day = int(input(\"enter day of birth: \"))\n",
    "        month = int(input(\"enter month of birth: \"))\n",
    "        year = int(input(\"enter year of birth: \"))\n",
    "        dob = Person.DOB(day,month,year)\n",
    "        return Person(name,job,dob)\n",
    "\n",
    "    def display(self):\n",
    "        print(\"name: \",self.getname())\n",
    "        print(\"job: \",self.getjob())\n",
    "        dob = self.getdob()\n",
    "        print(\"dob: \",dob.day,\"/\",dob.month,\"/\",dob.year)\n",
    "persons = []        \n",
    "n = int(input(\"enter no. of persons: \"))\n",
    "for i in range(n):\n",
    "    print(\"for person \",i+1,\": \")\n",
    "    person = Person.create()\n",
    "    persons.append(person)\n",
    "j= 0\n",
    "for i in persons:\n",
    "    print(\"for person \",j+1,\": \")\n",
    "    i.display()\n",
    "    j  = j+1\n",
    "    \n",
    "        \n",
    "        \n",
    "        \n",
    "        \n"
   ]
  },
  {
   "cell_type": "code",
   "execution_count": 4,
   "id": "410f36d2-9cb9-4208-83d0-ff4a104db0c5",
   "metadata": {},
   "outputs": [
    {
     "name": "stdin",
     "output_type": "stream",
     "text": [
      "enetr binary num:  10\n"
     ]
    },
    {
     "name": "stdout",
     "output_type": "stream",
     "text": [
      "2\n"
     ]
    }
   ],
   "source": [
    "def bin_to_deci(bina):\n",
    "    deci = 0\n",
    "    i = 0\n",
    "    for bit in (reversed(bina)):\n",
    "        deci = deci + int(bit) *(2 ** i)\n",
    "        i = i  +1\n",
    "    return deci\n",
    "n = input(\"enetr binary num: \")\n",
    "print(bin_to_deci(n))"
   ]
  },
  {
   "cell_type": "code",
   "execution_count": 5,
   "id": "5b6307cd-41ae-438a-859c-216a23c81c5e",
   "metadata": {},
   "outputs": [
    {
     "name": "stdin",
     "output_type": "stream",
     "text": [
      "enetr num 10\n"
     ]
    },
    {
     "name": "stdout",
     "output_type": "stream",
     "text": [
      "1010\n"
     ]
    }
   ],
   "source": [
    "def deci_to_bin(deci):\n",
    "    if deci == 0:\n",
    "        return \"0\"\n",
    "    bina = \"\"\n",
    "    while deci > 0:\n",
    "        bina = str(deci%2) + bina \n",
    "        deci = deci //2\n",
    "    return bina\n",
    "n = int(input(\"enetr num\"))\n",
    "print(deci_to_bin(n))"
   ]
  },
  {
   "cell_type": "code",
   "execution_count": 7,
   "id": "e10c078f-5700-43be-8157-e24ea838fba7",
   "metadata": {},
   "outputs": [
    {
     "name": "stdout",
     "output_type": "stream",
     "text": [
      "[1, 3, 6, 6, 7]\n"
     ]
    }
   ],
   "source": [
    "##sort stack recusrsively\n",
    "def sorts(stack):\n",
    "    if len(stack) == 0:\n",
    "        return\n",
    "    top = stack.pop()\n",
    "    sorts(stack)\n",
    "    pushs(stack, top)\n",
    "\n",
    "def pushs(stack, top):\n",
    "    if len(stack) == 0:\n",
    "        stack.append(top)\n",
    "        return\n",
    "    if top > stack[-1]:\n",
    "        stack.append(top)\n",
    "    else:\n",
    "        temp = stack.pop()\n",
    "        pushs(stack, top)\n",
    "        stack.append(temp)\n",
    "\n",
    "stack = [1, 3, 6, 7, 6]\n",
    "sorts(stack)\n",
    "print(stack)\n"
   ]
  },
  {
   "cell_type": "code",
   "execution_count": null,
   "id": "53c3ad92-71ed-4bc6-bcfa-ce4173ff4237",
   "metadata": {},
   "outputs": [],
   "source": []
  }
 ],
 "metadata": {
  "kernelspec": {
   "display_name": "Python 3 (ipykernel)",
   "language": "python",
   "name": "python3"
  },
  "language_info": {
   "codemirror_mode": {
    "name": "ipython",
    "version": 3
   },
   "file_extension": ".py",
   "mimetype": "text/x-python",
   "name": "python",
   "nbconvert_exporter": "python",
   "pygments_lexer": "ipython3",
   "version": "3.13.0"
  }
 },
 "nbformat": 4,
 "nbformat_minor": 5
}
